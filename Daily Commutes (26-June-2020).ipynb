{
 "cells": [
  {
   "cell_type": "code",
   "execution_count": 1,
   "metadata": {},
   "outputs": [],
   "source": [
    "import os \n",
    "import numpy as np\n",
    "import pandas as pd\n",
    "import matplotlib.pyplot as plt\n",
    "import seaborn as sns\n",
    "import warnings\n",
    "import glob\n",
    "import calendar\n",
    "\n",
    "pd.options.display.max_columns = None\n",
    "pd.options.display.max_rows = None\n",
    "warnings.filterwarnings('ignore')\n",
    "\n",
    "os.chdir(\"E:/Trinity/Dissertation/Sem 3/models/data/\") "
   ]
  },
  {
   "cell_type": "code",
   "execution_count": 85,
   "metadata": {},
   "outputs": [],
   "source": [
    "#Vehicle types based on class id\n",
    "def addVehicleType(vehicleclassid):\n",
    "    if vehicleclassid in (6,16,19,59,74,77,85,90,96,98,105):\n",
    "        return \"Motor Cycle\"\n",
    "    elif vehicleclassid in (1,10,11,28,40,47,50,52,65,66,69,80,100,101):\n",
    "        return \"Motor Car\"\n",
    "    elif vehicleclassid in (2,12,20,29,30,44,45,68,70,76,81,86,107):\n",
    "        return \"Bus (L)\"\n",
    "    elif vehicleclassid in (3,13,21,54,55,57,78,79,82,87,108):\n",
    "        return \"Bus (H)\"\n",
    "    elif vehicleclassid in (4,14,22,31,32,37,49,51,64,71,83,92,99,104):\n",
    "        return \"LGV\"\n",
    "    elif vehicleclassid in (7,15,23,33,34,41,42,46,67,72,84,88,94):\n",
    "        return \"HGV (2 Axles)\"\n",
    "    elif vehicleclassid in (8,17,24,56,58,60,61,75,95,102):\n",
    "        return \"HGV (3 Axles)\"\n",
    "    elif vehicleclassid in (5,18,25,35,36,38,43,48,53,73,97):\n",
    "        return \"HGV (4 Axles)\"\n",
    "    else:\n",
    "        return \"NA\" "
   ]
  },
  {
   "cell_type": "markdown",
   "metadata": {},
   "source": [
    "### From TollData"
   ]
  },
  {
   "cell_type": "code",
   "execution_count": 2,
   "metadata": {},
   "outputs": [],
   "source": [
    "xls = pd.ExcelFile('E:/Trinity/Dissertation/Sem 3/Columns.xlsx')\n",
    "col_names = list(pd.read_excel(xls).columns)"
   ]
  },
  {
   "cell_type": "code",
   "execution_count": 77,
   "metadata": {},
   "outputs": [],
   "source": [
    "date=[\"2019-10-14.csv\",\"2019-10-15.csv\",\"2019-10-16.csv\",\"2019-10-17.csv\",\"2019-10-18.csv\",\"2019-10-19.csv\",\"2019-10-20.csv\"]"
   ]
  },
  {
   "cell_type": "code",
   "execution_count": 78,
   "metadata": {},
   "outputs": [
    {
     "name": "stdout",
     "output_type": "stream",
     "text": [
      "0\n",
      "1\n",
      "2\n",
      "3\n",
      "4\n",
      "5\n",
      "6\n"
     ]
    }
   ],
   "source": [
    "# 0=Monday, 1=Tuesday ...\n",
    "unique_ids = []\n",
    "for i in range(0,7):\n",
    "    print(i)\n",
    "    data = pd.read_csv(date[i], names = col_names)\n",
    "    data = data[data[\"entryplazaid\"]==1420]\n",
    "    unique_ids.append(set(data[\"tagid\"]))\n"
   ]
  },
  {
   "cell_type": "code",
   "execution_count": 79,
   "metadata": {},
   "outputs": [
    {
     "name": "stdout",
     "output_type": "stream",
     "text": [
      "20446\n",
      "21353\n",
      "21523\n",
      "21887\n",
      "21097\n",
      "10580\n",
      "4232\n"
     ]
    }
   ],
   "source": [
    "print(len(unique_ids[0]))\n",
    "print(len(unique_ids[1]))\n",
    "print(len(unique_ids[2]))\n",
    "print(len(unique_ids[3]))\n",
    "print(len(unique_ids[4]))\n",
    "print(len(unique_ids[5]))\n",
    "print(len(unique_ids[0] & unique_ids[1] & unique_ids[2] & unique_ids[3] & unique_ids[4]))"
   ]
  },
  {
   "cell_type": "markdown",
   "metadata": {},
   "source": [
    "### Check for Bus (Buses will run everyday)"
   ]
  },
  {
   "cell_type": "code",
   "execution_count": 86,
   "metadata": {},
   "outputs": [],
   "source": [
    "date=[\"2019-10-14.csv\",\"2019-10-15.csv\",\"2019-10-16.csv\",\"2019-10-17.csv\",\"2019-10-18.csv\",\"2019-10-19.csv\",\"2019-10-20.csv\"]"
   ]
  },
  {
   "cell_type": "code",
   "execution_count": 87,
   "metadata": {},
   "outputs": [
    {
     "name": "stdout",
     "output_type": "stream",
     "text": [
      "0\n",
      "1\n",
      "2\n",
      "3\n",
      "4\n",
      "5\n",
      "6\n"
     ]
    }
   ],
   "source": [
    "# 0=Monday, 1=Tuesday ...\n",
    "unique_ids = []\n",
    "for i in range(0,7):\n",
    "    print(i)\n",
    "    data = pd.read_csv(date[i], names = col_names)\n",
    "    data[\"vehicleType\"] = data[\"vehicleclassid\"].apply(addVehicleType)\n",
    "    data = data[(data[\"entryplazaid\"]==1420) & (data[\"vehicleType\"].str.startswith('Bus'))]\n",
    "    unique_ids.append(set(data[\"tagid\"]))"
   ]
  },
  {
   "cell_type": "code",
   "execution_count": 94,
   "metadata": {},
   "outputs": [
    {
     "name": "stdout",
     "output_type": "stream",
     "text": [
      "32\n",
      "72\n",
      "75\n",
      "66\n",
      "75\n",
      "63\n",
      "15\n"
     ]
    }
   ],
   "source": [
    "print(len(unique_ids[0]))\n",
    "print(len(unique_ids[1]))\n",
    "print(len(unique_ids[2]))\n",
    "print(len(unique_ids[3]))\n",
    "print(len(unique_ids[4]))\n",
    "print(len(unique_ids[5]))\n",
    "print(len(unique_ids[0] & unique_ids[1] & unique_ids[2] & unique_ids[3] & unique_ids[4]))"
   ]
  },
  {
   "cell_type": "code",
   "execution_count": null,
   "metadata": {},
   "outputs": [],
   "source": [
    "data = pd.read_csv(\"2019-10-14.csv\", names = col_names)\n",
    "data[\"vehicleType\"] = data[\"vehicleclassid\"].apply(addVehicleType)\n",
    "journeys = data[data['tagid'].duplicated(keep=False)]\n",
    "data = data[(data[\"entryplazaid\"]==1420) & (data[\"vehicleType\"].str.startswith('Bus'))]\n",
    "unique_ids.append(set(data[\"tagid\"]))"
   ]
  }
 ],
 "metadata": {
  "kernelspec": {
   "display_name": "Python 3",
   "language": "python",
   "name": "python3"
  },
  "language_info": {
   "codemirror_mode": {
    "name": "ipython",
    "version": 3
   },
   "file_extension": ".py",
   "mimetype": "text/x-python",
   "name": "python",
   "nbconvert_exporter": "python",
   "pygments_lexer": "ipython3",
   "version": "3.7.7"
  }
 },
 "nbformat": 4,
 "nbformat_minor": 4
}
