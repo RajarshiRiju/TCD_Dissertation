{
 "cells": [
  {
   "cell_type": "code",
   "execution_count": 14,
   "metadata": {},
   "outputs": [],
   "source": [
    "import os \n",
    "import numpy as np\n",
    "import pandas as pd\n",
    "import matplotlib.pyplot as plt\n",
    "import seaborn as sns\n",
    "import warnings\n",
    "import glob\n",
    "import calendar\n",
    "import random\n",
    "import statistics\n",
    "\n",
    "pd.options.display.max_columns = None\n",
    "pd.options.display.max_rows = None\n",
    "warnings.filterwarnings('ignore')\n",
    "\n",
    "os.chdir(\"E:/Trinity/Dissertation/Sem 3/models/data/\") "
   ]
  },
  {
   "cell_type": "code",
   "execution_count": 17,
   "metadata": {},
   "outputs": [
    {
     "name": "stdout",
     "output_type": "stream",
     "text": [
      "Iteration - 19"
     ]
    },
    {
     "data": {
      "text/plain": [
       "429.95"
      ]
     },
     "execution_count": 17,
     "metadata": {},
     "output_type": "execute_result"
    }
   ],
   "source": [
    "files = glob.glob(\"F:/counterData/*.csv\")\n",
    "count = []\n",
    "for i in range(0,20):\n",
    "    print(\"\\rIteration - \" + str(i), end='')\n",
    "    num = random.randint(1,len(files))\n",
    "    ctr = pd.read_csv(files[num])\n",
    "    ctr = ctr[(ctr[\"cosit\"]==1508) & (ctr[\"lanename\"].str.startswith(\"Southbound\")) & (ctr[\"classname\"] == 'BUS')]\n",
    "    count.append(len(ctr))\n",
    "\n",
    "    \n",
    "statistics.mean(count)\n",
    "\n",
    "#ctr = pd.read_csv('F:/counterData\\\\2019-01-03.csv')"
   ]
  },
  {
   "cell_type": "code",
   "execution_count": null,
   "metadata": {},
   "outputs": [],
   "source": []
  },
  {
   "cell_type": "code",
   "execution_count": 20,
   "metadata": {},
   "outputs": [],
   "source": [
    "#Vehicle types based on class id\n",
    "def addVehicleType(vehicleclassid):\n",
    "    if vehicleclassid in (6,16,19,59,74,77,85,90,96,98,105):\n",
    "        return \"Motor Cycle\"\n",
    "    elif vehicleclassid in (1,10,11,28,40,47,50,52,65,66,69,80,100,101):\n",
    "        return \"Motor Car\"\n",
    "    elif vehicleclassid in (2,12,20,29,30,44,45,68,70,76,81,86,107):\n",
    "        return \"Bus (L)\"\n",
    "    elif vehicleclassid in (3,13,21,54,55,57,78,79,82,87,108):\n",
    "        return \"Bus (H)\"\n",
    "    elif vehicleclassid in (4,14,22,31,32,37,49,51,64,71,83,92,99,104):\n",
    "        return \"LGV\"\n",
    "    elif vehicleclassid in (7,15,23,33,34,41,42,46,67,72,84,88,94):\n",
    "        return \"HGV (2 Axles)\"\n",
    "    elif vehicleclassid in (8,17,24,56,58,60,61,75,95,102):\n",
    "        return \"HGV (3 Axles)\"\n",
    "    elif vehicleclassid in (5,18,25,35,36,38,43,48,53,73,97):\n",
    "        return \"HGV (4 Axles)\"\n",
    "    else:\n",
    "        return \"NA\" "
   ]
  },
  {
   "cell_type": "code",
   "execution_count": 26,
   "metadata": {},
   "outputs": [
    {
     "name": "stdout",
     "output_type": "stream",
     "text": [
      "Iteration - 19   Filename - 2020-04-10.csv"
     ]
    },
    {
     "data": {
      "text/plain": [
       "107.15"
      ]
     },
     "execution_count": 26,
     "metadata": {},
     "output_type": "execute_result"
    }
   ],
   "source": [
    "xls = pd.ExcelFile('E:/Trinity/Dissertation/Sem 3/Columns.xlsx')\n",
    "col_names = list(pd.read_excel(xls).columns)\n",
    "files = glob.glob(\"*.csv\")\n",
    "count = []\n",
    "for i in range(0,20):\n",
    "    num = random.randint(1,len(files))\n",
    "    print(\"\\rIteration - \" + str(i) + \"   Filename - \" + str(files[num]), end='')\n",
    "    data = pd.read_csv(files[num], names = col_names)\n",
    "    data[\"vehicleType\"] = data[\"vehicleclassid\"].apply(addVehicleType)\n",
    "    data = data[(data[\"entryplazaid\"]==1420) & (data[\"vehicleType\"].str.startswith(\"Bus\"))]\n",
    "    count.append(len(data))\n",
    "\n",
    "    \n",
    "statistics.mean(count)\n",
    "\n",
    "#ctr = pd.read_csv('F:/counterData\\\\2019-01-03.csv')"
   ]
  },
  {
   "cell_type": "code",
   "execution_count": null,
   "metadata": {},
   "outputs": [],
   "source": []
  },
  {
   "cell_type": "code",
   "execution_count": 69,
   "metadata": {},
   "outputs": [
    {
     "data": {
      "image/png": "[encoded data removed]",
      "text/plain": [
       "<Figure size 432x432 with 1 Axes>"
      ]
     },
     "metadata": {},
     "output_type": "display_data"
    }
   ],
   "source": [
    "#sizes = [4500, 997, 74, 112, 6]\n",
    "sizes = [34337, 664, 1247, 253, 108]\n",
    "labels = [\"Cars\", \"HGV\", \"LGV\", \"Bus\", \"Motorcycle\"]\n",
    "colors = ['yellowgreen','gold','lightcoral', 'lightskyblue', 'gray']\n",
    "explode = (0.01, 0.05, 0.05, 0.05, 0.05)  # explode 1st slice\n",
    "plt.figure(figsize=(6,6)) \n",
    "\n",
    "plt.pie(sizes, explode=explode, labels=labels, colors=colors, autopct='%1.1f%%', shadow=True, startangle=0)\n",
    "\n",
    "plt.axis('equal')\n",
    "plt.show()"
   ]
  },
  {
   "cell_type": "code",
   "execution_count": null,
   "metadata": {},
   "outputs": [],
   "source": []
  }
 ],
 "metadata": {
  "kernelspec": {
   "display_name": "Python 3",
   "language": "python",
   "name": "python3"
  },
  "language_info": {
   "codemirror_mode": {
    "name": "ipython",
    "version": 3
   },
   "file_extension": ".py",
   "mimetype": "text/x-python",
   "name": "python",
   "nbconvert_exporter": "python",
   "pygments_lexer": "ipython3",
   "version": "3.7.7"
  }
 },
 "nbformat": 4,
 "nbformat_minor": 4
}
