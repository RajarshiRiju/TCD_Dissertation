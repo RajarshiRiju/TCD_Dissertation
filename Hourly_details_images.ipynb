{
 "cells": [
  {
   "cell_type": "code",
   "execution_count": 1,
   "metadata": {},
   "outputs": [],
   "source": [
    "import os\n",
    "import numpy as np\n",
    "import pandas as pd\n",
    "import matplotlib.pyplot as plt\n",
    "import seaborn as sns\n",
    "import warnings\n",
    "import glob\n",
    "import calendar\n",
    "\n",
    "pd.options.display.max_columns = None\n",
    "warnings.filterwarnings('ignore')\n",
    "\n",
    "os.chdir(\"E:/Trinity/Dissertation/Sem 3/models/data/\")"
   ]
  },
  {
   "cell_type": "code",
   "execution_count": 3,
   "metadata": {},
   "outputs": [],
   "source": [
    "# Get the name of the columns\n",
    "xls = pd.ExcelFile('E:/Trinity/Dissertation/Sem 3/Columns.xlsx')\n",
    "col_names = list(pd.read_excel(xls).columns)"
   ]
  },
  {
   "cell_type": "code",
   "execution_count": null,
   "metadata": {},
   "outputs": [],
   "source": []
  },
  {
   "cell_type": "code",
   "execution_count": 5,
   "metadata": {},
   "outputs": [],
   "source": [
    "# data = pd.read_csv(\"2019-04-09.csv\", names = col_names)   # Test reading a single file\n",
    "# print(len(data))       #148180\n",
    "# data.isnull().sum()    "
   ]
  },
  {
   "cell_type": "code",
   "execution_count": 2,
   "metadata": {},
   "outputs": [],
   "source": [
    "#Group Plaza IDs based on Toll\n",
    "def addTollName(plazaid):\n",
    "    if plazaid in (1416,1417):\n",
    "        return \"Limerick Tunnel\"\n",
    "    elif plazaid in (1415,2885,2886):    # 0 added as dummy ---- TO-DO\n",
    "        return \"M1\"\n",
    "    elif plazaid in (2862,2861):\n",
    "        return \"M3\"\n",
    "    elif plazaid in (2863,2864,2865,2866):\n",
    "        return \"M4\"\n",
    "    elif plazaid in (1420,1421):\n",
    "        return \"M50\"\n",
    "    elif plazaid in (1419,0):\n",
    "        return \"M7-M8\"\n",
    "    elif plazaid in (1423,0):\n",
    "        return \"Dublin Tunnel\"\n",
    "    elif plazaid in (1424,0):\n",
    "        return \"Eastlink\"\n",
    "    elif plazaid in (1422,0):\n",
    "        return \"N25\"\n",
    "    elif plazaid in (1418,0):\n",
    "        return \"N6\"\n",
    "    elif plazaid in (2869,2870):\n",
    "        return \"M8\"\n",
    "    else:\n",
    "        return \"--\"\n",
    "    "
   ]
  },
  {
   "cell_type": "code",
   "execution_count": 7,
   "metadata": {},
   "outputs": [],
   "source": [
    "files = glob.glob(\"*.csv\")[0:100]      #Let's do in batches, next [100:200], [200:300] . . . "
   ]
  },
  {
   "cell_type": "code",
   "execution_count": null,
   "metadata": {},
   "outputs": [],
   "source": [
    "time = [0,1,2,3,4,5,6,7,8,9,10,11,12,13,14,15,16,17,18,19,20,21,22,23]\n",
    "\n",
    "for num,file in enumerate(files):\n",
    "    data = pd.read_csv(file, names=col_names, na_values=['NULL'])\n",
    "    data[\"tollname\"] = data[\"entryplazaid\"].apply(addTollName)\n",
    "    tolls = data[\"tollname\"].unique()\n",
    "    date = file[:-4]\n",
    "\n",
    "    for toll in tolls:\n",
    "        print(f'\\rReading file - {num+1}/100   -  Scanning tollway - {toll}                    ', end='')\n",
    "        count_list = []\n",
    "        start = pd.to_datetime(file[:-4], format='%Y-%m-%d')\n",
    "        day = calendar.day_name[start.weekday()] + \"/\"\n",
    "        filepath = day + toll + \"/\"\n",
    "\n",
    "        df = data[data[\"tollname\"]==toll]\n",
    "        for i in range (0, 24):\n",
    "            end   = start + pd.offsets.DateOffset(hours=1)\n",
    "            count = pd.to_datetime(df[\"entrytransdt\"], format='%Y-%m-%d %H:%M:%S').between(start, end).sum()\n",
    "            count_list.append(count)\n",
    "            \n",
    "            # Write data into new CSV\n",
    "            # date, tollname, starttime, endtime, no_of_cars\n",
    "            with open(\"../hourly_details.csv\", 'a') as hd:\n",
    "                hd.write(file[:-4] + \",\" + toll + \",\" + str(start) + \",\" + str(end) + \",\" + str(count))\n",
    "                hd.write(\"\\n\")\n",
    "            \n",
    "            start = end\n",
    "            \n",
    "        plt.bar(time, count_list)\n",
    "        plt.xlabel('Time of day (in 00 hours)')\n",
    "        plt.ylabel('Number of cars')\n",
    "        plt.savefig('../images/' + filepath + file[:-3])\n",
    "        plt.clf()\n"
   ]
  },
  {
   "cell_type": "code",
   "execution_count": null,
   "metadata": {},
   "outputs": [],
   "source": [
    "files = glob.glob(\"*.csv\")[377:]      #Let's do in batches\n",
    "\n",
    "time = [0,1,2,3,4,5,6,7,8,9,10,11,12,13,14,15,16,17,18,19,20,21,22,23]\n",
    "\n",
    "for num,file in enumerate(files):\n",
    "    data = pd.read_csv(file, names=col_names, na_values=['NULL'])\n",
    "    data[\"tollname\"] = data[\"entryplazaid\"].apply(addTollName)\n",
    "    tolls = data[\"tollname\"].unique()\n",
    "    date = file[:-4]\n",
    "\n",
    "    for toll in tolls:\n",
    "        print(f'\\rReading file - {num+1}/100   -  Scanning tollway - {toll}                    ', end='')\n",
    "        count_list = []\n",
    "        start = pd.to_datetime(file[:-4], format='%Y-%m-%d')\n",
    "        day = calendar.day_name[start.weekday()] + \"/\"\n",
    "        filepath = day + toll + \"/\"\n",
    "\n",
    "        df = data[data[\"tollname\"]==toll]\n",
    "        for i in range (0, 24):\n",
    "            end   = start + pd.offsets.DateOffset(hours=1)\n",
    "            count = pd.to_datetime(df[\"entrytransdt\"], format='%Y-%m-%d %H:%M:%S').between(start, end).sum()\n",
    "            count_list.append(count)\n",
    "            \n",
    "            # Write data into new CSV\n",
    "            # date, tollname, starttime, endtime, no_of_cars\n",
    "            with open(\"../hourly_details.csv\", 'a') as hd:\n",
    "                hd.write(file[:-4] + \",\" + toll + \",\" + str(start) + \",\" + str(end) + \",\" + str(count))\n",
    "                hd.write(\"\\n\")\n",
    "            \n",
    "            start = end\n",
    "            \n",
    "        plt.bar(time, count_list)\n",
    "        plt.xlabel('Time of day (in 00 hours)')\n",
    "        plt.ylabel('Number of cars')\n",
    "        plt.savefig('../images/' + filepath + file[:-3])\n",
    "        plt.clf()\n"
   ]
  },
  {
   "cell_type": "code",
   "execution_count": null,
   "metadata": {},
   "outputs": [],
   "source": []
  },
  {
   "cell_type": "markdown",
   "metadata": {},
   "source": [
    "Read the new DataFrame"
   ]
  },
  {
   "cell_type": "code",
   "execution_count": null,
   "metadata": {},
   "outputs": [],
   "source": [
    "os.chdir(\"E:/Trinity/Dissertation/Sem 3/models/\")\n",
    "df = pd.read_csv(\"hourly_details.csv\")  "
   ]
  },
  {
   "cell_type": "code",
   "execution_count": null,
   "metadata": {},
   "outputs": [],
   "source": [
    "df"
   ]
  },
  {
   "cell_type": "code",
   "execution_count": null,
   "metadata": {
    "scrolled": true
   },
   "outputs": [],
   "source": [
    "summary(df)"
   ]
  },
  {
   "cell_type": "code",
   "execution_count": 15,
   "metadata": {},
   "outputs": [
    {
     "data": {
      "image/png": "[encoded data removed]",
      "text/plain": [
       "<Figure size 432x288 with 1 Axes>"
      ]
     },
     "metadata": {
      "needs_background": "light"
     },
     "output_type": "display_data"
    }
   ],
   "source": [
    "file = '2019-01-10.csv'\n",
    "time = [0,1,2,3,4,5,6,7,8,9,10,11,12,13,14,15,16,17,18,19,20,21,22,23]\n",
    "\n",
    "data = pd.read_csv(file, names=col_names, na_values=['NULL'])\n",
    "\n",
    "count_list = []\n",
    "start = pd.to_datetime(file[:-4], format='%Y-%m-%d')\n",
    "#day = calendar.day_name[start.weekday()] + \"/\"\n",
    "#filepath = day + toll + \"/\"\n",
    "\n",
    "df = data[data[\"entryplazaid\"]==1420]\n",
    "for i in range (0, 24):\n",
    "    end   = start + pd.offsets.DateOffset(hours=1)\n",
    "    count = pd.to_datetime(df[\"entrytransdt\"], format='%Y-%m-%d %H:%M:%S').between(start, end).sum()\n",
    "    count_list.append(count)\n",
    "\n",
    "    start = end\n",
    "\n",
    "plt.bar(time, count_list)\n",
    "plt.xlabel('Time of day (in 00 hours)')\n",
    "plt.ylabel('Number of cars')\n",
    "plt.show()"
   ]
  },
  {
   "cell_type": "code",
   "execution_count": 16,
   "metadata": {},
   "outputs": [
    {
     "data": {
      "image/png": "[encoded data removed]",
      "text/plain": [
       "<Figure size 432x288 with 1 Axes>"
      ]
     },
     "metadata": {
      "needs_background": "light"
     },
     "output_type": "display_data"
    }
   ],
   "source": [
    "file = '2019-01-10.csv'\n",
    "time = [0,1,2,3,4,5,6,7,8,9,10,11,12,13,14,15,16,17,18,19,20,21,22,23]\n",
    "\n",
    "data = pd.read_csv(file, names=col_names, na_values=['NULL'])\n",
    "\n",
    "count_list = []\n",
    "start = pd.to_datetime(file[:-4], format='%Y-%m-%d')\n",
    "#day = calendar.day_name[start.weekday()] + \"/\"\n",
    "#filepath = day + toll + \"/\"\n",
    "\n",
    "df = data[data[\"entryplazaid\"]==1421]\n",
    "for i in range (0, 24):\n",
    "    end   = start + pd.offsets.DateOffset(hours=1)\n",
    "    count = pd.to_datetime(df[\"entrytransdt\"], format='%Y-%m-%d %H:%M:%S').between(start, end).sum()\n",
    "    count_list.append(count)\n",
    "\n",
    "    start = end\n",
    "\n",
    "plt.bar(time, count_list)\n",
    "plt.xlabel('Time of day (in 00 hours)')\n",
    "plt.ylabel('Number of cars')\n",
    "plt.show()"
   ]
  },
  {
   "cell_type": "code",
   "execution_count": null,
   "metadata": {},
   "outputs": [],
   "source": []
  }
 ],
 "metadata": {
  "kernelspec": {
   "display_name": "Python 3",
   "language": "python",
   "name": "python3"
  },
  "language_info": {
   "codemirror_mode": {
    "name": "ipython",
    "version": 3
   },
   "file_extension": ".py",
   "mimetype": "text/x-python",
   "name": "python",
   "nbconvert_exporter": "python",
   "pygments_lexer": "ipython3",
   "version": "3.7.7"
  }
 },
 "nbformat": 4,
 "nbformat_minor": 4
}
