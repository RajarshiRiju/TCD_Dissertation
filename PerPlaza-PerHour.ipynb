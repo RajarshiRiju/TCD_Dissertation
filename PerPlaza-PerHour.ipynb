{
 "cells": [
  {
   "cell_type": "code",
   "execution_count": 1,
   "metadata": {},
   "outputs": [],
   "source": [
    "import os\n",
    "import numpy as np\n",
    "import pandas as pd\n",
    "import matplotlib.pyplot as plt\n",
    "import seaborn as sns\n",
    "import warnings\n",
    "import glob\n",
    "import calendar\n",
    "\n",
    "pd.options.display.max_columns = None\n",
    "warnings.filterwarnings('ignore')\n",
    "\n",
    "os.chdir(\"E:/Trinity/Dissertation/Sem 3/models/data/\")"
   ]
  },
  {
   "cell_type": "code",
   "execution_count": 2,
   "metadata": {},
   "outputs": [],
   "source": [
    "# Get the name of the columns\n",
    "xls = pd.ExcelFile('E:/Trinity/Dissertation/Sem 3/Columns.xlsx')\n",
    "col_names = list(pd.read_excel(xls).columns)"
   ]
  },
  {
   "cell_type": "code",
   "execution_count": null,
   "metadata": {},
   "outputs": [],
   "source": []
  },
  {
   "cell_type": "code",
   "execution_count": null,
   "metadata": {},
   "outputs": [],
   "source": [
    "# data = pd.read_csv(\"2019-04-09.csv\", names = col_names)   # Test reading a single file\n",
    "# print(len(data))       #148180\n",
    "# data.isnull().sum()    "
   ]
  },
  {
   "cell_type": "code",
   "execution_count": 3,
   "metadata": {},
   "outputs": [],
   "source": [
    "#Group Plaza IDs based on Toll\n",
    "def addTollName(plazaid):\n",
    "    if plazaid in (1416,1417):\n",
    "        return \"Limerick Tunnel\"\n",
    "    elif plazaid in (1415,2885,2886):    # 0 added as dummy ---- TO-DO\n",
    "        return \"M1\"\n",
    "    elif plazaid in (2862,2861):\n",
    "        return \"M3\"\n",
    "    elif plazaid in (2863,2864,2865,2866):\n",
    "        return \"M4\"\n",
    "    elif plazaid in (1420,1421):\n",
    "        return \"M50\"\n",
    "    elif plazaid in (1419,0):\n",
    "        return \"M7-M8\"\n",
    "    elif plazaid in (1423,0):\n",
    "        return \"Dublin Tunnel\"\n",
    "    elif plazaid in (1424,0):\n",
    "        return \"Eastlink\"\n",
    "    elif plazaid in (1422,0):\n",
    "        return \"N25\"\n",
    "    elif plazaid in (1418,0):\n",
    "        return \"N6\"\n",
    "    elif plazaid in (2869,2870):\n",
    "        return \"M8\"\n",
    "    else:\n",
    "        return \"--\"\n",
    "    "
   ]
  },
  {
   "cell_type": "code",
   "execution_count": 4,
   "metadata": {},
   "outputs": [],
   "source": [
    "files = glob.glob(\"*.csv\")[0:243]      #Let's do in batches"
   ]
  },
  {
   "cell_type": "code",
   "execution_count": 11,
   "metadata": {},
   "outputs": [
    {
     "name": "stdout",
     "output_type": "stream",
     "text": [
      "Reading file - 100/100   -  Scanning tollway - M8                                "
     ]
    },
    {
     "data": {
      "text/plain": [
       "<Figure size 432x288 with 0 Axes>"
      ]
     },
     "metadata": {},
     "output_type": "display_data"
    }
   ],
   "source": [
    "time = [0,1,2,3,4,5,6,7,8,9,10,11,12,13,14,15,16,17,18,19,20,21,22,23]\n",
    "\n",
    "for num,file in enumerate(files):\n",
    "    data = pd.read_csv(file, names=col_names, na_values=['NULL'])\n",
    "    data[\"tollname\"] = data[\"entryplazaid\"].apply(addTollName)\n",
    "    tolls = data[\"tollname\"].unique()\n",
    "    date = file[:-4]\n",
    "\n",
    "    for toll in tolls:\n",
    "        print(f'\\rReading file - {num+1}/100   -  Scanning tollway - {toll}                    ', end='')\n",
    "        count_list = []\n",
    "        start = pd.to_datetime(file[:-4], format='%Y-%m-%d')\n",
    "        day = calendar.day_name[start.weekday()] + \"/\"\n",
    "        filepath = day + toll + \"/\"\n",
    "\n",
    "        df = data[data[\"tollname\"]==toll]\n",
    "        for i in range (0, 24):\n",
    "            end   = start + pd.offsets.DateOffset(hours=1)\n",
    "            count = pd.to_datetime(df[\"entrytransdt\"], format='%Y-%m-%d %H:%M:%S').between(start, end).sum()\n",
    "            count_list.append(count)\n",
    "            \n",
    "            # Write data into new CSV\n",
    "            # date, tollname, starttime, endtime, no_of_cars\n",
    "            with open(\"../hourly_details.csv\", 'a') as hd:\n",
    "                hd.write(file[:-4] + \",\" + toll + \",\" + str(start) + \",\" + str(end) + \",\" + str(count))\n",
    "                hd.write(\"\\n\")\n",
    "            \n",
    "            start = end\n",
    "            \n",
    "        plt.bar(time, count_list)\n",
    "        plt.xlabel('Time of day (in 00 hours)')\n",
    "        plt.ylabel('Number of cars')\n",
    "        plt.savefig('../images/' + filepath + file[:-3])\n",
    "        plt.clf()\n"
   ]
  },
  {
   "cell_type": "code",
   "execution_count": 16,
   "metadata": {},
   "outputs": [
    {
     "name": "stdout",
     "output_type": "stream",
     "text": [
      "Reading file - 123/100   -  Scanning tollway - Limerick Tunnel                    "
     ]
    },
    {
     "data": {
      "text/plain": [
       "<Figure size 432x288 with 0 Axes>"
      ]
     },
     "metadata": {},
     "output_type": "display_data"
    }
   ],
   "source": [
    "files = glob.glob(\"*.csv\")[377:]      #Let's do in batches\n",
    "\n",
    "time = [0,1,2,3,4,5,6,7,8,9,10,11,12,13,14,15,16,17,18,19,20,21,22,23]\n",
    "\n",
    "for num,file in enumerate(files):\n",
    "    data = pd.read_csv(file, names=col_names, na_values=['NULL'])\n",
    "    data[\"tollname\"] = data[\"entryplazaid\"].apply(addTollName)\n",
    "    tolls = data[\"tollname\"].unique()\n",
    "    date = file[:-4]\n",
    "\n",
    "    for toll in tolls:\n",
    "        print(f'\\rReading file - {num+1}/100   -  Scanning tollway - {toll}                    ', end='')\n",
    "        count_list = []\n",
    "        start = pd.to_datetime(file[:-4], format='%Y-%m-%d')\n",
    "        day = calendar.day_name[start.weekday()] + \"/\"\n",
    "        filepath = day + toll + \"/\"\n",
    "\n",
    "        df = data[data[\"tollname\"]==toll]\n",
    "        for i in range (0, 24):\n",
    "            end   = start + pd.offsets.DateOffset(hours=1)\n",
    "            count = pd.to_datetime(df[\"entrytransdt\"], format='%Y-%m-%d %H:%M:%S').between(start, end).sum()\n",
    "            count_list.append(count)\n",
    "            \n",
    "            # Write data into new CSV\n",
    "            # date, tollname, starttime, endtime, no_of_cars\n",
    "            with open(\"../hourly_details.csv\", 'a') as hd:\n",
    "                hd.write(file[:-4] + \",\" + toll + \",\" + str(start) + \",\" + str(end) + \",\" + str(count))\n",
    "                hd.write(\"\\n\")\n",
    "            \n",
    "            start = end\n",
    "            \n",
    "        plt.bar(time, count_list)\n",
    "        plt.xlabel('Time of day (in 00 hours)')\n",
    "        plt.ylabel('Number of cars')\n",
    "        plt.savefig('../images/' + filepath + file[:-3])\n",
    "        plt.clf()\n"
   ]
  },
  {
   "cell_type": "code",
   "execution_count": null,
   "metadata": {},
   "outputs": [],
   "source": []
  }
 ],
 "metadata": {
  "kernelspec": {
   "display_name": "Python 3",
   "language": "python",
   "name": "python3"
  },
  "language_info": {
   "codemirror_mode": {
    "name": "ipython",
    "version": 3
   },
   "file_extension": ".py",
   "mimetype": "text/x-python",
   "name": "python",
   "nbconvert_exporter": "python",
   "pygments_lexer": "ipython3",
   "version": "3.7.3"
  }
 },
 "nbformat": 4,
 "nbformat_minor": 4
}
