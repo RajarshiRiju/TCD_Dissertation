{
 "cells": [
  {
   "cell_type": "code",
   "execution_count": 1,
   "metadata": {},
   "outputs": [],
   "source": [
    "import os \n",
    "import numpy as np\n",
    "import pandas as pd\n",
    "import matplotlib.pyplot as plt\n",
    "import seaborn as sns\n",
    "import warnings\n",
    "import glob\n",
    "import calendar\n",
    "\n",
    "pd.options.display.max_columns = None\n",
    "pd.options.display.max_rows = None\n",
    "warnings.filterwarnings('ignore')\n",
    "\n",
    "os.chdir(\"E:/Trinity/Dissertation/Sem 3/models/data/\") "
   ]
  },
  {
   "cell_type": "code",
   "execution_count": 19,
   "metadata": {},
   "outputs": [],
   "source": [
    "#Vehicle types based on class id\n",
    "def addVehicleType(vehicleclassid):\n",
    "    if vehicleclassid in (6,16,19,59,74,77,85,90,96,98,105):\n",
    "        return \"Motor Cycle\"\n",
    "    elif vehicleclassid in (1,10,11,28,40,47,50,52,65,66,69,80,100,101):\n",
    "        return \"Motor Car\"\n",
    "    elif vehicleclassid in (2,12,20,29,30,44,45,68,70,76,81,86,107):\n",
    "        return \"Bus (L)\"\n",
    "    elif vehicleclassid in (3,13,21,54,55,57,78,79,82,87,108):\n",
    "        return \"Bus (H)\"\n",
    "    elif vehicleclassid in (4,14,22,31,32,37,49,51,64,71,83,92,99,104):\n",
    "        return \"LGV\"\n",
    "    elif vehicleclassid in (7,15,23,33,34,41,42,46,67,72,84,88,94):\n",
    "        return \"HGV (2 Axles)\"\n",
    "    elif vehicleclassid in (8,17,24,56,58,60,61,75,95,102):\n",
    "        return \"HGV (3 Axles)\"\n",
    "    elif vehicleclassid in (5,18,25,35,36,38,43,48,53,73,97):\n",
    "        return \"HGV (4 Axles)\"\n",
    "    else:\n",
    "        return \"NA\" "
   ]
  },
  {
   "cell_type": "code",
   "execution_count": null,
   "metadata": {},
   "outputs": [],
   "source": [
    "def addTollName(plazaid):\n",
    "    if plazaid in (1416,1417):\n",
    "        return \"Limerick Tunnel\"\n",
    "    elif plazaid in (1415,2885,2886):    # 0 added as dummy ---- TO-DO\n",
    "        return \"M1\"\n",
    "    elif plazaid in (2862,2861):\n",
    "        return \"M3\"\n",
    "    elif plazaid in (2863,2864,2865,2866):\n",
    "        return \"M4\"\n",
    "    elif plazaid in (1420,1421):\n",
    "        return \"M50\"\n",
    "    elif plazaid in (1419,0):\n",
    "        return \"M7-M8\"\n",
    "    elif plazaid in (1423,0):\n",
    "        return \"Dublin Tunnel\"\n",
    "    elif plazaid in (1424,0):\n",
    "        return \"Eastlink\"\n",
    "    elif plazaid in (1422,0):\n",
    "        return \"N25\"\n",
    "    elif plazaid in (1418,0):\n",
    "        return \"N6\"\n",
    "    elif plazaid in (2869,2870):\n",
    "        return \"M8\"\n",
    "    else:\n",
    "        return \"--\""
   ]
  },
  {
   "cell_type": "markdown",
   "metadata": {},
   "source": [
    "### From CounterData"
   ]
  },
  {
   "cell_type": "code",
   "execution_count": 32,
   "metadata": {},
   "outputs": [],
   "source": [
    "ctr = pd.read_csv('F:/counterData/2019-01-01.csv')\n",
    "ctr_s = ctr[(ctr[\"cosit\"]==1508) & (ctr[\"lanename\"].str.startswith(\"Southbound\"))]\n",
    "ctr_n = ctr[(ctr[\"cosit\"]==1508) & (ctr[\"lanename\"].str.startswith(\"Northbound\"))]"
   ]
  },
  {
   "cell_type": "code",
   "execution_count": 33,
   "metadata": {},
   "outputs": [
    {
     "name": "stdout",
     "output_type": "stream",
     "text": [
      "['Southbound 3' 'Southbound 2' 'Southbound 1' 'Southbound 4']\n",
      "['Northbound 2' 'Northbound 3' 'Northbound 1' 'Northbound 4']\n"
     ]
    }
   ],
   "source": [
    "print(ctr_s[\"lanename\"].unique())\n",
    "print(ctr_n[\"lanename\"].unique())"
   ]
  },
  {
   "cell_type": "code",
   "execution_count": 34,
   "metadata": {},
   "outputs": [
    {
     "name": "stdout",
     "output_type": "stream",
     "text": [
      "CAR        34337\n",
      "LGV         1247\n",
      "HGV_ART      494\n",
      "BUS          219\n",
      "HGV_RIG      177\n",
      "MBIKE        108\n",
      "CARAVAN       34\n",
      "Name: classname, dtype: int64\n",
      "CAR        35234\n",
      "LGV         1546\n",
      "HGV_ART      464\n",
      "HGV_RIG      158\n",
      "BUS          112\n",
      "MBIKE         54\n",
      "CARAVAN       43\n",
      "Name: classname, dtype: int64\n"
     ]
    }
   ],
   "source": [
    "print(ctr_s[\"classname\"].value_counts())\n",
    "print(ctr_n[\"classname\"].value_counts())"
   ]
  },
  {
   "cell_type": "code",
   "execution_count": 8,
   "metadata": {},
   "outputs": [],
   "source": [
    "#journeys = pd.read_csv('D:/journeys.csv')"
   ]
  },
  {
   "cell_type": "markdown",
   "metadata": {},
   "source": [
    "### From TollData"
   ]
  },
  {
   "cell_type": "code",
   "execution_count": 177,
   "metadata": {},
   "outputs": [],
   "source": [
    "xls = pd.ExcelFile('E:/Trinity/Dissertation/Sem 3/Columns.xlsx')\n",
    "col_names = list(pd.read_excel(xls).columns)\n",
    "data = pd.read_csv(\"2019-04-14.csv\", names = col_names)"
   ]
  },
  {
   "cell_type": "code",
   "execution_count": 170,
   "metadata": {},
   "outputs": [],
   "source": [
    "data1420 = data[data[\"entryplazaid\"]==1420]\n",
    "data1421 = data[data[\"entryplazaid\"]==1421]"
   ]
  },
  {
   "cell_type": "code",
   "execution_count": 171,
   "metadata": {},
   "outputs": [],
   "source": [
    "data1420[\"vehicleType\"] = data1420[\"vehicleclassid\"].apply(addVehicleType)\n",
    "data1421[\"vehicleType\"] = data1421[\"vehicleclassid\"].apply(addVehicleType)"
   ]
  },
  {
   "cell_type": "code",
   "execution_count": 172,
   "metadata": {},
   "outputs": [
    {
     "name": "stdout",
     "output_type": "stream",
     "text": [
      "Motor Car        6132\n",
      "HGV (2 Axles)    1111\n",
      "NA                694\n",
      "HGV (4 Axles)     288\n",
      "HGV (3 Axles)     151\n",
      "LGV               107\n",
      "Bus (H)            68\n",
      "Bus (L)            24\n",
      "Motor Cycle         6\n",
      "Name: vehicleType, dtype: int64\n",
      "Motor Car        6712\n",
      "HGV (2 Axles)    1180\n",
      "NA                796\n",
      "HGV (4 Axles)     299\n",
      "HGV (3 Axles)     162\n",
      "LGV               148\n",
      "Bus (H)            62\n",
      "Bus (L)            31\n",
      "Motor Cycle        10\n",
      "Name: vehicleType, dtype: int64\n"
     ]
    }
   ],
   "source": [
    "print(data1420[\"vehicleType\"].value_counts())\n",
    "print(data1421[\"vehicleType\"].value_counts())"
   ]
  },
  {
   "cell_type": "code",
   "execution_count": null,
   "metadata": {},
   "outputs": [],
   "source": []
  },
  {
   "cell_type": "markdown",
   "metadata": {},
   "source": [
    "### From Journeys"
   ]
  },
  {
   "cell_type": "code",
   "execution_count": 173,
   "metadata": {},
   "outputs": [],
   "source": [
    "journeys = data[data['tagid'].duplicated(keep=False)]"
   ]
  },
  {
   "cell_type": "code",
   "execution_count": 174,
   "metadata": {},
   "outputs": [],
   "source": [
    "journeys = journeys[journeys[\"entryplazaid\"]==1420]"
   ]
  },
  {
   "cell_type": "code",
   "execution_count": 175,
   "metadata": {},
   "outputs": [
    {
     "data": {
      "text/plain": [
       "Motor Car        4795\n",
       "HGV (2 Axles)     898\n",
       "NA                533\n",
       "HGV (4 Axles)     261\n",
       "HGV (3 Axles)     136\n",
       "LGV                93\n",
       "Bus (H)            63\n",
       "Bus (L)            23\n",
       "Motor Cycle         5\n",
       "Name: vehicleType, dtype: int64"
      ]
     },
     "execution_count": 175,
     "metadata": {},
     "output_type": "execute_result"
    }
   ],
   "source": [
    "journeys[\"vehicleType\"] = journeys[\"vehicleclassid\"].apply(addVehicleType)\n",
    "journeys[\"vehicleType\"].value_counts()"
   ]
  },
  {
   "cell_type": "markdown",
   "metadata": {},
   "source": [
    "### Percentage"
   ]
  },
  {
   "cell_type": "code",
   "execution_count": 176,
   "metadata": {},
   "outputs": [
    {
     "name": "stdout",
     "output_type": "stream",
     "text": [
      "6807\n",
      "8581\n",
      "79.32641883230393\n"
     ]
    }
   ],
   "source": [
    "#Try with different dates\n",
    "print(len(journeys))\n",
    "print(len(data1420))\n",
    "print((len(journeys)/len(data1420))*100)"
   ]
  },
  {
   "cell_type": "code",
   "execution_count": null,
   "metadata": {},
   "outputs": [],
   "source": []
  },
  {
   "cell_type": "code",
   "execution_count": null,
   "metadata": {},
   "outputs": [],
   "source": []
  },
  {
   "cell_type": "code",
   "execution_count": null,
   "metadata": {},
   "outputs": [],
   "source": []
  },
  {
   "cell_type": "code",
   "execution_count": null,
   "metadata": {},
   "outputs": [],
   "source": []
  }
 ],
 "metadata": {
  "kernelspec": {
   "display_name": "Python 3",
   "language": "python",
   "name": "python3"
  },
  "language_info": {
   "codemirror_mode": {
    "name": "ipython",
    "version": 3
   },
   "file_extension": ".py",
   "mimetype": "text/x-python",
   "name": "python",
   "nbconvert_exporter": "python",
   "pygments_lexer": "ipython3",
   "version": "3.7.7"
  }
 },
 "nbformat": 4,
 "nbformat_minor": 4
}
