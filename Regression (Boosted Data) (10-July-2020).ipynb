{
 "cells": [
  {
   "cell_type": "code",
   "execution_count": 1,
   "metadata": {},
   "outputs": [],
   "source": [
    "import os\n",
    "import numpy as np\n",
    "import pandas as pd\n",
    "import matplotlib.pyplot as plt\n",
    "import seaborn as sns\n",
    "import warnings\n",
    "import glob\n",
    "import calendar\n",
    "from sklearn.preprocessing import MinMaxScaler, StandardScaler\n",
    "from sklearn.feature_selection import SelectFromModel\n",
    "\n",
    "pd.options.display.max_columns = None\n",
    "pd.options.display.max_rows = None\n",
    "\n",
    "warnings.filterwarnings('ignore')\n",
    "\n",
    "os.chdir(\"E:/Trinity/Dissertation/Sem 3/models/data/\")"
   ]
  },
  {
   "cell_type": "markdown",
   "metadata": {},
   "source": [
    "Read the new DataFrame"
   ]
  },
  {
   "cell_type": "code",
   "execution_count": 2,
   "metadata": {},
   "outputs": [],
   "source": [
    "os.chdir(\"E:/Trinity/Dissertation/Sem 3/models/\")\n",
    "df = pd.read_csv(\"HourlyDetails (Boosted).csv\")  "
   ]
  },
  {
   "cell_type": "code",
   "execution_count": 3,
   "metadata": {},
   "outputs": [
    {
     "data": {
      "image/png": "[encoded data removed]",
      "text/plain": [
       "<Figure size 216x216 with 2 Axes>"
      ]
     },
     "metadata": {
      "needs_background": "light"
     },
     "output_type": "display_data"
    }
   ],
   "source": [
    "plt.figure(figsize=(3,3))\n",
    "corr = df.corr()\n",
    "ax = sns.heatmap(\n",
    "    corr, \n",
    "    vmin=-1, vmax=1, center=0,\n",
    "    cmap=sns.diverging_palette(20, 220, n=200),\n",
    "    square=True,\n",
    "    linewidths=0.01, \n",
    "    linecolor='black',\n",
    "    #annot=True\n",
    ")\n",
    "ax.set_xticklabels(\n",
    "    ax.get_xticklabels(),\n",
    "    rotation=90,\n",
    "    horizontalalignment='right'\n",
    ");"
   ]
  },
  {
   "cell_type": "code",
   "execution_count": 4,
   "metadata": {},
   "outputs": [
    {
     "name": "stdout",
     "output_type": "stream",
     "text": [
      "287328\n",
      "158976\n"
     ]
    }
   ],
   "source": [
    "print(len(df))\n",
    "print(len(df[df[\"isHoliday?\"]==1]))"
   ]
  },
  {
   "cell_type": "markdown",
   "metadata": {},
   "source": [
    "### MODEL"
   ]
  },
  {
   "cell_type": "code",
   "execution_count": 5,
   "metadata": {},
   "outputs": [],
   "source": [
    "# day of week ois important\n",
    "# not keep isHoliday ---- 141.49\n",
    "# keep isHoliday ---- 141.08\n",
    "# Hyper parameter tuning ---- 141.06\n",
    "df_x = df.drop([\"No_of_Cars\"],axis=1)\n",
    "df_y = df[\"No_of_Cars\"]"
   ]
  },
  {
   "cell_type": "code",
   "execution_count": 6,
   "metadata": {},
   "outputs": [],
   "source": [
    "from sklearn.model_selection import train_test_split\n",
    "x_train, x_test, y_train, y_test = train_test_split(df_x, df_y, train_size=0.75, random_state=123)"
   ]
  },
  {
   "cell_type": "code",
   "execution_count": 7,
   "metadata": {},
   "outputs": [],
   "source": [
    "from sklearn.ensemble import RandomForestRegressor\n",
    "rf = RandomForestRegressor(n_estimators=1500, random_state=123)\n",
    "\n",
    "# From rf_random.best_estimator_\n",
    "\n",
    "rf = RandomForestRegressor(bootstrap=True, \n",
    "                           ccp_alpha=0.0, \n",
    "                           criterion='mse', \n",
    "                           max_depth=100, \n",
    "                           max_features='auto', \n",
    "                           max_leaf_nodes=None, \n",
    "                           max_samples=None, \n",
    "                           min_impurity_decrease=0.0, \n",
    "                           min_impurity_split=None, \n",
    "                           min_samples_leaf=1, \n",
    "                           min_samples_split=2, \n",
    "                           min_weight_fraction_leaf=0.0, \n",
    "                           n_estimators=800, \n",
    "                           n_jobs=None, \n",
    "                           oob_score=False, \n",
    "                           random_state=100, \n",
    "                           verbose=0, \n",
    "                           warm_start=False)\n"
   ]
  },
  {
   "cell_type": "code",
   "execution_count": 8,
   "metadata": {},
   "outputs": [
    {
     "name": "stderr",
     "output_type": "stream",
     "text": [
      "ERROR:root:Internal Python error in the inspect module.\n",
      "Below is the traceback from this internal error.\n",
      "\n"
     ]
    },
    {
     "name": "stdout",
     "output_type": "stream",
     "text": [
      "Traceback (most recent call last):\n",
      "  File \"C:\\Users\\Lenovo\\Anaconda3\\lib\\site-packages\\IPython\\core\\interactiveshell.py\", line 3331, in run_code\n",
      "    exec(code_obj, self.user_global_ns, self.user_ns)\n",
      "  File \"<ipython-input-8-4e6bdc457777>\", line 1, in <module>\n",
      "    model = rf.fit(x_train, y_train)        # Fit the RFR mode\n",
      "  File \"C:\\Users\\Lenovo\\Anaconda3\\lib\\site-packages\\sklearn\\ensemble\\_forest.py\", line 383, in fit\n",
      "    for i, t in enumerate(trees))\n",
      "  File \"C:\\Users\\Lenovo\\Anaconda3\\lib\\site-packages\\joblib\\parallel.py\", line 1007, in __call__\n",
      "    while self.dispatch_one_batch(iterator):\n",
      "  File \"C:\\Users\\Lenovo\\Anaconda3\\lib\\site-packages\\joblib\\parallel.py\", line 835, in dispatch_one_batch\n",
      "    self._dispatch(tasks)\n",
      "  File \"C:\\Users\\Lenovo\\Anaconda3\\lib\\site-packages\\joblib\\parallel.py\", line 754, in _dispatch\n",
      "    job = self._backend.apply_async(batch, callback=cb)\n",
      "  File \"C:\\Users\\Lenovo\\Anaconda3\\lib\\site-packages\\joblib\\_parallel_backends.py\", line 209, in apply_async\n",
      "    result = ImmediateResult(func)\n",
      "  File \"C:\\Users\\Lenovo\\Anaconda3\\lib\\site-packages\\joblib\\_parallel_backends.py\", line 590, in __init__\n",
      "    self.results = batch()\n",
      "  File \"C:\\Users\\Lenovo\\Anaconda3\\lib\\site-packages\\joblib\\parallel.py\", line 256, in __call__\n",
      "    for func, args, kwargs in self.items]\n",
      "  File \"C:\\Users\\Lenovo\\Anaconda3\\lib\\site-packages\\joblib\\parallel.py\", line 256, in <listcomp>\n",
      "    for func, args, kwargs in self.items]\n",
      "  File \"C:\\Users\\Lenovo\\Anaconda3\\lib\\site-packages\\sklearn\\ensemble\\_forest.py\", line 165, in _parallel_build_trees\n",
      "    tree.fit(X, y, sample_weight=curr_sample_weight, check_input=False)\n",
      "  File \"C:\\Users\\Lenovo\\Anaconda3\\lib\\site-packages\\sklearn\\tree\\_classes.py\", line 1225, in fit\n",
      "    X_idx_sorted=X_idx_sorted)\n",
      "  File \"C:\\Users\\Lenovo\\Anaconda3\\lib\\site-packages\\sklearn\\tree\\_classes.py\", line 367, in fit\n",
      "    builder.build(self.tree_, X, y, sample_weight, X_idx_sorted)\n",
      "KeyboardInterrupt\n",
      "\n",
      "During handling of the above exception, another exception occurred:\n",
      "\n",
      "Traceback (most recent call last):\n",
      "  File \"C:\\Users\\Lenovo\\Anaconda3\\lib\\site-packages\\IPython\\core\\interactiveshell.py\", line 2044, in showtraceback\n",
      "    stb = value._render_traceback_()\n",
      "AttributeError: 'KeyboardInterrupt' object has no attribute '_render_traceback_'\n",
      "\n",
      "During handling of the above exception, another exception occurred:\n",
      "\n",
      "Traceback (most recent call last):\n",
      "  File \"C:\\Users\\Lenovo\\Anaconda3\\lib\\site-packages\\IPython\\core\\ultratb.py\", line 1148, in get_records\n",
      "    return _fixed_getinnerframes(etb, number_of_lines_of_context, tb_offset)\n",
      "  File \"C:\\Users\\Lenovo\\Anaconda3\\lib\\site-packages\\IPython\\core\\ultratb.py\", line 316, in wrapped\n",
      "    return f(*args, **kwargs)\n",
      "  File \"C:\\Users\\Lenovo\\Anaconda3\\lib\\site-packages\\IPython\\core\\ultratb.py\", line 350, in _fixed_getinnerframes\n",
      "    records = fix_frame_records_filenames(inspect.getinnerframes(etb, context))\n",
      "  File \"C:\\Users\\Lenovo\\Anaconda3\\lib\\inspect.py\", line 1502, in getinnerframes\n",
      "    frameinfo = (tb.tb_frame,) + getframeinfo(tb, context)\n",
      "  File \"C:\\Users\\Lenovo\\Anaconda3\\lib\\inspect.py\", line 1460, in getframeinfo\n",
      "    filename = getsourcefile(frame) or getfile(frame)\n",
      "  File \"C:\\Users\\Lenovo\\Anaconda3\\lib\\inspect.py\", line 696, in getsourcefile\n",
      "    if getattr(getmodule(object, filename), '__loader__', None) is not None:\n",
      "  File \"C:\\Users\\Lenovo\\Anaconda3\\lib\\inspect.py\", line 739, in getmodule\n",
      "    f = getabsfile(module)\n",
      "  File \"C:\\Users\\Lenovo\\Anaconda3\\lib\\inspect.py\", line 708, in getabsfile\n",
      "    _filename = getsourcefile(object) or getfile(object)\n",
      "  File \"C:\\Users\\Lenovo\\Anaconda3\\lib\\inspect.py\", line 693, in getsourcefile\n",
      "    if os.path.exists(filename):\n",
      "  File \"C:\\Users\\Lenovo\\Anaconda3\\lib\\genericpath.py\", line 19, in exists\n",
      "    os.stat(path)\n",
      "KeyboardInterrupt\n"
     ]
    },
    {
     "ename": "KeyboardInterrupt",
     "evalue": "",
     "output_type": "error",
     "traceback": [
      "\u001b[1;31m---------------------------------------------------------------------------\u001b[0m"
     ]
    }
   ],
   "source": [
    "model = rf.fit(x_train, y_train)        # Fit the RFR mode"
   ]
  },
  {
   "cell_type": "code",
   "execution_count": 37,
   "metadata": {},
   "outputs": [],
   "source": [
    "from sklearn.metrics import mean_squared_error, r2_score\n",
    "ypred = model.predict(x_test)"
   ]
  },
  {
   "cell_type": "code",
   "execution_count": 38,
   "metadata": {},
   "outputs": [
    {
     "data": {
      "text/plain": [
       "95.48540876182875"
      ]
     },
     "execution_count": 38,
     "metadata": {},
     "output_type": "execute_result"
    }
   ],
   "source": [
    "import math\n",
    "\n",
    "mse = mean_squared_error(y_test, ypred)\n",
    "rmse = math.sqrt(mse)\n",
    "rmse"
   ]
  },
  {
   "cell_type": "code",
   "execution_count": null,
   "metadata": {},
   "outputs": [],
   "source": [
    "data = pd.DataFrame(ypred, y_test).reset_index()"
   ]
  },
  {
   "cell_type": "code",
   "execution_count": null,
   "metadata": {},
   "outputs": [],
   "source": [
    "plt.figure(figsize=(20,8))\n",
    "plt.plot(data[\"No_of_Cars\"].head(100), label=\"Actual\")\n",
    "plt.plot(data[0].head(100), label=\"Predicted\")\n",
    "plt.legend(loc=\"upper right\")\n",
    "plt.show()"
   ]
  },
  {
   "cell_type": "code",
   "execution_count": null,
   "metadata": {},
   "outputs": [],
   "source": [
    "data.head(200)"
   ]
  },
  {
   "cell_type": "code",
   "execution_count": 39,
   "metadata": {},
   "outputs": [],
   "source": [
    "# Import tools needed for visualization\n",
    "from sklearn.tree import export_graphviz\n",
    "import pydot\n",
    "# Pull out one tree from the forest\n",
    "tree = rf.estimators_[5]"
   ]
  },
  {
   "cell_type": "code",
   "execution_count": null,
   "metadata": {},
   "outputs": [],
   "source": [
    "# Export the image to a dot file\n",
    "export_graphviz(tree, out_file = 'tree.dot', feature_names = list(x_train.columns), rounded = True, precision = 1)\n",
    "# Use dot file to create a graph\n",
    "(graph, ) = pydot.graph_from_dot_file('tree.dot')\n",
    "# Write graph to a png file\n",
    "graph.write_png('tree.png')"
   ]
  },
  {
   "cell_type": "code",
   "execution_count": null,
   "metadata": {},
   "outputs": [],
   "source": []
  },
  {
   "cell_type": "code",
   "execution_count": null,
   "metadata": {},
   "outputs": [],
   "source": []
  },
  {
   "cell_type": "markdown",
   "metadata": {},
   "source": [
    "### Hyperparameter Tuning"
   ]
  },
  {
   "cell_type": "code",
   "execution_count": 33,
   "metadata": {},
   "outputs": [
    {
     "name": "stdout",
     "output_type": "stream",
     "text": [
      "Parameters currently in use:\n",
      "\n",
      "{'bootstrap': True,\n",
      " 'ccp_alpha': 0.0,\n",
      " 'criterion': 'mse',\n",
      " 'max_depth': None,\n",
      " 'max_features': 'auto',\n",
      " 'max_leaf_nodes': None,\n",
      " 'max_samples': None,\n",
      " 'min_impurity_decrease': 0.0,\n",
      " 'min_impurity_split': None,\n",
      " 'min_samples_leaf': 1,\n",
      " 'min_samples_split': 2,\n",
      " 'min_weight_fraction_leaf': 0.0,\n",
      " 'n_estimators': 100,\n",
      " 'n_jobs': None,\n",
      " 'oob_score': False,\n",
      " 'random_state': 100,\n",
      " 'verbose': 0,\n",
      " 'warm_start': False}\n"
     ]
    }
   ],
   "source": [
    "rf = RandomForestRegressor(random_state = 100)\n",
    "from pprint import pprint\n",
    "# Look at parameters used by our current forest\n",
    "print('Parameters currently in use:\\n')\n",
    "pprint(rf.get_params())"
   ]
  },
  {
   "cell_type": "code",
   "execution_count": 34,
   "metadata": {},
   "outputs": [
    {
     "name": "stdout",
     "output_type": "stream",
     "text": [
      "{'bootstrap': [True, False],\n",
      " 'max_depth': [10, 20, 30, 40, 50, 60, 70, 80, 90, 100, 110, None],\n",
      " 'max_features': ['auto', 'sqrt'],\n",
      " 'min_samples_leaf': [1, 2, 4],\n",
      " 'min_samples_split': [2, 5, 10],\n",
      " 'n_estimators': [200, 400, 600, 800, 1000, 1200, 1400, 1600, 1800, 2000]}\n"
     ]
    }
   ],
   "source": [
    "from sklearn.model_selection import RandomizedSearchCV\n",
    "# Number of trees in random forest\n",
    "n_estimators = [int(x) for x in np.linspace(start = 200, stop = 2000, num = 10)]\n",
    "# Number of features to consider at every split\n",
    "max_features = ['auto', 'sqrt']\n",
    "# Maximum number of levels in tree\n",
    "max_depth = [int(x) for x in np.linspace(10, 110, num = 11)]\n",
    "max_depth.append(None)\n",
    "# Minimum number of samples required to split a node\n",
    "min_samples_split = [2, 5, 10]\n",
    "# Minimum number of samples required at each leaf node\n",
    "min_samples_leaf = [1, 2, 4]\n",
    "# Method of selecting samples for training each tree\n",
    "bootstrap = [True, False]\n",
    "# Create the random grid\n",
    "random_grid = {'n_estimators': n_estimators,\n",
    "               'max_features': max_features,\n",
    "               'max_depth': max_depth,\n",
    "               'min_samples_split': min_samples_split,\n",
    "               'min_samples_leaf': min_samples_leaf,\n",
    "               'bootstrap': bootstrap}\n",
    "pprint(random_grid)"
   ]
  },
  {
   "cell_type": "code",
   "execution_count": null,
   "metadata": {},
   "outputs": [],
   "source": [
    "# Use the random grid to search for best hyperparameters\n",
    "# First create the base model to tune\n",
    "rf = RandomForestRegressor()\n",
    "# Random search of parameters, using 3 fold cross validation, \n",
    "# search across 100 different combinations, and use all available cores\n",
    "rf_random = RandomizedSearchCV(estimator = rf, param_distributions = random_grid, n_iter = 100, cv = 3, verbose=2, random_state=100, n_jobs = -1)\n",
    "# Fit the random search model\n",
    "rf_random.fit(x_train, y_train)"
   ]
  },
  {
   "cell_type": "markdown",
   "metadata": {},
   "source": [
    "rf_random.best_params = {'bootstrap': True,\n",
    "                         'max_depth': 100,\n",
    "                         'max_features': 'auto',\n",
    "                         'min_samples_leaf': 1,\n",
    "                         'min_samples_split': 2,\n",
    "                         'n_estimators': 800}\n"
   ]
  },
  {
   "cell_type": "markdown",
   "metadata": {},
   "source": [
    "rf_random.best_estimator_ = RandomForestRegressor(bootstrap=True, ccp_alpha=0.0, criterion='mse',\n",
    "                      max_depth=100, max_features='auto', max_leaf_nodes=None,\n",
    "                      max_samples=None, min_impurity_decrease=0.0,\n",
    "                      min_impurity_split=None, min_samples_leaf=1,\n",
    "                      min_samples_split=2, min_weight_fraction_leaf=0.0,\n",
    "                      n_estimators=800, n_jobs=None, oob_score=False,\n",
    "                      random_state=None, verbose=0, warm_start=False)"
   ]
  },
  {
   "cell_type": "code",
   "execution_count": null,
   "metadata": {},
   "outputs": [],
   "source": []
  },
  {
   "cell_type": "code",
   "execution_count": null,
   "metadata": {},
   "outputs": [],
   "source": []
  },
  {
   "cell_type": "markdown",
   "metadata": {},
   "source": [
    "### Lazy Predict"
   ]
  },
  {
   "cell_type": "code",
   "execution_count": null,
   "metadata": {},
   "outputs": [
    {
     "name": "stderr",
     "output_type": "stream",
     "text": [
      "  2%|██                                                                                 | 1/40 [00:08<05:32,  8.53s/it]"
     ]
    },
    {
     "name": "stdout",
     "output_type": "stream",
     "text": [
      "{'Model': 'AdaBoostRegressor', 'R-Squared': 0.5240799596326629, 'RMSE': 383.1778315571524, 'Time taken': 8.531217098236084}\n"
     ]
    },
    {
     "name": "stderr",
     "output_type": "stream",
     "text": [
      "\r",
      "  5%|████▏                                                                              | 2/40 [00:14<04:54,  7.76s/it]"
     ]
    },
    {
     "name": "stdout",
     "output_type": "stream",
     "text": [
      "{'Model': 'BaggingRegressor', 'R-Squared': 0.9682970312454985, 'RMSE': 98.8970518480342, 'Time taken': 5.955630779266357}\n"
     ]
    },
    {
     "name": "stderr",
     "output_type": "stream",
     "text": [
      "\r",
      "  8%|██████▏                                                                            | 3/40 [00:14<03:26,  5.58s/it]"
     ]
    },
    {
     "name": "stdout",
     "output_type": "stream",
     "text": [
      "{'Model': 'BayesianRidge', 'R-Squared': 0.3596245615964989, 'RMSE': 444.47845258865044, 'Time taken': 0.4857015609741211}\n"
     ]
    },
    {
     "name": "stderr",
     "output_type": "stream",
     "text": [
      " 12%|██████████▍                                                                        | 5/40 [00:16<01:44,  3.00s/it]"
     ]
    },
    {
     "name": "stdout",
     "output_type": "stream",
     "text": [
      "{'Model': 'DecisionTreeRegressor', 'R-Squared': 0.9560189434060749, 'RMSE': 116.48398192649908, 'Time taken': 0.9973690509796143}\n",
      "{'Model': 'DummyRegressor', 'R-Squared': -2.869434341246091e-06, 'RMSE': 555.4359711263079, 'Time taken': 0.18646574020385742}\n"
     ]
    },
    {
     "name": "stderr",
     "output_type": "stream",
     "text": [
      "\r",
      " 15%|████████████▍                                                                      | 6/40 [00:16<01:13,  2.17s/it]"
     ]
    },
    {
     "name": "stdout",
     "output_type": "stream",
     "text": [
      "{'Model': 'ElasticNet', 'R-Squared': 0.30481167537457254, 'RMSE': 463.1104851731705, 'Time taken': 0.2382946014404297}\n"
     ]
    },
    {
     "name": "stderr",
     "output_type": "stream",
     "text": [
      "\r",
      " 18%|██████████████▌                                                                    | 7/40 [00:18<01:13,  2.22s/it]"
     ]
    },
    {
     "name": "stdout",
     "output_type": "stream",
     "text": [
      "{'Model': 'ElasticNetCV', 'R-Squared': 0.3357538465801546, 'RMSE': 452.68687513602015, 'Time taken': 2.324784517288208}\n"
     ]
    },
    {
     "name": "stderr",
     "output_type": "stream",
     "text": [
      "\r",
      " 20%|████████████████▌                                                                  | 8/40 [00:19<00:58,  1.83s/it]"
     ]
    },
    {
     "name": "stdout",
     "output_type": "stream",
     "text": [
      "{'Model': 'ExtraTreeRegressor', 'R-Squared': 0.919183961610914, 'RMSE': 157.90001008058107, 'Time taken': 0.920536994934082}\n"
     ]
    },
    {
     "name": "stderr",
     "output_type": "stream",
     "text": [
      "\r",
      " 22%|██████████████████▋                                                                | 9/40 [01:11<08:45, 16.95s/it]"
     ]
    },
    {
     "name": "stdout",
     "output_type": "stream",
     "text": [
      "{'Model': 'ExtraTreesRegressor', 'R-Squared': 0.9532124851317727, 'RMSE': 120.14297119690377, 'Time taken': 52.239405393600464}\n"
     ]
    },
    {
     "name": "stderr",
     "output_type": "stream",
     "text": [
      "\r",
      " 25%|████████████████████▌                                                             | 10/40 [01:12<05:58, 11.96s/it]"
     ]
    },
    {
     "name": "stdout",
     "output_type": "stream",
     "text": [
      "GaussianProcessRegressor model failed to execute\n",
      "Unable to allocate 498. GiB for an array with shape (258595, 258595) and data type float64\n"
     ]
    },
    {
     "name": "stderr",
     "output_type": "stream",
     "text": [
      "\r",
      " 28%|██████████████████████▌                                                           | 11/40 [01:31<06:53, 14.26s/it]"
     ]
    },
    {
     "name": "stdout",
     "output_type": "stream",
     "text": [
      "{'Model': 'GradientBoostingRegressor', 'R-Squared': 0.7615892621355845, 'RMSE': 271.2041213064234, 'Time taken': 19.62854313850403}\n"
     ]
    },
    {
     "name": "stderr",
     "output_type": "stream",
     "text": [
      "\r",
      " 30%|████████████████████████▌                                                         | 12/40 [01:34<05:01, 10.75s/it]"
     ]
    },
    {
     "name": "stdout",
     "output_type": "stream",
     "text": [
      "{'Model': 'HistGradientBoostingRegressor', 'R-Squared': 0.9334620915243474, 'RMSE': 143.2741866370043, 'Time taken': 2.5690956115722656}\n"
     ]
    },
    {
     "name": "stderr",
     "output_type": "stream",
     "text": [
      "\r",
      " 32%|██████████████████████████▋                                                       | 13/40 [01:37<03:44,  8.32s/it]"
     ]
    },
    {
     "name": "stdout",
     "output_type": "stream",
     "text": [
      "{'Model': 'HuberRegressor', 'R-Squared': 0.2956257340896087, 'RMSE': 466.1601226934217, 'Time taken': 2.654900550842285}\n"
     ]
    },
    {
     "name": "stderr",
     "output_type": "stream",
     "text": [
      "\r",
      " 35%|████████████████████████████▎                                                    | 14/40 [07:34<48:59, 113.05s/it]"
     ]
    },
    {
     "name": "stdout",
     "output_type": "stream",
     "text": [
      "{'Model': 'KNeighborsRegressor', 'R-Squared': 0.9401044061033645, 'RMSE': 135.9348513964476, 'Time taken': 357.3992455005646}\n",
      "KernelRidge model failed to execute"
     ]
    },
    {
     "name": "stderr",
     "output_type": "stream",
     "text": [
      "\r",
      " 38%|██████████████████████████████▊                                                   | 15/40 [07:34<32:59, 79.19s/it]"
     ]
    },
    {
     "name": "stdout",
     "output_type": "stream",
     "text": [
      "\n",
      "Unable to allocate 249. GiB for an array with shape (258595, 258595) and data type float32\n"
     ]
    },
    {
     "name": "stderr",
     "output_type": "stream",
     "text": [
      "\r",
      " 40%|████████████████████████████████▊                                                 | 16/40 [07:34<22:12, 55.50s/it]"
     ]
    },
    {
     "name": "stdout",
     "output_type": "stream",
     "text": [
      "{'Model': 'Lars', 'R-Squared': -0.7722490247710929, 'RMSE': 739.4277616324171, 'Time taken': 0.23137903213500977}\n"
     ]
    },
    {
     "name": "stderr",
     "output_type": "stream",
     "text": [
      "\r",
      " 42%|██████████████████████████████████▊                                               | 17/40 [07:36<15:05, 39.36s/it]"
     ]
    },
    {
     "name": "stdout",
     "output_type": "stream",
     "text": [
      "{'Model': 'LarsCV', 'R-Squared': 0.3263440605580338, 'RMSE': 455.8820059806134, 'Time taken': 1.6795105934143066}\n"
     ]
    },
    {
     "name": "stderr",
     "output_type": "stream",
     "text": [
      "\r",
      " 45%|████████████████████████████████████▉                                             | 18/40 [07:36<10:08, 27.65s/it]"
     ]
    },
    {
     "name": "stdout",
     "output_type": "stream",
     "text": [
      "{'Model': 'Lasso', 'R-Squared': 0.3574811339836246, 'RMSE': 445.22169745030874, 'Time taken': 0.3201422691345215}\n"
     ]
    },
    {
     "name": "stderr",
     "output_type": "stream",
     "text": [
      "\r",
      " 48%|██████████████████████████████████████▉                                           | 19/40 [07:39<07:02, 20.14s/it]"
     ]
    },
    {
     "name": "stdout",
     "output_type": "stream",
     "text": [
      "{'Model': 'LassoCV', 'R-Squared': 0.35953831172540573, 'RMSE': 444.5083841851685, 'Time taken': 2.6150074005126953}\n"
     ]
    },
    {
     "name": "stderr",
     "output_type": "stream",
     "text": [
      "\r",
      " 50%|█████████████████████████████████████████                                         | 20/40 [07:39<04:43, 14.17s/it]"
     ]
    },
    {
     "name": "stdout",
     "output_type": "stream",
     "text": [
      "{'Model': 'LassoLars', 'R-Squared': -2.869355471446511e-06, 'RMSE': 555.4359711044044, 'Time taken': 0.2373654842376709}\n"
     ]
    },
    {
     "name": "stderr",
     "output_type": "stream",
     "text": [
      "\r",
      " 52%|███████████████████████████████████████████                                       | 21/40 [07:41<03:20, 10.55s/it]"
     ]
    },
    {
     "name": "stdout",
     "output_type": "stream",
     "text": [
      "{'Model': 'LassoLarsCV', 'R-Squared': 0.3596239615391761, 'RMSE': 444.4786608356192, 'Time taken': 2.0993852615356445}\n"
     ]
    },
    {
     "name": "stderr",
     "output_type": "stream",
     "text": [
      "\r",
      " 55%|█████████████████████████████████████████████                                     | 22/40 [07:42<02:15,  7.50s/it]"
     ]
    },
    {
     "name": "stdout",
     "output_type": "stream",
     "text": [
      "{'Model': 'LassoLarsIC', 'R-Squared': 0.3596239615391761, 'RMSE': 444.4786608356192, 'Time taken': 0.39893436431884766}\n"
     ]
    },
    {
     "name": "stderr",
     "output_type": "stream",
     "text": [
      "\r",
      " 57%|███████████████████████████████████████████████▏                                  | 23/40 [07:42<01:30,  5.35s/it]"
     ]
    },
    {
     "name": "stdout",
     "output_type": "stream",
     "text": [
      "{'Model': 'LinearRegression', 'R-Squared': 0.35962398089879677, 'RMSE': 444.4786541169587, 'Time taken': 0.31316351890563965}\n"
     ]
    },
    {
     "name": "stderr",
     "output_type": "stream",
     "text": [
      "\r",
      " 60%|█████████████████████████████████████████████████▏                                | 24/40 [07:43<01:03,  3.95s/it]"
     ]
    },
    {
     "name": "stdout",
     "output_type": "stream",
     "text": [
      "{'Model': 'LinearSVR', 'R-Squared': 0.2577090979882918, 'RMSE': 478.54242694457963, 'Time taken': 0.7041165828704834}\n"
     ]
    },
    {
     "name": "stderr",
     "output_type": "stream",
     "text": [
      "\r",
      " 62%|███████████████████████████████████████████████████▎                              | 25/40 [12:06<20:27, 81.81s/it]"
     ]
    },
    {
     "name": "stdout",
     "output_type": "stream",
     "text": [
      "{'Model': 'MLPRegressor', 'R-Squared': 0.8764768762401203, 'RMSE': 195.21244995707542, 'Time taken': 263.4548490047455}\n"
     ]
    }
   ],
   "source": [
    "from lazypredict.Supervised import LazyRegressor\n",
    "from sklearn.utils import shuffle\n",
    "X, y = shuffle(df_x, df_y, random_state=123)\n",
    "X = X.astype(np.float32)\n",
    "offset = int(X.shape[0] * 0.9)\n",
    "X_train, y_train = X[:offset], y[:offset]\n",
    "X_test, y_test = X[offset:], y[offset:]\n",
    "reg = LazyRegressor(verbose=2,ignore_warnings=False, custom_metric=None )\n",
    "models,predictions = reg.fit(X_train, X_test, y_train, y_test)"
   ]
  },
  {
   "cell_type": "code",
   "execution_count": null,
   "metadata": {},
   "outputs": [],
   "source": []
  },
  {
   "cell_type": "code",
   "execution_count": 19,
   "metadata": {},
   "outputs": [],
   "source": [
    "import numpy as np\n",
    "import pandas as pd\n",
    "from tqdm import tqdm\n",
    "import datetime\n",
    "import time\n",
    "import sklearn\n",
    "from sklearn.pipeline import Pipeline\n",
    "from sklearn.impute import SimpleImputer, MissingIndicator\n",
    "from sklearn.preprocessing import StandardScaler, OneHotEncoder\n",
    "from sklearn.compose import ColumnTransformer\n",
    "from sklearn.utils.testing import all_estimators\n",
    "from sklearn.base import RegressorMixin\n",
    "from sklearn.base import ClassifierMixin\n",
    "from sklearn.metrics import accuracy_score, balanced_accuracy_score, roc_auc_score, f1_score, r2_score, mean_squared_error\n",
    "import warnings\n",
    "import xgboost\n",
    "import lightgbm\n",
    "\n",
    "warnings.filterwarnings(\"ignore\")\n",
    "pd.set_option(\"display.precision\", 2)\n",
    "pd.set_option(\"display.float_format\", lambda x: '%.2f' % x)\n",
    "\n",
    "\n",
    "REGRESSORS = [est for est in all_estimators(\n",
    ") if issubclass(est[1], RegressorMixin)]\n",
    "\n",
    "removed_regressors = [('TheilSenRegressor', sklearn.linear_model.theil_sen.TheilSenRegressor),\n",
    " ('ARDRegression', sklearn.linear_model.ARDRegression),\n",
    " ('CCA', sklearn.cross_decomposition.CCA),\n",
    " ('IsotonicRegression', sklearn.isotonic.IsotonicRegression),\n",
    " ('MultiOutputRegressor', sklearn.multioutput.MultiOutputRegressor),\n",
    " ('MultiTaskElasticNet',\n",
    "  sklearn.linear_model.MultiTaskElasticNet),\n",
    " ('MultiTaskElasticNetCV',\n",
    "  sklearn.linear_model.MultiTaskElasticNetCV),\n",
    " ('MultiTaskLasso', sklearn.linear_model.MultiTaskLasso),\n",
    " ('MultiTaskLassoCV',\n",
    "  sklearn.linear_model.MultiTaskLassoCV),\n",
    " ('PLSCanonical', sklearn.cross_decomposition.PLSCanonical),\n",
    " ('PLSRegression', sklearn.cross_decomposition.PLSRegression),\n",
    " ('RadiusNeighborsRegressor',\n",
    "  sklearn.neighbors.RadiusNeighborsRegressor),\n",
    " ('RegressorChain', sklearn.multioutput.RegressorChain),\n",
    " ('VotingRegressor', sklearn.ensemble.VotingRegressor),\n",
    " ('_SigmoidCalibration', sklearn.calibration._SigmoidCalibration),\n",
    " ('GaussianProcessRegressor',  sklearn.gaussian_process._gpr.GaussianProcessRegressor),\n",
    " ('KernelRidge', sklearn.kernel_ridge.KernelRidge),\n",
    " ('NuSVR', sklearn.svm._classes.NuSVR),\n",
    " ('MLPRegressor', sklearn.neural_network._multilayer_perceptron.MLPRegressor),\n",
    " ('OrthogonalMatchingPursuit', sklearn.linear_model._omp.OrthogonalMatchingPursuit),\n",
    " ('OrthogonalMatchingPursuitCV', sklearn.linear_model._omp.OrthogonalMatchingPursuitCV),\n",
    " ('PassiveAggressiveRegressor', sklearn.linear_model._passive_aggressive.PassiveAggressiveRegressor),\n",
    " ('SVR', sklearn.svm._classes.SVR)\n",
    "]\n",
    "\n",
    "for i in removed_regressors:\n",
    "    REGRESSORS.pop(REGRESSORS.index(i))\n",
    "    \n",
    "\n",
    "REGRESSORS.append(('XGBRegressor', xgboost.XGBRegressor))\n",
    "REGRESSORS.append(('LGBMRegressor',lightgbm.LGBMRegressor))\n",
    "# REGRESSORS.append(('CatBoostRegressor',catboost.CatBoostRegressor))\n",
    "    \n",
    "numeric_transformer = Pipeline(steps=[\n",
    "    ('imputer', SimpleImputer(strategy='mean')),\n",
    "    ('scaler', StandardScaler())\n",
    "])\n",
    "\n",
    "categorical_transformer = Pipeline(steps=[\n",
    "    ('imputer', SimpleImputer(strategy='constant', fill_value='missing')),\n",
    "    ('encoding', OneHotEncoder(handle_unknown='ignore', sparse=False))\n",
    "])\n",
    "\n",
    "\n",
    "\n",
    "class LazyRegressor:\n",
    " \n",
    "    def __init__(self, verbose=0, ignore_warnings=True, custom_metric = None, predictions = False,random_state=100):\n",
    "        self.verbose = verbose\n",
    "        self.ignore_warnings = ignore_warnings\n",
    "        self.custom_metric = custom_metric\n",
    "        self.predictions = predictions\n",
    "        self.random_state = random_state\n",
    "\n",
    "    def fit(self, X_train, X_test, y_train, y_test):\n",
    "\n",
    "        R2 = []\n",
    "        RMSE = []\n",
    "        # WIN = []\n",
    "        names = []\n",
    "        TIME = []\n",
    "        predictions = {}\n",
    "        \n",
    "        if self.custom_metric != None:\n",
    "            CUSTOM_METRIC = []\n",
    "\n",
    "        if type(X_train) is np.ndarray:\n",
    "            X_train = pd.DataFrame(X_train)\n",
    "            X_test = pd.DataFrame(X_test)\n",
    "\n",
    "        numeric_features = X_train.select_dtypes(\n",
    "            include=['int64', 'float64', 'int32', 'float32']).columns\n",
    "        categorical_features = X_train.select_dtypes(\n",
    "            include=['object']).columns\n",
    "\n",
    "        preprocessor = ColumnTransformer(\n",
    "            transformers=[\n",
    "                ('numeric', numeric_transformer, numeric_features),\n",
    "                ('categorical', categorical_transformer, categorical_features)\n",
    "            ])\n",
    "        \n",
    "        print(REGRESSORS)\n",
    "        for name, model in tqdm(REGRESSORS):\n",
    "            start = time.time()\n",
    "            try:\n",
    "                if 'random_state' in model().get_params().keys():\n",
    "                    pipe = Pipeline(steps=[\n",
    "                        ('preprocessor', preprocessor),\n",
    "                        ('regressor', model(random_state = self.random_state))\n",
    "                    ])\n",
    "                else:\n",
    "                    pipe = Pipeline(steps=[\n",
    "                    ('preprocessor', preprocessor),\n",
    "                    ('regressor', model())\n",
    "                ])\n",
    "                pipe.fit(X_train, y_train)\n",
    "                y_pred = pipe.predict(X_test)\n",
    "                r_squared = r2_score(y_test, y_pred)\n",
    "                rmse = np.sqrt(mean_squared_error(y_test, y_pred))\n",
    "                names.append(name)\n",
    "                R2.append(r_squared)\n",
    "                RMSE.append(rmse)\n",
    "                TIME.append(time.time() - start)\n",
    "                if self.custom_metric != None:\n",
    "                    custom_metric = self.custom_metric(y_test, y_pred)\n",
    "                    CUSTOM_METRIC.append(custom_metric)\n",
    "\n",
    "                if self.verbose > 0:\n",
    "                    if self.custom_metric != None:\n",
    "                        print({\"Model\": name,\n",
    "                               \"R-Squared\": r_squared,\n",
    "                               \"RMSE\": rmse,\n",
    "                               self.custom_metric.__name__: custom_metric,\n",
    "                               \"Time taken\": time.time() - start})\n",
    "                    else:\n",
    "                        print({\"Model\": name,\n",
    "                               \"R-Squared\": r_squared,\n",
    "                               \"RMSE\": rmse,\n",
    "                               \"Time taken\": time.time() - start})\n",
    "                if self.predictions == True:\n",
    "                    predictions[name]=y_pred\n",
    "            except Exception as exception:\n",
    "                if self.ignore_warnings == False:\n",
    "                    print(name + \" model failed to execute\")\n",
    "                    print(exception)\n",
    "                    \n",
    "        if self.custom_metric == None:\n",
    "            scores = pd.DataFrame({\"Model\": names, \n",
    "                                   \"R-Squared\": R2, \n",
    "                                   \"RMSE\": RMSE,\n",
    "                                   \"Time Taken\": TIME})\n",
    "        else:\n",
    "            scores = pd.DataFrame({\"Model\": names, \n",
    "                                   \"R-Squared\": R2, \n",
    "                                   \"RMSE\": RMSE,\n",
    "                                   self.custom_metric.__name__: CUSTOM_METRIC,\n",
    "                                   \"Time Taken\": TIME})\n",
    "        scores = scores.sort_values(\n",
    "            by='R-Squared', ascending=False).set_index('Model')\n",
    "        \n",
    "        if self.predictions == True:\n",
    "            predictions_df = pd.DataFrame.from_dict(predictions)\n",
    "        return scores, predictions_df if self.predictions == True else scores\n",
    "\n",
    "Regression = LazyRegressor\n"
   ]
  },
  {
   "cell_type": "code",
   "execution_count": 13,
   "metadata": {
    "collapsed": true
   },
   "outputs": [
    {
     "data": {
      "text/plain": [
       "[('AdaBoostRegressor', sklearn.ensemble._weight_boosting.AdaBoostRegressor),\n",
       " ('BaggingRegressor', sklearn.ensemble._bagging.BaggingRegressor),\n",
       " ('BayesianRidge', sklearn.linear_model._bayes.BayesianRidge),\n",
       " ('DecisionTreeRegressor', sklearn.tree._classes.DecisionTreeRegressor),\n",
       " ('DummyRegressor', sklearn.dummy.DummyRegressor),\n",
       " ('ElasticNet', sklearn.linear_model._coordinate_descent.ElasticNet),\n",
       " ('ElasticNetCV', sklearn.linear_model._coordinate_descent.ElasticNetCV),\n",
       " ('ExtraTreeRegressor', sklearn.tree._classes.ExtraTreeRegressor),\n",
       " ('ExtraTreesRegressor', sklearn.ensemble._forest.ExtraTreesRegressor),\n",
       " ('GradientBoostingRegressor', sklearn.ensemble._gb.GradientBoostingRegressor),\n",
       " ('HistGradientBoostingRegressor',\n",
       "  sklearn.ensemble._hist_gradient_boosting.gradient_boosting.HistGradientBoostingRegressor),\n",
       " ('HuberRegressor', sklearn.linear_model._huber.HuberRegressor),\n",
       " ('KNeighborsRegressor', sklearn.neighbors._regression.KNeighborsRegressor),\n",
       " ('Lars', sklearn.linear_model._least_angle.Lars),\n",
       " ('LarsCV', sklearn.linear_model._least_angle.LarsCV),\n",
       " ('Lasso', sklearn.linear_model._coordinate_descent.Lasso),\n",
       " ('LassoCV', sklearn.linear_model._coordinate_descent.LassoCV),\n",
       " ('LassoLars', sklearn.linear_model._least_angle.LassoLars),\n",
       " ('LassoLarsCV', sklearn.linear_model._least_angle.LassoLarsCV),\n",
       " ('LassoLarsIC', sklearn.linear_model._least_angle.LassoLarsIC),\n",
       " ('LinearRegression', sklearn.linear_model._base.LinearRegression),\n",
       " ('LinearSVR', sklearn.svm._classes.LinearSVR),\n",
       " ('RANSACRegressor', sklearn.linear_model._ransac.RANSACRegressor),\n",
       " ('RandomForestRegressor', sklearn.ensemble._forest.RandomForestRegressor),\n",
       " ('Ridge', sklearn.linear_model._ridge.Ridge),\n",
       " ('RidgeCV', sklearn.linear_model._ridge.RidgeCV),\n",
       " ('SGDRegressor', sklearn.linear_model._stochastic_gradient.SGDRegressor),\n",
       " ('SVR', sklearn.svm._classes.SVR),\n",
       " ('StackingRegressor', sklearn.ensemble._stacking.StackingRegressor),\n",
       " ('TransformedTargetRegressor',\n",
       "  sklearn.compose._target.TransformedTargetRegressor),\n",
       " ('XGBRegressor', xgboost.sklearn.XGBRegressor),\n",
       " ('LGBMRegressor', lightgbm.sklearn.LGBMRegressor)]"
      ]
     },
     "execution_count": 13,
     "metadata": {},
     "output_type": "execute_result"
    }
   ],
   "source": [
    "REGRESSORS"
   ]
  },
  {
   "cell_type": "code",
   "execution_count": 7,
   "metadata": {
    "scrolled": true
   },
   "outputs": [
    {
     "name": "stderr",
     "output_type": "stream",
     "text": [
      "\r",
      "  0%|                                                                                           | 0/32 [00:00<?, ?it/s]"
     ]
    },
    {
     "name": "stdout",
     "output_type": "stream",
     "text": [
      "[('AdaBoostRegressor', <class 'sklearn.ensemble._weight_boosting.AdaBoostRegressor'>), ('BaggingRegressor', <class 'sklearn.ensemble._bagging.BaggingRegressor'>), ('BayesianRidge', <class 'sklearn.linear_model._bayes.BayesianRidge'>), ('DecisionTreeRegressor', <class 'sklearn.tree._classes.DecisionTreeRegressor'>), ('DummyRegressor', <class 'sklearn.dummy.DummyRegressor'>), ('ElasticNet', <class 'sklearn.linear_model._coordinate_descent.ElasticNet'>), ('ElasticNetCV', <class 'sklearn.linear_model._coordinate_descent.ElasticNetCV'>), ('ExtraTreeRegressor', <class 'sklearn.tree._classes.ExtraTreeRegressor'>), ('ExtraTreesRegressor', <class 'sklearn.ensemble._forest.ExtraTreesRegressor'>), ('GradientBoostingRegressor', <class 'sklearn.ensemble._gb.GradientBoostingRegressor'>), ('HistGradientBoostingRegressor', <class 'sklearn.ensemble._hist_gradient_boosting.gradient_boosting.HistGradientBoostingRegressor'>), ('HuberRegressor', <class 'sklearn.linear_model._huber.HuberRegressor'>), ('KNeighborsRegressor', <class 'sklearn.neighbors._regression.KNeighborsRegressor'>), ('Lars', <class 'sklearn.linear_model._least_angle.Lars'>), ('LarsCV', <class 'sklearn.linear_model._least_angle.LarsCV'>), ('Lasso', <class 'sklearn.linear_model._coordinate_descent.Lasso'>), ('LassoCV', <class 'sklearn.linear_model._coordinate_descent.LassoCV'>), ('LassoLars', <class 'sklearn.linear_model._least_angle.LassoLars'>), ('LassoLarsCV', <class 'sklearn.linear_model._least_angle.LassoLarsCV'>), ('LassoLarsIC', <class 'sklearn.linear_model._least_angle.LassoLarsIC'>), ('LinearRegression', <class 'sklearn.linear_model._base.LinearRegression'>), ('LinearSVR', <class 'sklearn.svm._classes.LinearSVR'>), ('RANSACRegressor', <class 'sklearn.linear_model._ransac.RANSACRegressor'>), ('RandomForestRegressor', <class 'sklearn.ensemble._forest.RandomForestRegressor'>), ('Ridge', <class 'sklearn.linear_model._ridge.Ridge'>), ('RidgeCV', <class 'sklearn.linear_model._ridge.RidgeCV'>), ('SGDRegressor', <class 'sklearn.linear_model._stochastic_gradient.SGDRegressor'>), ('SVR', <class 'sklearn.svm._classes.SVR'>), ('StackingRegressor', <class 'sklearn.ensemble._stacking.StackingRegressor'>), ('TransformedTargetRegressor', <class 'sklearn.compose._target.TransformedTargetRegressor'>), ('XGBRegressor', <class 'xgboost.sklearn.XGBRegressor'>), ('LGBMRegressor', <class 'lightgbm.sklearn.LGBMRegressor'>)]\n"
     ]
    },
    {
     "name": "stderr",
     "output_type": "stream",
     "text": [
      "\r",
      "  3%|██▌                                                                                | 1/32 [00:06<03:15,  6.31s/it]"
     ]
    },
    {
     "name": "stdout",
     "output_type": "stream",
     "text": [
      "{'Model': 'AdaBoostRegressor', 'R-Squared': 0.5478028972661064, 'RMSE': 373.5057282442546, 'Time taken': 6.312119245529175}\n"
     ]
    },
    {
     "name": "stderr",
     "output_type": "stream",
     "text": [
      "\r",
      "  6%|█████▏                                                                             | 2/32 [00:12<03:05,  6.19s/it]"
     ]
    },
    {
     "name": "stdout",
     "output_type": "stream",
     "text": [
      "{'Model': 'BaggingRegressor', 'R-Squared': 0.9681885461777754, 'RMSE': 99.06611631006187, 'Time taken': 5.910234212875366}\n"
     ]
    },
    {
     "name": "stderr",
     "output_type": "stream",
     "text": [
      "\r",
      "  9%|███████▊                                                                           | 3/32 [00:12<02:10,  4.49s/it]"
     ]
    },
    {
     "name": "stdout",
     "output_type": "stream",
     "text": [
      "{'Model': 'BayesianRidge', 'R-Squared': 0.3596245615964989, 'RMSE': 444.47845258865044, 'Time taken': 0.5066108703613281}\n"
     ]
    },
    {
     "name": "stderr",
     "output_type": "stream",
     "text": [
      " 16%|████████████▉                                                                      | 5/32 [00:13<01:06,  2.47s/it]"
     ]
    },
    {
     "name": "stdout",
     "output_type": "stream",
     "text": [
      "{'Model': 'DecisionTreeRegressor', 'R-Squared': 0.9568315462639481, 'RMSE': 115.4028742008666, 'Time taken': 0.9933791160583496}\n",
      "{'Model': 'DummyRegressor', 'R-Squared': -2.869434341246091e-06, 'RMSE': 555.4359711263079, 'Time taken': 0.19744491577148438}\n"
     ]
    },
    {
     "name": "stderr",
     "output_type": "stream",
     "text": [
      "\r",
      " 19%|███████████████▌                                                                   | 6/32 [00:14<00:46,  1.80s/it]"
     ]
    },
    {
     "name": "stdout",
     "output_type": "stream",
     "text": [
      "{'Model': 'ElasticNet', 'R-Squared': 0.30481167537457254, 'RMSE': 463.1104851731705, 'Time taken': 0.24032187461853027}\n"
     ]
    },
    {
     "name": "stderr",
     "output_type": "stream",
     "text": [
      "\r",
      " 22%|██████████████████▏                                                                | 7/32 [00:16<00:48,  1.94s/it]"
     ]
    },
    {
     "name": "stdout",
     "output_type": "stream",
     "text": [
      "{'Model': 'ElasticNetCV', 'R-Squared': 0.3357538465801546, 'RMSE': 452.68687513602015, 'Time taken': 2.2629494667053223}\n"
     ]
    },
    {
     "name": "stderr",
     "output_type": "stream",
     "text": [
      "\r",
      " 25%|████████████████████▊                                                              | 8/32 [00:17<00:38,  1.59s/it]"
     ]
    },
    {
     "name": "stdout",
     "output_type": "stream",
     "text": [
      "{'Model': 'ExtraTreeRegressor', 'R-Squared': 0.914735100483326, 'RMSE': 162.18792639339603, 'Time taken': 0.791917085647583}\n"
     ]
    },
    {
     "name": "stderr",
     "output_type": "stream",
     "text": [
      "\r",
      " 28%|███████████████████████▎                                                           | 9/32 [01:15<07:09, 18.69s/it]"
     ]
    },
    {
     "name": "stdout",
     "output_type": "stream",
     "text": [
      "{'Model': 'ExtraTreesRegressor', 'R-Squared': 0.9518842477412824, 'RMSE': 121.83638905543953, 'Time taken': 58.57779145240784}\n"
     ]
    },
    {
     "name": "stderr",
     "output_type": "stream",
     "text": [
      "\r",
      " 31%|█████████████████████████▋                                                        | 10/32 [01:40<07:27, 20.35s/it]"
     ]
    },
    {
     "name": "stdout",
     "output_type": "stream",
     "text": [
      "{'Model': 'GradientBoostingRegressor', 'R-Squared': 0.7615892621355844, 'RMSE': 271.20412130642353, 'Time taken': 24.22308611869812}\n"
     ]
    },
    {
     "name": "stderr",
     "output_type": "stream",
     "text": [
      "\r",
      " 34%|████████████████████████████▏                                                     | 11/32 [01:43<05:19, 15.22s/it]"
     ]
    },
    {
     "name": "stdout",
     "output_type": "stream",
     "text": [
      "{'Model': 'HistGradientBoostingRegressor', 'R-Squared': 0.9334620915243474, 'RMSE': 143.2741866370043, 'Time taken': 3.2647011280059814}\n"
     ]
    },
    {
     "name": "stderr",
     "output_type": "stream",
     "text": [
      "\r",
      " 38%|██████████████████████████████▊                                                   | 12/32 [01:46<03:53, 11.66s/it]"
     ]
    },
    {
     "name": "stdout",
     "output_type": "stream",
     "text": [
      "{'Model': 'HuberRegressor', 'R-Squared': 0.2956257340896087, 'RMSE': 466.1601226934217, 'Time taken': 3.3256542682647705}\n"
     ]
    },
    {
     "name": "stderr",
     "output_type": "stream",
     "text": [
      "\r",
      " 41%|████████████████████████████████▉                                                | 13/32 [08:38<41:44, 131.82s/it]"
     ]
    },
    {
     "name": "stdout",
     "output_type": "stream",
     "text": [
      "{'Model': 'KNeighborsRegressor', 'R-Squared': 0.9401044061033645, 'RMSE': 135.9348513964476, 'Time taken': 412.21363258361816}\n"
     ]
    },
    {
     "name": "stderr",
     "output_type": "stream",
     "text": [
      "\r",
      " 44%|███████████████████████████████████▉                                              | 14/32 [08:39<27:42, 92.35s/it]"
     ]
    },
    {
     "name": "stdout",
     "output_type": "stream",
     "text": [
      "{'Model': 'Lars', 'R-Squared': -0.7722490247710929, 'RMSE': 739.4277616324171, 'Time taken': 0.25881385803222656}\n"
     ]
    },
    {
     "name": "stderr",
     "output_type": "stream",
     "text": [
      "\r",
      " 47%|██████████████████████████████████████▍                                           | 15/32 [08:41<18:29, 65.25s/it]"
     ]
    },
    {
     "name": "stdout",
     "output_type": "stream",
     "text": [
      "{'Model': 'LarsCV', 'R-Squared': 0.3263440605580338, 'RMSE': 455.8820059806134, 'Time taken': 1.995255708694458}\n"
     ]
    },
    {
     "name": "stderr",
     "output_type": "stream",
     "text": [
      "\r",
      " 50%|█████████████████████████████████████████                                         | 16/32 [08:41<12:12, 45.79s/it]"
     ]
    },
    {
     "name": "stdout",
     "output_type": "stream",
     "text": [
      "{'Model': 'Lasso', 'R-Squared': 0.3574811339836246, 'RMSE': 445.22169745030874, 'Time taken': 0.40392136573791504}\n"
     ]
    },
    {
     "name": "stderr",
     "output_type": "stream",
     "text": [
      "\r",
      " 53%|███████████████████████████████████████████▌                                      | 17/32 [08:44<08:14, 32.95s/it]"
     ]
    },
    {
     "name": "stdout",
     "output_type": "stream",
     "text": [
      "{'Model': 'LassoCV', 'R-Squared': 0.35953831172540573, 'RMSE': 444.5083841851685, 'Time taken': 2.9773619174957275}\n"
     ]
    },
    {
     "name": "stderr",
     "output_type": "stream",
     "text": [
      "\r",
      " 56%|██████████████████████████████████████████████▏                                   | 18/32 [08:44<05:24, 23.15s/it]"
     ]
    },
    {
     "name": "stdout",
     "output_type": "stream",
     "text": [
      "{'Model': 'LassoLars', 'R-Squared': -2.869355471446511e-06, 'RMSE': 555.4359711044044, 'Time taken': 0.2845902442932129}\n"
     ]
    },
    {
     "name": "stderr",
     "output_type": "stream",
     "text": [
      "\r",
      " 59%|████████████████████████████████████████████████▋                                 | 19/32 [08:47<03:40, 16.93s/it]"
     ]
    },
    {
     "name": "stdout",
     "output_type": "stream",
     "text": [
      "{'Model': 'LassoLarsCV', 'R-Squared': 0.3596239615391761, 'RMSE': 444.4786608356192, 'Time taken': 2.413321018218994}\n"
     ]
    },
    {
     "name": "stderr",
     "output_type": "stream",
     "text": [
      "\r",
      " 62%|███████████████████████████████████████████████████▎                              | 20/32 [08:47<02:23, 11.98s/it]"
     ]
    },
    {
     "name": "stdout",
     "output_type": "stream",
     "text": [
      "{'Model': 'LassoLarsIC', 'R-Squared': 0.3596239615391761, 'RMSE': 444.4786608356192, 'Time taken': 0.43002796173095703}\n"
     ]
    },
    {
     "name": "stderr",
     "output_type": "stream",
     "text": [
      "\r",
      " 66%|█████████████████████████████████████████████████████▊                            | 21/32 [08:47<01:33,  8.49s/it]"
     ]
    },
    {
     "name": "stdout",
     "output_type": "stream",
     "text": [
      "{'Model': 'LinearRegression', 'R-Squared': 0.35962398089879677, 'RMSE': 444.4786541169587, 'Time taken': 0.3428947925567627}\n"
     ]
    },
    {
     "name": "stderr",
     "output_type": "stream",
     "text": [
      "\r",
      " 69%|████████████████████████████████████████████████████████▍                         | 22/32 [08:48<01:01,  6.19s/it]"
     ]
    },
    {
     "name": "stdout",
     "output_type": "stream",
     "text": [
      "{'Model': 'LinearSVR', 'R-Squared': 0.2572624575127235, 'RMSE': 478.6863760854413, 'Time taken': 0.8171899318695068}\n"
     ]
    },
    {
     "name": "stderr",
     "output_type": "stream",
     "text": [
      "\r",
      " 72%|██████████████████████████████████████████████████████████▉                       | 23/32 [08:50<00:42,  4.78s/it]"
     ]
    },
    {
     "name": "stdout",
     "output_type": "stream",
     "text": [
      "{'Model': 'RANSACRegressor', 'R-Squared': 0.044669253990233915, 'RMSE': 542.8880180745539, 'Time taken': 1.4824628829956055}\n"
     ]
    },
    {
     "name": "stderr",
     "output_type": "stream",
     "text": [
      "\r",
      " 75%|█████████████████████████████████████████████████████████████▌                    | 24/32 [09:52<02:56, 22.09s/it]"
     ]
    },
    {
     "name": "stdout",
     "output_type": "stream",
     "text": [
      "{'Model': 'RandomForestRegressor', 'R-Squared': 0.9707478364719664, 'RMSE': 94.9975435205287, 'Time taken': 62.475528717041016}\n"
     ]
    },
    {
     "name": "stderr",
     "output_type": "stream",
     "text": [
      "\r",
      " 78%|████████████████████████████████████████████████████████████████                  | 25/32 [09:53<01:48, 15.57s/it]"
     ]
    },
    {
     "name": "stdout",
     "output_type": "stream",
     "text": [
      "{'Model': 'Ridge', 'R-Squared': 0.3596240482853945, 'RMSE': 444.478630730773, 'Time taken': 0.36156415939331055}\n"
     ]
    },
    {
     "name": "stderr",
     "output_type": "stream",
     "text": [
      "\r",
      " 81%|██████████████████████████████████████████████████████████████████▋               | 26/32 [09:53<01:06, 11.14s/it]"
     ]
    },
    {
     "name": "stdout",
     "output_type": "stream",
     "text": [
      "{'Model': 'RidgeCV', 'R-Squared': 0.3596240372474626, 'RMSE': 444.4786345614328, 'Time taken': 0.8055660724639893}\n"
     ]
    },
    {
     "name": "stderr",
     "output_type": "stream",
     "text": [
      "\r",
      " 84%|█████████████████████████████████████████████████████████████████████▏            | 27/32 [09:55<00:41,  8.28s/it]"
     ]
    },
    {
     "name": "stdout",
     "output_type": "stream",
     "text": [
      "{'Model': 'SGDRegressor', 'R-Squared': 0.3591518748594771, 'RMSE': 444.6424659943052, 'Time taken': 1.594184398651123}\n"
     ]
    },
    {
     "name": "stderr",
     "output_type": "stream",
     "text": [
      "\r",
      " 88%|██████████████████████████████████████████████████████████████████▌         | 28/32 [1:11:43<1:14:33, 1118.33s/it]"
     ]
    },
    {
     "name": "stdout",
     "output_type": "stream",
     "text": [
      "{'Model': 'SVR', 'R-Squared': 0.529789695558168, 'RMSE': 380.8723540201376, 'Time taken': 3708.457092523575}\n",
      "StackingRegressor model failed to execute\n",
      "__init__() missing 1 required positional argument: 'estimators'\n"
     ]
    },
    {
     "name": "stderr",
     "output_type": "stream",
     "text": [
      "\r",
      " 94%|██████████████████████████████████████████████████████████████████████████     | 30/32 [1:11:44<26:05, 782.88s/it]"
     ]
    },
    {
     "name": "stdout",
     "output_type": "stream",
     "text": [
      "{'Model': 'TransformedTargetRegressor', 'R-Squared': 0.35962398089879677, 'RMSE': 444.4786541169587, 'Time taken': 0.30115771293640137}\n",
      "[04:23:09] WARNING: C:/Jenkins/workspace/xgboost-win64_release_0.90/src/objective/regression_obj.cu:152: reg:linear is now deprecated in favor of reg:squarederror.\n"
     ]
    },
    {
     "name": "stderr",
     "output_type": "stream",
     "text": [
      "\r",
      " 97%|████████████████████████████████████████████████████████████████████████████▌  | 31/32 [1:12:02<09:13, 553.34s/it]"
     ]
    },
    {
     "name": "stdout",
     "output_type": "stream",
     "text": [
      "{'Model': 'XGBRegressor', 'R-Squared': 0.7615772194651903, 'RMSE': 271.21097078944, 'Time taken': 17.745739698410034}\n"
     ]
    },
    {
     "name": "stderr",
     "output_type": "stream",
     "text": [
      "100%|███████████████████████████████████████████████████████████████████████████████| 32/32 [1:12:05<00:00, 135.16s/it]"
     ]
    },
    {
     "name": "stdout",
     "output_type": "stream",
     "text": [
      "{'Model': 'LGBMRegressor', 'R-Squared': 0.9334620915243474, 'RMSE': 143.2741866370043, 'Time taken': 3.0340795516967773}\n"
     ]
    },
    {
     "name": "stderr",
     "output_type": "stream",
     "text": [
      "\n"
     ]
    }
   ],
   "source": [
    "#from lazypredict.Supervised import LazyRegressor\n",
    "from sklearn.utils import shuffle\n",
    "X, y = shuffle(df_x, df_y, random_state=123)\n",
    "X = X.astype(np.float32)\n",
    "offset = int(X.shape[0] * 0.9)\n",
    "X_train, y_train = X[:offset], y[:offset]\n",
    "X_test, y_test = X[offset:], y[offset:]\n",
    "reg = LazyRegressor(verbose=2,ignore_warnings=False, custom_metric=None )\n",
    "models,predictions = reg.fit(X_train, X_test, y_train, y_test)"
   ]
  },
  {
   "cell_type": "code",
   "execution_count": 10,
   "metadata": {},
   "outputs": [
    {
     "data": {
      "text/html": [
       "<div>\n",
       "<style scoped>\n",
       "    .dataframe tbody tr th:only-of-type {\n",
       "        vertical-align: middle;\n",
       "    }\n",
       "\n",
       "    .dataframe tbody tr th {\n",
       "        vertical-align: top;\n",
       "    }\n",
       "\n",
       "    .dataframe thead th {\n",
       "        text-align: right;\n",
       "    }\n",
       "</style>\n",
       "<table border=\"1\" class=\"dataframe\">\n",
       "  <thead>\n",
       "    <tr style=\"text-align: right;\">\n",
       "      <th></th>\n",
       "      <th>R-Squared</th>\n",
       "      <th>RMSE</th>\n",
       "      <th>Time Taken</th>\n",
       "    </tr>\n",
       "    <tr>\n",
       "      <th>Model</th>\n",
       "      <th></th>\n",
       "      <th></th>\n",
       "      <th></th>\n",
       "    </tr>\n",
       "  </thead>\n",
       "  <tbody>\n",
       "    <tr>\n",
       "      <th>RandomForestRegressor</th>\n",
       "      <td>0.97</td>\n",
       "      <td>95.00</td>\n",
       "      <td>62.48</td>\n",
       "    </tr>\n",
       "    <tr>\n",
       "      <th>BaggingRegressor</th>\n",
       "      <td>0.97</td>\n",
       "      <td>99.07</td>\n",
       "      <td>5.91</td>\n",
       "    </tr>\n",
       "    <tr>\n",
       "      <th>DecisionTreeRegressor</th>\n",
       "      <td>0.96</td>\n",
       "      <td>115.40</td>\n",
       "      <td>0.99</td>\n",
       "    </tr>\n",
       "    <tr>\n",
       "      <th>ExtraTreesRegressor</th>\n",
       "      <td>0.95</td>\n",
       "      <td>121.84</td>\n",
       "      <td>58.58</td>\n",
       "    </tr>\n",
       "    <tr>\n",
       "      <th>KNeighborsRegressor</th>\n",
       "      <td>0.94</td>\n",
       "      <td>135.93</td>\n",
       "      <td>412.21</td>\n",
       "    </tr>\n",
       "    <tr>\n",
       "      <th>LGBMRegressor</th>\n",
       "      <td>0.93</td>\n",
       "      <td>143.27</td>\n",
       "      <td>3.03</td>\n",
       "    </tr>\n",
       "    <tr>\n",
       "      <th>HistGradientBoostingRegressor</th>\n",
       "      <td>0.93</td>\n",
       "      <td>143.27</td>\n",
       "      <td>3.26</td>\n",
       "    </tr>\n",
       "    <tr>\n",
       "      <th>ExtraTreeRegressor</th>\n",
       "      <td>0.91</td>\n",
       "      <td>162.19</td>\n",
       "      <td>0.79</td>\n",
       "    </tr>\n",
       "    <tr>\n",
       "      <th>GradientBoostingRegressor</th>\n",
       "      <td>0.76</td>\n",
       "      <td>271.20</td>\n",
       "      <td>24.22</td>\n",
       "    </tr>\n",
       "    <tr>\n",
       "      <th>XGBRegressor</th>\n",
       "      <td>0.76</td>\n",
       "      <td>271.21</td>\n",
       "      <td>17.75</td>\n",
       "    </tr>\n",
       "    <tr>\n",
       "      <th>AdaBoostRegressor</th>\n",
       "      <td>0.55</td>\n",
       "      <td>373.51</td>\n",
       "      <td>6.31</td>\n",
       "    </tr>\n",
       "    <tr>\n",
       "      <th>SVR</th>\n",
       "      <td>0.53</td>\n",
       "      <td>380.87</td>\n",
       "      <td>3708.46</td>\n",
       "    </tr>\n",
       "    <tr>\n",
       "      <th>BayesianRidge</th>\n",
       "      <td>0.36</td>\n",
       "      <td>444.48</td>\n",
       "      <td>0.51</td>\n",
       "    </tr>\n",
       "    <tr>\n",
       "      <th>Ridge</th>\n",
       "      <td>0.36</td>\n",
       "      <td>444.48</td>\n",
       "      <td>0.36</td>\n",
       "    </tr>\n",
       "    <tr>\n",
       "      <th>RidgeCV</th>\n",
       "      <td>0.36</td>\n",
       "      <td>444.48</td>\n",
       "      <td>0.81</td>\n",
       "    </tr>\n",
       "    <tr>\n",
       "      <th>TransformedTargetRegressor</th>\n",
       "      <td>0.36</td>\n",
       "      <td>444.48</td>\n",
       "      <td>0.30</td>\n",
       "    </tr>\n",
       "    <tr>\n",
       "      <th>LinearRegression</th>\n",
       "      <td>0.36</td>\n",
       "      <td>444.48</td>\n",
       "      <td>0.34</td>\n",
       "    </tr>\n",
       "    <tr>\n",
       "      <th>LassoLarsCV</th>\n",
       "      <td>0.36</td>\n",
       "      <td>444.48</td>\n",
       "      <td>2.41</td>\n",
       "    </tr>\n",
       "    <tr>\n",
       "      <th>LassoLarsIC</th>\n",
       "      <td>0.36</td>\n",
       "      <td>444.48</td>\n",
       "      <td>0.43</td>\n",
       "    </tr>\n",
       "    <tr>\n",
       "      <th>LassoCV</th>\n",
       "      <td>0.36</td>\n",
       "      <td>444.51</td>\n",
       "      <td>2.98</td>\n",
       "    </tr>\n",
       "    <tr>\n",
       "      <th>SGDRegressor</th>\n",
       "      <td>0.36</td>\n",
       "      <td>444.64</td>\n",
       "      <td>1.59</td>\n",
       "    </tr>\n",
       "    <tr>\n",
       "      <th>Lasso</th>\n",
       "      <td>0.36</td>\n",
       "      <td>445.22</td>\n",
       "      <td>0.40</td>\n",
       "    </tr>\n",
       "    <tr>\n",
       "      <th>ElasticNetCV</th>\n",
       "      <td>0.34</td>\n",
       "      <td>452.69</td>\n",
       "      <td>2.26</td>\n",
       "    </tr>\n",
       "    <tr>\n",
       "      <th>LarsCV</th>\n",
       "      <td>0.33</td>\n",
       "      <td>455.88</td>\n",
       "      <td>2.00</td>\n",
       "    </tr>\n",
       "    <tr>\n",
       "      <th>ElasticNet</th>\n",
       "      <td>0.30</td>\n",
       "      <td>463.11</td>\n",
       "      <td>0.24</td>\n",
       "    </tr>\n",
       "    <tr>\n",
       "      <th>HuberRegressor</th>\n",
       "      <td>0.30</td>\n",
       "      <td>466.16</td>\n",
       "      <td>3.33</td>\n",
       "    </tr>\n",
       "    <tr>\n",
       "      <th>LinearSVR</th>\n",
       "      <td>0.26</td>\n",
       "      <td>478.69</td>\n",
       "      <td>0.82</td>\n",
       "    </tr>\n",
       "    <tr>\n",
       "      <th>RANSACRegressor</th>\n",
       "      <td>0.04</td>\n",
       "      <td>542.89</td>\n",
       "      <td>1.48</td>\n",
       "    </tr>\n",
       "    <tr>\n",
       "      <th>LassoLars</th>\n",
       "      <td>-0.00</td>\n",
       "      <td>555.44</td>\n",
       "      <td>0.28</td>\n",
       "    </tr>\n",
       "    <tr>\n",
       "      <th>DummyRegressor</th>\n",
       "      <td>-0.00</td>\n",
       "      <td>555.44</td>\n",
       "      <td>0.20</td>\n",
       "    </tr>\n",
       "    <tr>\n",
       "      <th>Lars</th>\n",
       "      <td>-0.77</td>\n",
       "      <td>739.43</td>\n",
       "      <td>0.26</td>\n",
       "    </tr>\n",
       "  </tbody>\n",
       "</table>\n",
       "</div>"
      ],
      "text/plain": [
       "                               R-Squared   RMSE  Time Taken\n",
       "Model                                                      \n",
       "RandomForestRegressor               0.97  95.00       62.48\n",
       "BaggingRegressor                    0.97  99.07        5.91\n",
       "DecisionTreeRegressor               0.96 115.40        0.99\n",
       "ExtraTreesRegressor                 0.95 121.84       58.58\n",
       "KNeighborsRegressor                 0.94 135.93      412.21\n",
       "LGBMRegressor                       0.93 143.27        3.03\n",
       "HistGradientBoostingRegressor       0.93 143.27        3.26\n",
       "ExtraTreeRegressor                  0.91 162.19        0.79\n",
       "GradientBoostingRegressor           0.76 271.20       24.22\n",
       "XGBRegressor                        0.76 271.21       17.75\n",
       "AdaBoostRegressor                   0.55 373.51        6.31\n",
       "SVR                                 0.53 380.87     3708.46\n",
       "BayesianRidge                       0.36 444.48        0.51\n",
       "Ridge                               0.36 444.48        0.36\n",
       "RidgeCV                             0.36 444.48        0.81\n",
       "TransformedTargetRegressor          0.36 444.48        0.30\n",
       "LinearRegression                    0.36 444.48        0.34\n",
       "LassoLarsCV                         0.36 444.48        2.41\n",
       "LassoLarsIC                         0.36 444.48        0.43\n",
       "LassoCV                             0.36 444.51        2.98\n",
       "SGDRegressor                        0.36 444.64        1.59\n",
       "Lasso                               0.36 445.22        0.40\n",
       "ElasticNetCV                        0.34 452.69        2.26\n",
       "LarsCV                              0.33 455.88        2.00\n",
       "ElasticNet                          0.30 463.11        0.24\n",
       "HuberRegressor                      0.30 466.16        3.33\n",
       "LinearSVR                           0.26 478.69        0.82\n",
       "RANSACRegressor                     0.04 542.89        1.48\n",
       "LassoLars                          -0.00 555.44        0.28\n",
       "DummyRegressor                     -0.00 555.44        0.20\n",
       "Lars                               -0.77 739.43        0.26"
      ]
     },
     "execution_count": 10,
     "metadata": {},
     "output_type": "execute_result"
    }
   ],
   "source": [
    "predictions"
   ]
  },
  {
   "cell_type": "code",
   "execution_count": null,
   "metadata": {},
   "outputs": [],
   "source": []
  },
  {
   "cell_type": "code",
   "execution_count": null,
   "metadata": {},
   "outputs": [],
   "source": []
  },
  {
   "cell_type": "code",
   "execution_count": 13,
   "metadata": {},
   "outputs": [],
   "source": [
    "df_wb = df[:130560]"
   ]
  },
  {
   "cell_type": "code",
   "execution_count": 16,
   "metadata": {},
   "outputs": [],
   "source": [
    "df_wb_x = df_wb.drop([\"No_of_Cars\"],axis=1)\n",
    "df_wb_y = df_wb[\"No_of_Cars\"]"
   ]
  },
  {
   "cell_type": "code",
   "execution_count": 22,
   "metadata": {},
   "outputs": [
    {
     "name": "stderr",
     "output_type": "stream",
     "text": [
      "\n",
      "  0%|                                                                                           | 0/31 [00:00<?, ?it/s]\u001b[A"
     ]
    },
    {
     "name": "stdout",
     "output_type": "stream",
     "text": [
      "[('AdaBoostRegressor', <class 'sklearn.ensemble._weight_boosting.AdaBoostRegressor'>), ('BaggingRegressor', <class 'sklearn.ensemble._bagging.BaggingRegressor'>), ('BayesianRidge', <class 'sklearn.linear_model._bayes.BayesianRidge'>), ('DecisionTreeRegressor', <class 'sklearn.tree._classes.DecisionTreeRegressor'>), ('DummyRegressor', <class 'sklearn.dummy.DummyRegressor'>), ('ElasticNet', <class 'sklearn.linear_model._coordinate_descent.ElasticNet'>), ('ElasticNetCV', <class 'sklearn.linear_model._coordinate_descent.ElasticNetCV'>), ('ExtraTreeRegressor', <class 'sklearn.tree._classes.ExtraTreeRegressor'>), ('ExtraTreesRegressor', <class 'sklearn.ensemble._forest.ExtraTreesRegressor'>), ('GradientBoostingRegressor', <class 'sklearn.ensemble._gb.GradientBoostingRegressor'>), ('HistGradientBoostingRegressor', <class 'sklearn.ensemble._hist_gradient_boosting.gradient_boosting.HistGradientBoostingRegressor'>), ('HuberRegressor', <class 'sklearn.linear_model._huber.HuberRegressor'>), ('KNeighborsRegressor', <class 'sklearn.neighbors._regression.KNeighborsRegressor'>), ('Lars', <class 'sklearn.linear_model._least_angle.Lars'>), ('LarsCV', <class 'sklearn.linear_model._least_angle.LarsCV'>), ('Lasso', <class 'sklearn.linear_model._coordinate_descent.Lasso'>), ('LassoCV', <class 'sklearn.linear_model._coordinate_descent.LassoCV'>), ('LassoLars', <class 'sklearn.linear_model._least_angle.LassoLars'>), ('LassoLarsCV', <class 'sklearn.linear_model._least_angle.LassoLarsCV'>), ('LassoLarsIC', <class 'sklearn.linear_model._least_angle.LassoLarsIC'>), ('LinearRegression', <class 'sklearn.linear_model._base.LinearRegression'>), ('LinearSVR', <class 'sklearn.svm._classes.LinearSVR'>), ('RANSACRegressor', <class 'sklearn.linear_model._ransac.RANSACRegressor'>), ('RandomForestRegressor', <class 'sklearn.ensemble._forest.RandomForestRegressor'>), ('Ridge', <class 'sklearn.linear_model._ridge.Ridge'>), ('RidgeCV', <class 'sklearn.linear_model._ridge.RidgeCV'>), ('SGDRegressor', <class 'sklearn.linear_model._stochastic_gradient.SGDRegressor'>), ('StackingRegressor', <class 'sklearn.ensemble._stacking.StackingRegressor'>), ('TransformedTargetRegressor', <class 'sklearn.compose._target.TransformedTargetRegressor'>), ('XGBRegressor', <class 'xgboost.sklearn.XGBRegressor'>), ('LGBMRegressor', <class 'lightgbm.sklearn.LGBMRegressor'>)]\n"
     ]
    },
    {
     "name": "stderr",
     "output_type": "stream",
     "text": [
      "\n",
      "  3%|██▋                                                                                | 1/31 [00:03<01:38,  3.29s/it]\u001b[A"
     ]
    },
    {
     "name": "stdout",
     "output_type": "stream",
     "text": [
      "{'Model': 'AdaBoostRegressor', 'R-Squared': 0.6579094662637697, 'RMSE': 409.10803492851664, 'Time taken': 3.2872109413146973}\n"
     ]
    },
    {
     "name": "stderr",
     "output_type": "stream",
     "text": [
      "\n",
      "  6%|█████▎                                                                             | 2/31 [00:06<01:35,  3.31s/it]\u001b[A"
     ]
    },
    {
     "name": "stdout",
     "output_type": "stream",
     "text": [
      "{'Model': 'BaggingRegressor', 'R-Squared': 0.9606927665480794, 'RMSE': 138.67677070272714, 'Time taken': 3.3490676879882812}\n"
     ]
    },
    {
     "name": "stderr",
     "output_type": "stream",
     "text": [
      "\n",
      " 10%|████████                                                                           | 3/31 [00:06<01:06,  2.38s/it]\u001b[A"
     ]
    },
    {
     "name": "stdout",
     "output_type": "stream",
     "text": [
      "{'Model': 'BayesianRidge', 'R-Squared': 0.3867052889845014, 'RMSE': 547.7748524626451, 'Time taken': 0.21941423416137695}\n"
     ]
    },
    {
     "name": "stderr",
     "output_type": "stream",
     "text": [
      "\n",
      " 13%|██████████▋                                                                        | 4/31 [00:07<00:49,  1.83s/it]\u001b[A"
     ]
    },
    {
     "name": "stdout",
     "output_type": "stream",
     "text": [
      "{'Model': 'DecisionTreeRegressor', 'R-Squared': 0.9419824497262133, 'RMSE': 168.47954248122048, 'Time taken': 0.555539608001709}\n",
      "{'Model': 'DummyRegressor', 'R-Squared': -8.618132852689087e-06, 'RMSE': 699.4704183486326, 'Time taken': 0.09373211860656738}\n",
      "{'Model': 'ElasticNet', 'R-Squared': 0.32985131901827813, 'RMSE': 572.6022687253331, 'Time taken': 0.10870957374572754}"
     ]
    },
    {
     "name": "stderr",
     "output_type": "stream",
     "text": [
      "\n",
      " 19%|████████████████                                                                   | 6/31 [00:07<00:32,  1.31s/it]\u001b[A"
     ]
    },
    {
     "name": "stdout",
     "output_type": "stream",
     "text": [
      "\n"
     ]
    },
    {
     "name": "stderr",
     "output_type": "stream",
     "text": [
      "\n",
      " 23%|██████████████████▋                                                                | 7/31 [00:08<00:30,  1.26s/it]\u001b[A"
     ]
    },
    {
     "name": "stdout",
     "output_type": "stream",
     "text": [
      "{'Model': 'ElasticNetCV', 'R-Squared': 0.3495629341153723, 'RMSE': 564.1182135070441, 'Time taken': 1.1180355548858643}\n"
     ]
    },
    {
     "name": "stderr",
     "output_type": "stream",
     "text": [
      "\n",
      " 26%|█████████████████████▍                                                             | 8/31 [00:09<00:22,  1.01it/s]\u001b[A"
     ]
    },
    {
     "name": "stdout",
     "output_type": "stream",
     "text": [
      "{'Model': 'ExtraTreeRegressor', 'R-Squared': 0.9015055861293437, 'RMSE': 219.5195889984402, 'Time taken': 0.3720054626464844}\n"
     ]
    },
    {
     "name": "stderr",
     "output_type": "stream",
     "text": [
      "\n",
      " 29%|████████████████████████                                                           | 9/31 [00:35<03:09,  8.61s/it]\u001b[A"
     ]
    },
    {
     "name": "stdout",
     "output_type": "stream",
     "text": [
      "{'Model': 'ExtraTreesRegressor', 'R-Squared': 0.9379772802480348, 'RMSE': 174.19788754359104, 'Time taken': 26.377058267593384}\n"
     ]
    },
    {
     "name": "stderr",
     "output_type": "stream",
     "text": [
      "\n",
      " 32%|██████████████████████████▍                                                       | 10/31 [00:43<02:55,  8.37s/it]\u001b[A"
     ]
    },
    {
     "name": "stdout",
     "output_type": "stream",
     "text": [
      "{'Model': 'GradientBoostingRegressor', 'R-Squared': 0.8119503797031652, 'RMSE': 303.32186057288135, 'Time taken': 7.802194356918335}\n"
     ]
    },
    {
     "name": "stderr",
     "output_type": "stream",
     "text": [
      "\n",
      " 35%|█████████████████████████████                                                     | 11/31 [00:45<02:08,  6.43s/it]\u001b[A"
     ]
    },
    {
     "name": "stdout",
     "output_type": "stream",
     "text": [
      "{'Model': 'HistGradientBoostingRegressor', 'R-Squared': 0.9335619703386029, 'RMSE': 180.29174947188147, 'Time taken': 1.9064397811889648}\n"
     ]
    },
    {
     "name": "stderr",
     "output_type": "stream",
     "text": [
      "\n",
      " 39%|███████████████████████████████▋                                                  | 12/31 [00:46<01:31,  4.82s/it]\u001b[A"
     ]
    },
    {
     "name": "stdout",
     "output_type": "stream",
     "text": [
      "{'Model': 'HuberRegressor', 'R-Squared': 0.3386036583799802, 'RMSE': 568.8508024263306, 'Time taken': 1.0511529445648193}\n"
     ]
    },
    {
     "name": "stderr",
     "output_type": "stream",
     "text": [
      "\n",
      " 42%|██████████████████████████████████▍                                               | 13/31 [01:55<07:15, 24.20s/it]\u001b[A\n",
      " 45%|█████████████████████████████████████                                             | 14/31 [01:55<04:48, 16.98s/it]\u001b[A"
     ]
    },
    {
     "name": "stdout",
     "output_type": "stream",
     "text": [
      "{'Model': 'KNeighborsRegressor', 'R-Squared': 0.9039356885328514, 'RMSE': 216.79462874785798, 'Time taken': 69.44175457954407}\n",
      "{'Model': 'Lars', 'R-Squared': 0.22015827420598977, 'RMSE': 617.690205816575, 'Time taken': 0.12366938591003418}\n"
     ]
    },
    {
     "name": "stderr",
     "output_type": "stream",
     "text": [
      "\n",
      " 48%|███████████████████████████████████████▋                                          | 15/31 [01:56<03:14, 12.17s/it]\u001b[A"
     ]
    },
    {
     "name": "stdout",
     "output_type": "stream",
     "text": [
      "{'Model': 'LarsCV', 'R-Squared': 0.35061439911411196, 'RMSE': 563.6620660207376, 'Time taken': 0.9534647464752197}\n"
     ]
    },
    {
     "name": "stderr",
     "output_type": "stream",
     "text": [
      "\n",
      " 52%|██████████████████████████████████████████▎                                       | 16/31 [01:56<02:08,  8.58s/it]\u001b[A"
     ]
    },
    {
     "name": "stdout",
     "output_type": "stream",
     "text": [
      "{'Model': 'Lasso', 'R-Squared': 0.385777243344146, 'RMSE': 548.1891458567331, 'Time taken': 0.20644783973693848}\n"
     ]
    },
    {
     "name": "stderr",
     "output_type": "stream",
     "text": [
      "\n",
      " 55%|████████████████████████████████████████████▉                                     | 17/31 [01:58<01:29,  6.41s/it]\u001b[A\n",
      " 58%|███████████████████████████████████████████████▌                                  | 18/31 [01:58<00:58,  4.54s/it]\u001b[A"
     ]
    },
    {
     "name": "stdout",
     "output_type": "stream",
     "text": [
      "{'Model': 'LassoCV', 'R-Squared': 0.3866336452021203, 'RMSE': 547.8068464743055, 'Time taken': 1.3248140811920166}\n",
      "{'Model': 'LassoLars', 'R-Squared': -8.61815071173666e-06, 'RMSE': 699.4704183548785, 'Time taken': 0.16692280769348145}\n"
     ]
    },
    {
     "name": "stderr",
     "output_type": "stream",
     "text": [
      "\n",
      " 61%|██████████████████████████████████████████████████▎                               | 19/31 [01:59<00:41,  3.50s/it]\u001b[A"
     ]
    },
    {
     "name": "stdout",
     "output_type": "stream",
     "text": [
      "{'Model': 'LassoLarsCV', 'R-Squared': 0.3867049767313151, 'RMSE': 547.7749919098131, 'Time taken': 1.0660951137542725}\n"
     ]
    },
    {
     "name": "stderr",
     "output_type": "stream",
     "text": [
      "\n",
      " 65%|████████████████████████████████████████████████████▉                             | 20/31 [01:59<00:27,  2.51s/it]\u001b[A\n",
      " 68%|███████████████████████████████████████████████████████▌                          | 21/31 [01:59<00:18,  1.81s/it]\u001b[A"
     ]
    },
    {
     "name": "stdout",
     "output_type": "stream",
     "text": [
      "{'Model': 'LassoLarsIC', 'R-Squared': 0.3867049767313151, 'RMSE': 547.7749919098131, 'Time taken': 0.2246265411376953}\n",
      "{'Model': 'LinearRegression', 'R-Squared': 0.3867050151252087, 'RMSE': 547.7749747637298, 'Time taken': 0.14412140846252441}\n"
     ]
    },
    {
     "name": "stderr",
     "output_type": "stream",
     "text": [
      "\n",
      " 71%|██████████████████████████████████████████████████████████▏                       | 22/31 [02:00<00:12,  1.37s/it]\u001b[A"
     ]
    },
    {
     "name": "stdout",
     "output_type": "stream",
     "text": [
      "{'Model': 'LinearSVR', 'R-Squared': 0.2965944777758005, 'RMSE': 586.6382380658954, 'Time taken': 0.3641512393951416}\n"
     ]
    },
    {
     "name": "stderr",
     "output_type": "stream",
     "text": [
      "\n",
      " 74%|████████████████████████████████████████████████████████████▊                     | 23/31 [02:00<00:09,  1.16s/it]\u001b[A"
     ]
    },
    {
     "name": "stdout",
     "output_type": "stream",
     "text": [
      "{'Model': 'RANSACRegressor', 'R-Squared': -0.11237250793401254, 'RMSE': 737.7217779668185, 'Time taken': 0.641862154006958}\n"
     ]
    },
    {
     "name": "stderr",
     "output_type": "stream",
     "text": [
      "\n",
      " 77%|███████████████████████████████████████████████████████████████▍                  | 24/31 [02:32<01:11, 10.22s/it]\u001b[A"
     ]
    },
    {
     "name": "stdout",
     "output_type": "stream",
     "text": [
      "{'Model': 'RandomForestRegressor', 'R-Squared': 0.963853877382673, 'RMSE': 132.98367778997465, 'Time taken': 31.368290662765503}\n"
     ]
    },
    {
     "name": "stderr",
     "output_type": "stream",
     "text": [
      "\n",
      " 81%|██████████████████████████████████████████████████████████████████▏               | 25/31 [02:32<00:43,  7.21s/it]\u001b[A"
     ]
    },
    {
     "name": "stdout",
     "output_type": "stream",
     "text": [
      "{'Model': 'Ridge', 'R-Squared': 0.38670503886437935, 'RMSE': 547.7749641622053, 'Time taken': 0.19103693962097168}\n"
     ]
    },
    {
     "name": "stderr",
     "output_type": "stream",
     "text": [
      "\n",
      " 84%|████████████████████████████████████████████████████████████████████▊             | 26/31 [02:32<00:25,  5.16s/it]\u001b[A"
     ]
    },
    {
     "name": "stdout",
     "output_type": "stream",
     "text": [
      "{'Model': 'RidgeCV', 'R-Squared': 0.3867050564325928, 'RMSE': 547.7749563165289, 'Time taken': 0.36489129066467285}\n"
     ]
    },
    {
     "name": "stderr",
     "output_type": "stream",
     "text": [
      "\n",
      " 87%|███████████████████████████████████████████████████████████████████████▍          | 27/31 [02:33<00:15,  3.84s/it]\u001b[A\n",
      " 94%|████████████████████████████████████████████████████████████████████████████▋     | 29/31 [02:33<00:05,  2.71s/it]\u001b[A"
     ]
    },
    {
     "name": "stdout",
     "output_type": "stream",
     "text": [
      "{'Model': 'SGDRegressor', 'R-Squared': 0.3848326189392396, 'RMSE': 548.6105189635351, 'Time taken': 0.7709405422210693}\n",
      "StackingRegressor model failed to execute\n",
      "__init__() missing 1 required positional argument: 'estimators'\n",
      "{'Model': 'TransformedTargetRegressor', 'R-Squared': 0.3867050151252087, 'RMSE': 547.7749747637298, 'Time taken': 0.13563847541809082}\n",
      "[15:31:13] WARNING: C:/Jenkins/workspace/xgboost-win64_release_0.90/src/objective/regression_obj.cu:152: reg:linear is now deprecated in favor of reg:squarederror.\n"
     ]
    },
    {
     "name": "stderr",
     "output_type": "stream",
     "text": [
      "\n",
      " 97%|███████████████████████████████████████████████████████████████████████████████▎  | 30/31 [02:41<00:04,  4.23s/it]\u001b[A"
     ]
    },
    {
     "name": "stdout",
     "output_type": "stream",
     "text": [
      "{'Model': 'XGBRegressor', 'R-Squared': 0.812479580236453, 'RMSE': 302.8947627144923, 'Time taken': 7.780883073806763}\n"
     ]
    },
    {
     "name": "stderr",
     "output_type": "stream",
     "text": [
      "\n",
      "100%|██████████████████████████████████████████████████████████████████████████████████| 31/31 [02:42<00:00,  5.26s/it]\u001b[A"
     ]
    },
    {
     "name": "stdout",
     "output_type": "stream",
     "text": [
      "{'Model': 'LGBMRegressor', 'R-Squared': 0.9335619703386029, 'RMSE': 180.29174947188147, 'Time taken': 1.42507004737854}\n"
     ]
    },
    {
     "name": "stderr",
     "output_type": "stream",
     "text": [
      "\n"
     ]
    }
   ],
   "source": [
    "from sklearn.utils import shuffle\n",
    "X, y = shuffle(df_wb_x, df_wb_y, random_state=123)\n",
    "X = X.astype(np.float32)\n",
    "offset = int(X.shape[0] * 0.9)\n",
    "X_train, y_train = X[:offset], y[:offset]\n",
    "X_test, y_test = X[offset:], y[offset:]\n",
    "reg = LazyRegressor(verbose=2,ignore_warnings=False, custom_metric=None )\n",
    "models,predictions = reg.fit(X_train, X_test, y_train, y_test)"
   ]
  },
  {
   "cell_type": "code",
   "execution_count": 23,
   "metadata": {},
   "outputs": [
    {
     "data": {
      "text/html": [
       "<div>\n",
       "<style scoped>\n",
       "    .dataframe tbody tr th:only-of-type {\n",
       "        vertical-align: middle;\n",
       "    }\n",
       "\n",
       "    .dataframe tbody tr th {\n",
       "        vertical-align: top;\n",
       "    }\n",
       "\n",
       "    .dataframe thead th {\n",
       "        text-align: right;\n",
       "    }\n",
       "</style>\n",
       "<table border=\"1\" class=\"dataframe\">\n",
       "  <thead>\n",
       "    <tr style=\"text-align: right;\">\n",
       "      <th></th>\n",
       "      <th>R-Squared</th>\n",
       "      <th>RMSE</th>\n",
       "      <th>Time Taken</th>\n",
       "    </tr>\n",
       "    <tr>\n",
       "      <th>Model</th>\n",
       "      <th></th>\n",
       "      <th></th>\n",
       "      <th></th>\n",
       "    </tr>\n",
       "  </thead>\n",
       "  <tbody>\n",
       "    <tr>\n",
       "      <th>RandomForestRegressor</th>\n",
       "      <td>0.96</td>\n",
       "      <td>132.98</td>\n",
       "      <td>31.37</td>\n",
       "    </tr>\n",
       "    <tr>\n",
       "      <th>BaggingRegressor</th>\n",
       "      <td>0.96</td>\n",
       "      <td>138.68</td>\n",
       "      <td>3.35</td>\n",
       "    </tr>\n",
       "    <tr>\n",
       "      <th>DecisionTreeRegressor</th>\n",
       "      <td>0.94</td>\n",
       "      <td>168.48</td>\n",
       "      <td>0.56</td>\n",
       "    </tr>\n",
       "    <tr>\n",
       "      <th>ExtraTreesRegressor</th>\n",
       "      <td>0.94</td>\n",
       "      <td>174.20</td>\n",
       "      <td>26.38</td>\n",
       "    </tr>\n",
       "    <tr>\n",
       "      <th>LGBMRegressor</th>\n",
       "      <td>0.93</td>\n",
       "      <td>180.29</td>\n",
       "      <td>1.43</td>\n",
       "    </tr>\n",
       "    <tr>\n",
       "      <th>HistGradientBoostingRegressor</th>\n",
       "      <td>0.93</td>\n",
       "      <td>180.29</td>\n",
       "      <td>1.91</td>\n",
       "    </tr>\n",
       "    <tr>\n",
       "      <th>KNeighborsRegressor</th>\n",
       "      <td>0.90</td>\n",
       "      <td>216.79</td>\n",
       "      <td>69.44</td>\n",
       "    </tr>\n",
       "    <tr>\n",
       "      <th>ExtraTreeRegressor</th>\n",
       "      <td>0.90</td>\n",
       "      <td>219.52</td>\n",
       "      <td>0.37</td>\n",
       "    </tr>\n",
       "    <tr>\n",
       "      <th>XGBRegressor</th>\n",
       "      <td>0.81</td>\n",
       "      <td>302.89</td>\n",
       "      <td>7.78</td>\n",
       "    </tr>\n",
       "    <tr>\n",
       "      <th>GradientBoostingRegressor</th>\n",
       "      <td>0.81</td>\n",
       "      <td>303.32</td>\n",
       "      <td>7.80</td>\n",
       "    </tr>\n",
       "    <tr>\n",
       "      <th>AdaBoostRegressor</th>\n",
       "      <td>0.66</td>\n",
       "      <td>409.11</td>\n",
       "      <td>3.29</td>\n",
       "    </tr>\n",
       "    <tr>\n",
       "      <th>BayesianRidge</th>\n",
       "      <td>0.39</td>\n",
       "      <td>547.77</td>\n",
       "      <td>0.22</td>\n",
       "    </tr>\n",
       "    <tr>\n",
       "      <th>RidgeCV</th>\n",
       "      <td>0.39</td>\n",
       "      <td>547.77</td>\n",
       "      <td>0.36</td>\n",
       "    </tr>\n",
       "    <tr>\n",
       "      <th>Ridge</th>\n",
       "      <td>0.39</td>\n",
       "      <td>547.77</td>\n",
       "      <td>0.19</td>\n",
       "    </tr>\n",
       "    <tr>\n",
       "      <th>LinearRegression</th>\n",
       "      <td>0.39</td>\n",
       "      <td>547.77</td>\n",
       "      <td>0.14</td>\n",
       "    </tr>\n",
       "    <tr>\n",
       "      <th>TransformedTargetRegressor</th>\n",
       "      <td>0.39</td>\n",
       "      <td>547.77</td>\n",
       "      <td>0.14</td>\n",
       "    </tr>\n",
       "    <tr>\n",
       "      <th>LassoLarsIC</th>\n",
       "      <td>0.39</td>\n",
       "      <td>547.77</td>\n",
       "      <td>0.22</td>\n",
       "    </tr>\n",
       "    <tr>\n",
       "      <th>LassoLarsCV</th>\n",
       "      <td>0.39</td>\n",
       "      <td>547.77</td>\n",
       "      <td>1.07</td>\n",
       "    </tr>\n",
       "    <tr>\n",
       "      <th>LassoCV</th>\n",
       "      <td>0.39</td>\n",
       "      <td>547.81</td>\n",
       "      <td>1.32</td>\n",
       "    </tr>\n",
       "    <tr>\n",
       "      <th>Lasso</th>\n",
       "      <td>0.39</td>\n",
       "      <td>548.19</td>\n",
       "      <td>0.21</td>\n",
       "    </tr>\n",
       "    <tr>\n",
       "      <th>SGDRegressor</th>\n",
       "      <td>0.38</td>\n",
       "      <td>548.61</td>\n",
       "      <td>0.77</td>\n",
       "    </tr>\n",
       "    <tr>\n",
       "      <th>LarsCV</th>\n",
       "      <td>0.35</td>\n",
       "      <td>563.66</td>\n",
       "      <td>0.95</td>\n",
       "    </tr>\n",
       "    <tr>\n",
       "      <th>ElasticNetCV</th>\n",
       "      <td>0.35</td>\n",
       "      <td>564.12</td>\n",
       "      <td>1.12</td>\n",
       "    </tr>\n",
       "    <tr>\n",
       "      <th>HuberRegressor</th>\n",
       "      <td>0.34</td>\n",
       "      <td>568.85</td>\n",
       "      <td>1.05</td>\n",
       "    </tr>\n",
       "    <tr>\n",
       "      <th>ElasticNet</th>\n",
       "      <td>0.33</td>\n",
       "      <td>572.60</td>\n",
       "      <td>0.11</td>\n",
       "    </tr>\n",
       "    <tr>\n",
       "      <th>LinearSVR</th>\n",
       "      <td>0.30</td>\n",
       "      <td>586.64</td>\n",
       "      <td>0.36</td>\n",
       "    </tr>\n",
       "    <tr>\n",
       "      <th>Lars</th>\n",
       "      <td>0.22</td>\n",
       "      <td>617.69</td>\n",
       "      <td>0.12</td>\n",
       "    </tr>\n",
       "    <tr>\n",
       "      <th>DummyRegressor</th>\n",
       "      <td>-0.00</td>\n",
       "      <td>699.47</td>\n",
       "      <td>0.09</td>\n",
       "    </tr>\n",
       "    <tr>\n",
       "      <th>LassoLars</th>\n",
       "      <td>-0.00</td>\n",
       "      <td>699.47</td>\n",
       "      <td>0.17</td>\n",
       "    </tr>\n",
       "    <tr>\n",
       "      <th>RANSACRegressor</th>\n",
       "      <td>-0.11</td>\n",
       "      <td>737.72</td>\n",
       "      <td>0.64</td>\n",
       "    </tr>\n",
       "  </tbody>\n",
       "</table>\n",
       "</div>"
      ],
      "text/plain": [
       "                               R-Squared   RMSE  Time Taken\n",
       "Model                                                      \n",
       "RandomForestRegressor               0.96 132.98       31.37\n",
       "BaggingRegressor                    0.96 138.68        3.35\n",
       "DecisionTreeRegressor               0.94 168.48        0.56\n",
       "ExtraTreesRegressor                 0.94 174.20       26.38\n",
       "LGBMRegressor                       0.93 180.29        1.43\n",
       "HistGradientBoostingRegressor       0.93 180.29        1.91\n",
       "KNeighborsRegressor                 0.90 216.79       69.44\n",
       "ExtraTreeRegressor                  0.90 219.52        0.37\n",
       "XGBRegressor                        0.81 302.89        7.78\n",
       "GradientBoostingRegressor           0.81 303.32        7.80\n",
       "AdaBoostRegressor                   0.66 409.11        3.29\n",
       "BayesianRidge                       0.39 547.77        0.22\n",
       "RidgeCV                             0.39 547.77        0.36\n",
       "Ridge                               0.39 547.77        0.19\n",
       "LinearRegression                    0.39 547.77        0.14\n",
       "TransformedTargetRegressor          0.39 547.77        0.14\n",
       "LassoLarsIC                         0.39 547.77        0.22\n",
       "LassoLarsCV                         0.39 547.77        1.07\n",
       "LassoCV                             0.39 547.81        1.32\n",
       "Lasso                               0.39 548.19        0.21\n",
       "SGDRegressor                        0.38 548.61        0.77\n",
       "LarsCV                              0.35 563.66        0.95\n",
       "ElasticNetCV                        0.35 564.12        1.12\n",
       "HuberRegressor                      0.34 568.85        1.05\n",
       "ElasticNet                          0.33 572.60        0.11\n",
       "LinearSVR                           0.30 586.64        0.36\n",
       "Lars                                0.22 617.69        0.12\n",
       "DummyRegressor                     -0.00 699.47        0.09\n",
       "LassoLars                          -0.00 699.47        0.17\n",
       "RANSACRegressor                    -0.11 737.72        0.64"
      ]
     },
     "execution_count": 23,
     "metadata": {},
     "output_type": "execute_result"
    }
   ],
   "source": [
    "models"
   ]
  },
  {
   "cell_type": "code",
   "execution_count": 24,
   "metadata": {},
   "outputs": [
    {
     "data": {
      "text/html": [
       "<div>\n",
       "<style scoped>\n",
       "    .dataframe tbody tr th:only-of-type {\n",
       "        vertical-align: middle;\n",
       "    }\n",
       "\n",
       "    .dataframe tbody tr th {\n",
       "        vertical-align: top;\n",
       "    }\n",
       "\n",
       "    .dataframe thead th {\n",
       "        text-align: right;\n",
       "    }\n",
       "</style>\n",
       "<table border=\"1\" class=\"dataframe\">\n",
       "  <thead>\n",
       "    <tr style=\"text-align: right;\">\n",
       "      <th></th>\n",
       "      <th>StartTime</th>\n",
       "      <th>EndTime</th>\n",
       "      <th>No_of_Cars</th>\n",
       "      <th>DayOfWeek</th>\n",
       "      <th>Weekend?</th>\n",
       "      <th>isHoliday?</th>\n",
       "      <th>Month</th>\n",
       "      <th>day</th>\n",
       "      <th>Tollname_Dublin Tunnel</th>\n",
       "      <th>Tollname_Eastlink</th>\n",
       "      <th>Tollname_Limerick Tunnel</th>\n",
       "      <th>Tollname_M1</th>\n",
       "      <th>Tollname_M3</th>\n",
       "      <th>Tollname_M4</th>\n",
       "      <th>Tollname_M50</th>\n",
       "      <th>Tollname_M7-M8</th>\n",
       "      <th>Tollname_M8</th>\n",
       "      <th>Tollname_N25</th>\n",
       "      <th>Tollname_N6</th>\n",
       "    </tr>\n",
       "  </thead>\n",
       "  <tbody>\n",
       "    <tr>\n",
       "      <th>0</th>\n",
       "      <td>0</td>\n",
       "      <td>1</td>\n",
       "      <td>218</td>\n",
       "      <td>4</td>\n",
       "      <td>0</td>\n",
       "      <td>0</td>\n",
       "      <td>1.85</td>\n",
       "      <td>1.28</td>\n",
       "      <td>0</td>\n",
       "      <td>0</td>\n",
       "      <td>0</td>\n",
       "      <td>0</td>\n",
       "      <td>0</td>\n",
       "      <td>0</td>\n",
       "      <td>1</td>\n",
       "      <td>0</td>\n",
       "      <td>0</td>\n",
       "      <td>0</td>\n",
       "      <td>0</td>\n",
       "    </tr>\n",
       "    <tr>\n",
       "      <th>1</th>\n",
       "      <td>1</td>\n",
       "      <td>2</td>\n",
       "      <td>134</td>\n",
       "      <td>4</td>\n",
       "      <td>0</td>\n",
       "      <td>0</td>\n",
       "      <td>1.85</td>\n",
       "      <td>1.28</td>\n",
       "      <td>0</td>\n",
       "      <td>0</td>\n",
       "      <td>0</td>\n",
       "      <td>0</td>\n",
       "      <td>0</td>\n",
       "      <td>0</td>\n",
       "      <td>1</td>\n",
       "      <td>0</td>\n",
       "      <td>0</td>\n",
       "      <td>0</td>\n",
       "      <td>0</td>\n",
       "    </tr>\n",
       "    <tr>\n",
       "      <th>2</th>\n",
       "      <td>2</td>\n",
       "      <td>3</td>\n",
       "      <td>124</td>\n",
       "      <td>4</td>\n",
       "      <td>0</td>\n",
       "      <td>0</td>\n",
       "      <td>1.85</td>\n",
       "      <td>1.28</td>\n",
       "      <td>0</td>\n",
       "      <td>0</td>\n",
       "      <td>0</td>\n",
       "      <td>0</td>\n",
       "      <td>0</td>\n",
       "      <td>0</td>\n",
       "      <td>1</td>\n",
       "      <td>0</td>\n",
       "      <td>0</td>\n",
       "      <td>0</td>\n",
       "      <td>0</td>\n",
       "    </tr>\n",
       "    <tr>\n",
       "      <th>3</th>\n",
       "      <td>3</td>\n",
       "      <td>4</td>\n",
       "      <td>138</td>\n",
       "      <td>4</td>\n",
       "      <td>0</td>\n",
       "      <td>0</td>\n",
       "      <td>1.85</td>\n",
       "      <td>1.28</td>\n",
       "      <td>0</td>\n",
       "      <td>0</td>\n",
       "      <td>0</td>\n",
       "      <td>0</td>\n",
       "      <td>0</td>\n",
       "      <td>0</td>\n",
       "      <td>1</td>\n",
       "      <td>0</td>\n",
       "      <td>0</td>\n",
       "      <td>0</td>\n",
       "      <td>0</td>\n",
       "    </tr>\n",
       "    <tr>\n",
       "      <th>4</th>\n",
       "      <td>4</td>\n",
       "      <td>5</td>\n",
       "      <td>273</td>\n",
       "      <td>4</td>\n",
       "      <td>0</td>\n",
       "      <td>0</td>\n",
       "      <td>1.85</td>\n",
       "      <td>1.28</td>\n",
       "      <td>0</td>\n",
       "      <td>0</td>\n",
       "      <td>0</td>\n",
       "      <td>0</td>\n",
       "      <td>0</td>\n",
       "      <td>0</td>\n",
       "      <td>1</td>\n",
       "      <td>0</td>\n",
       "      <td>0</td>\n",
       "      <td>0</td>\n",
       "      <td>0</td>\n",
       "    </tr>\n",
       "  </tbody>\n",
       "</table>\n",
       "</div>"
      ],
      "text/plain": [
       "   StartTime  EndTime  No_of_Cars  DayOfWeek  Weekend?  isHoliday?  Month  \\\n",
       "0          0        1         218          4         0           0   1.85   \n",
       "1          1        2         134          4         0           0   1.85   \n",
       "2          2        3         124          4         0           0   1.85   \n",
       "3          3        4         138          4         0           0   1.85   \n",
       "4          4        5         273          4         0           0   1.85   \n",
       "\n",
       "   day  Tollname_Dublin Tunnel  Tollname_Eastlink  Tollname_Limerick Tunnel  \\\n",
       "0 1.28                       0                  0                         0   \n",
       "1 1.28                       0                  0                         0   \n",
       "2 1.28                       0                  0                         0   \n",
       "3 1.28                       0                  0                         0   \n",
       "4 1.28                       0                  0                         0   \n",
       "\n",
       "   Tollname_M1  Tollname_M3  Tollname_M4  Tollname_M50  Tollname_M7-M8  \\\n",
       "0            0            0            0             1               0   \n",
       "1            0            0            0             1               0   \n",
       "2            0            0            0             1               0   \n",
       "3            0            0            0             1               0   \n",
       "4            0            0            0             1               0   \n",
       "\n",
       "   Tollname_M8  Tollname_N25  Tollname_N6  \n",
       "0            0             0            0  \n",
       "1            0             0            0  \n",
       "2            0             0            0  \n",
       "3            0             0            0  \n",
       "4            0             0            0  "
      ]
     },
     "execution_count": 24,
     "metadata": {},
     "output_type": "execute_result"
    }
   ],
   "source": [
    "df.head()"
   ]
  },
  {
   "cell_type": "code",
   "execution_count": null,
   "metadata": {},
   "outputs": [],
   "source": []
  },
  {
   "cell_type": "code",
   "execution_count": null,
   "metadata": {},
   "outputs": [],
   "source": []
  }
 ],
 "metadata": {
  "kernelspec": {
   "display_name": "Python 3",
   "language": "python",
   "name": "python3"
  },
  "language_info": {
   "codemirror_mode": {
    "name": "ipython",
    "version": 3
   },
   "file_extension": ".py",
   "mimetype": "text/x-python",
   "name": "python",
   "nbconvert_exporter": "python",
   "pygments_lexer": "ipython3",
   "version": "3.7.3"
  }
 },
 "nbformat": 4,
 "nbformat_minor": 4
}
