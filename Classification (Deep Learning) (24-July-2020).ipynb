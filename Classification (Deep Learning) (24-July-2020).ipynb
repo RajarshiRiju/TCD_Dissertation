{
 "cells": [
  {
   "cell_type": "code",
   "execution_count": 37,
   "metadata": {},
   "outputs": [],
   "source": [
    "import os\n",
    "import numpy as np\n",
    "import pandas as pd\n",
    "import matplotlib.pyplot as plt\n",
    "import seaborn as sns\n",
    "import warnings\n",
    "import glob\n",
    "import calendar\n",
    "from sklearn.preprocessing import MinMaxScaler, StandardScaler\n",
    "from sklearn.feature_selection import SelectFromModel\n",
    "\n",
    "pd.options.display.max_columns = None\n",
    "pd.options.display.max_rows = None\n",
    "\n",
    "warnings.filterwarnings('ignore')\n",
    "\n",
    "os.chdir(\"E:/Trinity/Dissertation/Sem 3/models/data/\")"
   ]
  },
  {
   "cell_type": "markdown",
   "metadata": {},
   "source": [
    "Read the new DataFrame"
   ]
  },
  {
   "cell_type": "code",
   "execution_count": 38,
   "metadata": {},
   "outputs": [],
   "source": [
    "os.chdir(\"E:/Trinity/Dissertation/Sem 3/models/\")\n",
    "df = pd.read_csv(\"boost_classifier_data.csv\")  "
   ]
  },
  {
   "cell_type": "markdown",
   "metadata": {},
   "source": [
    "### MODEL"
   ]
  },
  {
   "cell_type": "code",
   "execution_count": 39,
   "metadata": {},
   "outputs": [],
   "source": [
    "# day of week ois important\n",
    "# not keep isHoliday ---- 141.49\n",
    "# keep isHoliday ---- 141.08\n",
    "# Hyper parameter tuning ---- 141.06\n",
    "df_x = df.drop([\"No_of_Cars\", \"Date\", \"EndTime\", \"Year\", \"Tolls\", \"Congestion?\"],axis=1)\n",
    "df_y = df[\"Congestion?\"]"
   ]
  },
  {
   "cell_type": "code",
   "execution_count": 40,
   "metadata": {},
   "outputs": [],
   "source": [
    "from sklearn.model_selection import train_test_split\n",
    "x_train, x_test, y_train, y_test = train_test_split(df_x, df_y, train_size=0.80, random_state=100)"
   ]
  },
  {
   "cell_type": "code",
   "execution_count": 41,
   "metadata": {},
   "outputs": [],
   "source": [
    "import keras\n",
    "from keras.models import Sequential\n",
    "from keras.layers import Dense\n",
    "\n",
    "import tensorflow_docs as tfdocs\n",
    "import tensorflow_docs.plots\n",
    "import tensorflow_docs.modeling"
   ]
  },
  {
   "cell_type": "code",
   "execution_count": 42,
   "metadata": {},
   "outputs": [
    {
     "name": "stdout",
     "output_type": "stream",
     "text": [
      "1.14.0\n"
     ]
    }
   ],
   "source": [
    "import tensorflow as tf\n",
    "\n",
    "from tensorflow import keras\n",
    "from tensorflow.keras import layers\n",
    "\n",
    "print(tf.__version__)"
   ]
  },
  {
   "cell_type": "code",
   "execution_count": 43,
   "metadata": {},
   "outputs": [],
   "source": [
    "def build_model():\n",
    "    model = keras.Sequential([\n",
    "        layers.Dense(64, activation='relu', input_shape=[len(x_train.keys())]),\n",
    "        layers.Dense(64, activation='relu'),\n",
    "        layers.Dense(64, activation='relu'),\n",
    "        layers.Dense(1, activation='sigmoid')\n",
    "    ])\n",
    "    \n",
    "    model.compile(loss='binary_crossentropy',\n",
    "                optimizer='sgd',\n",
    "                metrics=['accuracy'])\n",
    "    return model"
   ]
  },
  {
   "cell_type": "code",
   "execution_count": 44,
   "metadata": {},
   "outputs": [],
   "source": [
    "model = build_model()"
   ]
  },
  {
   "cell_type": "code",
   "execution_count": 32,
   "metadata": {},
   "outputs": [
    {
     "name": "stdout",
     "output_type": "stream",
     "text": [
      "Model: \"sequential_4\"\n",
      "_________________________________________________________________\n",
      "Layer (type)                 Output Shape              Param #   \n",
      "=================================================================\n",
      "dense_15 (Dense)             (None, 64)                1280      \n",
      "_________________________________________________________________\n",
      "dense_16 (Dense)             (None, 64)                4160      \n",
      "_________________________________________________________________\n",
      "dense_17 (Dense)             (None, 64)                4160      \n",
      "_________________________________________________________________\n",
      "dense_18 (Dense)             (None, 1)                 65        \n",
      "=================================================================\n",
      "Total params: 9,665\n",
      "Trainable params: 9,665\n",
      "Non-trainable params: 0\n",
      "_________________________________________________________________\n"
     ]
    }
   ],
   "source": [
    "model.summary()"
   ]
  },
  {
   "cell_type": "code",
   "execution_count": 28,
   "metadata": {},
   "outputs": [],
   "source": [
    "#model.predict(x_test)"
   ]
  },
  {
   "cell_type": "code",
   "execution_count": 55,
   "metadata": {
    "scrolled": true
   },
   "outputs": [
    {
     "name": "stdout",
     "output_type": "stream",
     "text": [
      "Train on 109644 samples, validate on 27411 samples\n",
      "Epoch 1/100\n",
      "109644/109644 [==============================] - 21s 193us/sample - loss: 0.0296 - acc: 0.9933 - val_loss: 0.0284 - val_acc: 0.9924\n",
      "Epoch 2/100\n",
      "109644/109644 [==============================] - 21s 190us/sample - loss: 0.0293 - acc: 0.9932 - val_loss: 0.0268 - val_acc: 0.9934\n",
      "Epoch 3/100\n",
      "109644/109644 [==============================] - 20s 180us/sample - loss: 0.0288 - acc: 0.9934 - val_loss: 0.0294 - val_acc: 0.9934\n",
      "Epoch 4/100\n",
      "109644/109644 [==============================] - 21s 190us/sample - loss: 0.0286 - acc: 0.9935 - val_loss: 0.0292 - val_acc: 0.9927\n",
      "Epoch 5/100\n",
      "109644/109644 [==============================] - 20s 183us/sample - loss: 0.0281 - acc: 0.9937 - val_loss: 0.0617 - val_acc: 0.9866\n",
      "Epoch 6/100\n",
      "109644/109644 [==============================] - 20s 184us/sample - loss: 0.0275 - acc: 0.9938 - val_loss: 0.0259 - val_acc: 0.9937\n",
      "Epoch 7/100\n",
      "109644/109644 [==============================] - 20s 185us/sample - loss: 0.0275 - acc: 0.9937 - val_loss: 0.0261 - val_acc: 0.9939\n",
      "Epoch 8/100\n",
      "109644/109644 [==============================] - 21s 190us/sample - loss: 0.0267 - acc: 0.9941 - val_loss: 0.0241 - val_acc: 0.9949\n",
      "Epoch 9/100\n",
      "109644/109644 [==============================] - 20s 183us/sample - loss: 0.0268 - acc: 0.9940 - val_loss: 0.0257 - val_acc: 0.9940\n",
      "Epoch 10/100\n",
      "109644/109644 [==============================] - 21s 187us/sample - loss: 0.0263 - acc: 0.9942 - val_loss: 0.0303 - val_acc: 0.9952\n",
      "Epoch 11/100\n",
      "109644/109644 [==============================] - 20s 184us/sample - loss: 0.0267 - acc: 0.9938 - val_loss: 0.0254 - val_acc: 0.9939\n",
      "Epoch 12/100\n",
      "109644/109644 [==============================] - 20s 182us/sample - loss: 0.0264 - acc: 0.9939 - val_loss: 0.0240 - val_acc: 0.9945\n",
      "Epoch 13/100\n",
      "109644/109644 [==============================] - 20s 180us/sample - loss: 0.0258 - acc: 0.9941 - val_loss: 0.0256 - val_acc: 0.9938\n",
      "Epoch 14/100\n",
      "109644/109644 [==============================] - 20s 186us/sample - loss: 0.0259 - acc: 0.9941 - val_loss: 0.0242 - val_acc: 0.9942\n",
      "Epoch 15/100\n",
      "109644/109644 [==============================] - 20s 183us/sample - loss: 0.0252 - acc: 0.9944 - val_loss: 0.0387 - val_acc: 0.9914\n",
      "Epoch 16/100\n",
      "109644/109644 [==============================] - 21s 187us/sample - loss: 0.0251 - acc: 0.9942 - val_loss: 0.4274 - val_acc: 0.8606\n",
      "Epoch 17/100\n",
      "109644/109644 [==============================] - 20s 180us/sample - loss: 0.0253 - acc: 0.9941 - val_loss: 0.0284 - val_acc: 0.9937\n",
      "Epoch 18/100\n",
      "109644/109644 [==============================] - 21s 190us/sample - loss: 0.0249 - acc: 0.9942 - val_loss: 0.0279 - val_acc: 0.9952\n",
      "Epoch 19/100\n",
      "109644/109644 [==============================] - 20s 183us/sample - loss: 0.0246 - acc: 0.9944 - val_loss: 0.0219 - val_acc: 0.9952\n",
      "Epoch 20/100\n",
      "109644/109644 [==============================] - 20s 186us/sample - loss: 0.0248 - acc: 0.9941 - val_loss: 0.0216 - val_acc: 0.9952\n",
      "Epoch 21/100\n",
      "109644/109644 [==============================] - 20s 182us/sample - loss: 0.0246 - acc: 0.9942 - val_loss: 0.0244 - val_acc: 0.9941\n",
      "Epoch 22/100\n",
      "109644/109644 [==============================] - 20s 185us/sample - loss: 0.0242 - acc: 0.9942 - val_loss: 0.0211 - val_acc: 0.9952\n",
      "Epoch 23/100\n",
      "109644/109644 [==============================] - 20s 182us/sample - loss: 0.0234 - acc: 0.9944 - val_loss: 0.0212 - val_acc: 0.9952\n",
      "Epoch 24/100\n",
      "109644/109644 [==============================] - 20s 184us/sample - loss: 0.0234 - acc: 0.9945 - val_loss: 0.0216 - val_acc: 0.9955\n",
      "Epoch 25/100\n",
      "109644/109644 [==============================] - 21s 191us/sample - loss: 0.0235 - acc: 0.9945 - val_loss: 0.0246 - val_acc: 0.9939\n",
      "Epoch 26/100\n",
      "109644/109644 [==============================] - 20s 184us/sample - loss: 0.0236 - acc: 0.9944 - val_loss: 0.0258 - val_acc: 0.9935\n",
      "Epoch 27/100\n",
      "109644/109644 [==============================] - 21s 196us/sample - loss: 0.0226 - acc: 0.9946 - val_loss: 0.0221 - val_acc: 0.9949\n",
      "Epoch 28/100\n",
      "109644/109644 [==============================] - 23s 208us/sample - loss: 0.0231 - acc: 0.9946 - val_loss: 0.0208 - val_acc: 0.9952\n",
      "Epoch 29/100\n",
      "109644/109644 [==============================] - 20s 186us/sample - loss: 0.0226 - acc: 0.9947 - val_loss: 0.0227 - val_acc: 0.9943\n",
      "Epoch 30/100\n",
      "109644/109644 [==============================] - 20s 186us/sample - loss: 0.0225 - acc: 0.9948 - val_loss: 0.0217 - val_acc: 0.9951\n",
      "Epoch 31/100\n",
      "109644/109644 [==============================] - 21s 187us/sample - loss: 0.0223 - acc: 0.9947 - val_loss: 0.0244 - val_acc: 0.9940\n",
      "Epoch 32/100\n",
      "109644/109644 [==============================] - 20s 185us/sample - loss: 0.0231 - acc: 0.9943 - val_loss: 0.0229 - val_acc: 0.9946\n",
      "Epoch 33/100\n",
      "109644/109644 [==============================] - 20s 186us/sample - loss: 0.0222 - acc: 0.9947 - val_loss: 0.0203 - val_acc: 0.9952\n",
      "Epoch 34/100\n",
      "109644/109644 [==============================] - 20s 185us/sample - loss: 0.0227 - acc: 0.9944 - val_loss: 0.0236 - val_acc: 0.9942\n",
      "Epoch 35/100\n",
      "109644/109644 [==============================] - 20s 182us/sample - loss: 0.0220 - acc: 0.9947 - val_loss: 0.0218 - val_acc: 0.9952\n",
      "Epoch 36/100\n",
      "109644/109644 [==============================] - 20s 180us/sample - loss: 0.0218 - acc: 0.9948 - val_loss: 0.0201 - val_acc: 0.9952\n",
      "Epoch 37/100\n",
      "109644/109644 [==============================] - 20s 186us/sample - loss: 0.0228 - acc: 0.9945 - val_loss: 0.0196 - val_acc: 0.9952\n",
      "Epoch 38/100\n",
      "109644/109644 [==============================] - 20s 185us/sample - loss: 0.0220 - acc: 0.9946 - val_loss: 0.0222 - val_acc: 0.9951\n",
      "Epoch 39/100\n",
      "109644/109644 [==============================] - 19s 177us/sample - loss: 0.0217 - acc: 0.9946 - val_loss: 0.0208 - val_acc: 0.9951\n",
      "Epoch 40/100\n",
      "109644/109644 [==============================] - 19s 175us/sample - loss: 0.0222 - acc: 0.9946 - val_loss: 0.0224 - val_acc: 0.9945\n",
      "Epoch 41/100\n",
      "109644/109644 [==============================] - 20s 180us/sample - loss: 0.0213 - acc: 0.9948 - val_loss: 0.0226 - val_acc: 0.9946\n",
      "Epoch 42/100\n",
      "109644/109644 [==============================] - 19s 174us/sample - loss: 0.0220 - acc: 0.9946 - val_loss: 0.0229 - val_acc: 0.9943\n",
      "Epoch 43/100\n",
      "109644/109644 [==============================] - 21s 192us/sample - loss: 0.0214 - acc: 0.9947 - val_loss: 0.0197 - val_acc: 0.9953\n",
      "Epoch 44/100\n",
      "109644/109644 [==============================] - 20s 185us/sample - loss: 0.0213 - acc: 0.9947 - val_loss: 0.0283 - val_acc: 0.9940\n",
      "Epoch 45/100\n",
      "109644/109644 [==============================] - 20s 181us/sample - loss: 0.0211 - acc: 0.9947 - val_loss: 0.0208 - val_acc: 0.9954\n",
      "Epoch 46/100\n",
      "109644/109644 [==============================] - 19s 177us/sample - loss: 0.0209 - acc: 0.9947 - val_loss: 0.0197 - val_acc: 0.9952\n"
     ]
    }
   ],
   "source": [
    "EPOCHS = 100\n",
    "early_stop = tf.keras.callbacks.EarlyStopping(monitor='acc', patience=10)\n",
    "history = model.fit(  x_train.values, y_train.values, #batch_size=32,\n",
    "                      epochs=EPOCHS, validation_split = 0.10, verbose=1,\n",
    "                      callbacks=[early_stop],\n",
    "                      validation_data=(x_test, y_test))"
   ]
  },
  {
   "cell_type": "code",
   "execution_count": 46,
   "metadata": {},
   "outputs": [
    {
     "name": "stdout",
     "output_type": "stream",
     "text": [
      "27411/27411 [==============================] - 3s 102us/sample - loss: 0.0293 - acc: 0.9926\n"
     ]
    },
    {
     "data": {
      "text/plain": [
       "0.9926307"
      ]
     },
     "execution_count": 46,
     "metadata": {},
     "output_type": "execute_result"
    }
   ],
   "source": [
    "model.evaluate(x_test, y_test)[1]"
   ]
  },
  {
   "cell_type": "code",
   "execution_count": 48,
   "metadata": {},
   "outputs": [
    {
     "data": {
      "text/html": [
       "<div>\n",
       "<style scoped>\n",
       "    .dataframe tbody tr th:only-of-type {\n",
       "        vertical-align: middle;\n",
       "    }\n",
       "\n",
       "    .dataframe tbody tr th {\n",
       "        vertical-align: top;\n",
       "    }\n",
       "\n",
       "    .dataframe thead th {\n",
       "        text-align: right;\n",
       "    }\n",
       "</style>\n",
       "<table border=\"1\" class=\"dataframe\">\n",
       "  <thead>\n",
       "    <tr style=\"text-align: right;\">\n",
       "      <th></th>\n",
       "      <th>loss</th>\n",
       "      <th>acc</th>\n",
       "      <th>val_loss</th>\n",
       "      <th>val_acc</th>\n",
       "      <th>epoch</th>\n",
       "    </tr>\n",
       "  </thead>\n",
       "  <tbody>\n",
       "    <tr>\n",
       "      <th>15</th>\n",
       "      <td>0.033383</td>\n",
       "      <td>0.991919</td>\n",
       "      <td>0.029342</td>\n",
       "      <td>0.992996</td>\n",
       "      <td>15</td>\n",
       "    </tr>\n",
       "    <tr>\n",
       "      <th>16</th>\n",
       "      <td>0.033578</td>\n",
       "      <td>0.991436</td>\n",
       "      <td>0.030403</td>\n",
       "      <td>0.992156</td>\n",
       "      <td>16</td>\n",
       "    </tr>\n",
       "    <tr>\n",
       "      <th>17</th>\n",
       "      <td>0.031925</td>\n",
       "      <td>0.992284</td>\n",
       "      <td>0.030343</td>\n",
       "      <td>0.993360</td>\n",
       "      <td>17</td>\n",
       "    </tr>\n",
       "    <tr>\n",
       "      <th>18</th>\n",
       "      <td>0.031166</td>\n",
       "      <td>0.992448</td>\n",
       "      <td>0.032629</td>\n",
       "      <td>0.991317</td>\n",
       "      <td>18</td>\n",
       "    </tr>\n",
       "    <tr>\n",
       "      <th>19</th>\n",
       "      <td>0.031292</td>\n",
       "      <td>0.992403</td>\n",
       "      <td>0.029339</td>\n",
       "      <td>0.992631</td>\n",
       "      <td>19</td>\n",
       "    </tr>\n",
       "  </tbody>\n",
       "</table>\n",
       "</div>"
      ],
      "text/plain": [
       "        loss       acc  val_loss   val_acc  epoch\n",
       "15  0.033383  0.991919  0.029342  0.992996     15\n",
       "16  0.033578  0.991436  0.030403  0.992156     16\n",
       "17  0.031925  0.992284  0.030343  0.993360     17\n",
       "18  0.031166  0.992448  0.032629  0.991317     18\n",
       "19  0.031292  0.992403  0.029339  0.992631     19"
      ]
     },
     "execution_count": 48,
     "metadata": {},
     "output_type": "execute_result"
    }
   ],
   "source": [
    "hist = pd.DataFrame(history.history)\n",
    "hist['epoch'] = history.epoch\n",
    "hist.tail()"
   ]
  },
  {
   "cell_type": "code",
   "execution_count": 49,
   "metadata": {},
   "outputs": [],
   "source": [
    "plotter = tfdocs.plots.HistoryPlotter(smoothing_std=2)"
   ]
  },
  {
   "cell_type": "code",
   "execution_count": 52,
   "metadata": {},
   "outputs": [
    {
     "data": {
      "text/plain": [
       "0.9924482703208923"
      ]
     },
     "execution_count": 52,
     "metadata": {},
     "output_type": "execute_result"
    }
   ],
   "source": [
    "hist.acc.max()"
   ]
  },
  {
   "cell_type": "code",
   "execution_count": 54,
   "metadata": {},
   "outputs": [
    {
     "data": {
      "text/plain": [
       "Text(0, 0.5, 'Accuracy')"
      ]
     },
     "execution_count": 54,
     "metadata": {},
     "output_type": "execute_result"
    },
    {
     "data": {
      "image/png": "[encoded data removed]",
      "text/plain": [
       "<Figure size 432x288 with 1 Axes>"
      ]
     },
     "metadata": {
      "needs_background": "light"
     },
     "output_type": "display_data"
    }
   ],
   "source": [
    "plotter.plot({'Basic': history}, metric = \"acc\")\n",
    "plt.ylim([0.96, 1])\n",
    "plt.ylabel('Accuracy')"
   ]
  },
  {
   "cell_type": "code",
   "execution_count": null,
   "metadata": {},
   "outputs": [],
   "source": [
    "loss, mae, mse = model.evaluate(x_test, y_test, verbose=2)\n",
    "\n",
    "print(\"Testing set Mean Abs Error: {:5.2f} MPG\".format(mae))"
   ]
  },
  {
   "cell_type": "code",
   "execution_count": null,
   "metadata": {},
   "outputs": [],
   "source": [
    "ypred = model.predict(x_test)"
   ]
  },
  {
   "cell_type": "code",
   "execution_count": null,
   "metadata": {},
   "outputs": [],
   "source": []
  },
  {
   "cell_type": "code",
   "execution_count": null,
   "metadata": {},
   "outputs": [],
   "source": []
  },
  {
   "cell_type": "code",
   "execution_count": null,
   "metadata": {},
   "outputs": [],
   "source": [
    "data = pd.DataFrame(ypred, y_test).reset_index()"
   ]
  },
  {
   "cell_type": "code",
   "execution_count": null,
   "metadata": {},
   "outputs": [],
   "source": [
    "plt.figure(figsize=(20,8))\n",
    "plt.plot(data[\"No_of_Cars\"].head(100), label=\"Actual\")\n",
    "plt.plot(data[0].head(100), label=\"Predicted\")\n",
    "plt.legend(loc=\"upper right\")\n",
    "plt.show()"
   ]
  },
  {
   "cell_type": "code",
   "execution_count": null,
   "metadata": {},
   "outputs": [],
   "source": [
    "test = pd.DataFrame(y_test)\n",
    "pred = pd.DataFrame(ypred)\n",
    "final = pd.concat([test, pred], axis=1)\n",
    "test.to_csv(\"test.csv\")\n",
    "pred.to_csv(\"pred.csv\")\n",
    "# manually merge the CSVs"
   ]
  },
  {
   "cell_type": "code",
   "execution_count": null,
   "metadata": {},
   "outputs": [],
   "source": [
    "data = pd.read_csv(\"test.csv\")\n",
    "data = data.set_index('Index')\n"
   ]
  },
  {
   "cell_type": "code",
   "execution_count": null,
   "metadata": {},
   "outputs": [],
   "source": [
    "merged = pd.merge(left=df, left_index=True,\n",
    "                  right=data, right_index=True,\n",
    "                  how='inner')"
   ]
  },
  {
   "cell_type": "code",
   "execution_count": null,
   "metadata": {},
   "outputs": [],
   "source": [
    "merged.head()"
   ]
  },
  {
   "cell_type": "code",
   "execution_count": null,
   "metadata": {},
   "outputs": [],
   "source": [
    "final = merged[[\"Date\",\"Tolls\",\"StartTime\",\"DayOfWeek\",\"isHoliday?\",\"No_of_Cars_y\",\"Predicted\"]]\n",
    "\n",
    "final[\"Inaccuracy\"] = abs(final[\"No_of_Cars_y\"] - final[\"Predicted\"])\n",
    "final[\"Precision\"] = final[\"Inaccuracy\"]/final[\"No_of_Cars_y\"]\n",
    "\n",
    "final = final.sort_values(\"Precision\", ascending=False)\n",
    "\n",
    "#final[(final[\"Precision\"]>1) & (final[\"No_of_Cars_y\"]>10)]"
   ]
  },
  {
   "cell_type": "code",
   "execution_count": null,
   "metadata": {},
   "outputs": [],
   "source": [
    "final.head()"
   ]
  },
  {
   "cell_type": "code",
   "execution_count": null,
   "metadata": {},
   "outputs": [],
   "source": [
    "final.to_csv(\"RF_Predictions.csv\", index=False)\n",
    "#del(final)\n",
    "del(test)\n",
    "del(merged)\n",
    "del(pred)\n",
    "del(data)"
   ]
  },
  {
   "cell_type": "code",
   "execution_count": null,
   "metadata": {},
   "outputs": [],
   "source": []
  }
 ],
 "metadata": {
  "kernelspec": {
   "display_name": "Python 3",
   "language": "python",
   "name": "python3"
  },
  "language_info": {
   "codemirror_mode": {
    "name": "ipython",
    "version": 3
   },
   "file_extension": ".py",
   "mimetype": "text/x-python",
   "name": "python",
   "nbconvert_exporter": "python",
   "pygments_lexer": "ipython3",
   "version": "3.7.7"
  }
 },
 "nbformat": 4,
 "nbformat_minor": 4
}
