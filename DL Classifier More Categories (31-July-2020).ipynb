{
 "cells": [
  {
   "cell_type": "code",
   "execution_count": 88,
   "metadata": {},
   "outputs": [],
   "source": [
    "import os\n",
    "import numpy as np\n",
    "import pandas as pd\n",
    "import matplotlib.pyplot as plt\n",
    "import seaborn as sns\n",
    "import warnings\n",
    "import glob\n",
    "import calendar\n",
    "from sklearn.preprocessing import MinMaxScaler, StandardScaler\n",
    "from sklearn.feature_selection import SelectFromModel\n",
    "import keras\n",
    "\n",
    "pd.options.display.max_columns = None\n",
    "pd.options.display.max_rows = None\n",
    "\n",
    "warnings.filterwarnings('ignore')\n",
    "\n",
    "os.chdir(\"E:/Trinity/Dissertation/Sem 3/models/data/\")"
   ]
  },
  {
   "cell_type": "markdown",
   "metadata": {},
   "source": [
    "Read the new DataFrame"
   ]
  },
  {
   "cell_type": "code",
   "execution_count": 89,
   "metadata": {},
   "outputs": [],
   "source": [
    "os.chdir(\"E:/Trinity/Dissertation/Sem 3/models/\")\n",
    "df = pd.read_csv(\"MoreCategoriesData.csv\")  "
   ]
  },
  {
   "cell_type": "code",
   "execution_count": 90,
   "metadata": {},
   "outputs": [
    {
     "data": {
      "text/html": [
       "<div>\n",
       "<style scoped>\n",
       "    .dataframe tbody tr th:only-of-type {\n",
       "        vertical-align: middle;\n",
       "    }\n",
       "\n",
       "    .dataframe tbody tr th {\n",
       "        vertical-align: top;\n",
       "    }\n",
       "\n",
       "    .dataframe thead th {\n",
       "        text-align: right;\n",
       "    }\n",
       "</style>\n",
       "<table border=\"1\" class=\"dataframe\">\n",
       "  <thead>\n",
       "    <tr style=\"text-align: right;\">\n",
       "      <th></th>\n",
       "      <th>Date</th>\n",
       "      <th>StartTime</th>\n",
       "      <th>EndTime</th>\n",
       "      <th>No_of_Cars</th>\n",
       "      <th>DayOfWeek</th>\n",
       "      <th>Weekend?</th>\n",
       "      <th>isHoliday?</th>\n",
       "      <th>Month</th>\n",
       "      <th>Day</th>\n",
       "      <th>Year</th>\n",
       "      <th>Tolls</th>\n",
       "      <th>Tollname_Dublin Tunnel</th>\n",
       "      <th>Tollname_Eastlink</th>\n",
       "      <th>Tollname_Limerick Tunnel</th>\n",
       "      <th>Tollname_M1</th>\n",
       "      <th>Tollname_M3</th>\n",
       "      <th>Tollname_M4</th>\n",
       "      <th>Tollname_M50</th>\n",
       "      <th>Tollname_M7-M8</th>\n",
       "      <th>Tollname_M8</th>\n",
       "      <th>Tollname_N25</th>\n",
       "      <th>Tollname_N6</th>\n",
       "      <th>ScaledStartTime</th>\n",
       "      <th>ScaledDayofWeek</th>\n",
       "      <th>TrafficCategory</th>\n",
       "    </tr>\n",
       "  </thead>\n",
       "  <tbody>\n",
       "    <tr>\n",
       "      <th>0</th>\n",
       "      <td>01-01-2019</td>\n",
       "      <td>0</td>\n",
       "      <td>1</td>\n",
       "      <td>22</td>\n",
       "      <td>2</td>\n",
       "      <td>0</td>\n",
       "      <td>1</td>\n",
       "      <td>-1.552307</td>\n",
       "      <td>-1.676356</td>\n",
       "      <td>2019</td>\n",
       "      <td>M7-M8</td>\n",
       "      <td>0</td>\n",
       "      <td>0</td>\n",
       "      <td>0</td>\n",
       "      <td>0</td>\n",
       "      <td>0</td>\n",
       "      <td>0</td>\n",
       "      <td>0</td>\n",
       "      <td>1</td>\n",
       "      <td>0</td>\n",
       "      <td>0</td>\n",
       "      <td>0</td>\n",
       "      <td>-1.661325</td>\n",
       "      <td>-0.974781</td>\n",
       "      <td>1</td>\n",
       "    </tr>\n",
       "    <tr>\n",
       "      <th>1</th>\n",
       "      <td>01-01-2019</td>\n",
       "      <td>1</td>\n",
       "      <td>2</td>\n",
       "      <td>29</td>\n",
       "      <td>2</td>\n",
       "      <td>0</td>\n",
       "      <td>1</td>\n",
       "      <td>-1.552307</td>\n",
       "      <td>-1.676356</td>\n",
       "      <td>2019</td>\n",
       "      <td>M7-M8</td>\n",
       "      <td>0</td>\n",
       "      <td>0</td>\n",
       "      <td>0</td>\n",
       "      <td>0</td>\n",
       "      <td>0</td>\n",
       "      <td>0</td>\n",
       "      <td>0</td>\n",
       "      <td>1</td>\n",
       "      <td>0</td>\n",
       "      <td>0</td>\n",
       "      <td>0</td>\n",
       "      <td>-1.516862</td>\n",
       "      <td>-0.974781</td>\n",
       "      <td>1</td>\n",
       "    </tr>\n",
       "    <tr>\n",
       "      <th>2</th>\n",
       "      <td>01-01-2019</td>\n",
       "      <td>2</td>\n",
       "      <td>3</td>\n",
       "      <td>25</td>\n",
       "      <td>2</td>\n",
       "      <td>0</td>\n",
       "      <td>1</td>\n",
       "      <td>-1.552307</td>\n",
       "      <td>-1.676356</td>\n",
       "      <td>2019</td>\n",
       "      <td>M7-M8</td>\n",
       "      <td>0</td>\n",
       "      <td>0</td>\n",
       "      <td>0</td>\n",
       "      <td>0</td>\n",
       "      <td>0</td>\n",
       "      <td>0</td>\n",
       "      <td>0</td>\n",
       "      <td>1</td>\n",
       "      <td>0</td>\n",
       "      <td>0</td>\n",
       "      <td>0</td>\n",
       "      <td>-1.372399</td>\n",
       "      <td>-0.974781</td>\n",
       "      <td>1</td>\n",
       "    </tr>\n",
       "    <tr>\n",
       "      <th>3</th>\n",
       "      <td>01-01-2019</td>\n",
       "      <td>3</td>\n",
       "      <td>4</td>\n",
       "      <td>31</td>\n",
       "      <td>2</td>\n",
       "      <td>0</td>\n",
       "      <td>1</td>\n",
       "      <td>-1.552307</td>\n",
       "      <td>-1.676356</td>\n",
       "      <td>2019</td>\n",
       "      <td>M7-M8</td>\n",
       "      <td>0</td>\n",
       "      <td>0</td>\n",
       "      <td>0</td>\n",
       "      <td>0</td>\n",
       "      <td>0</td>\n",
       "      <td>0</td>\n",
       "      <td>0</td>\n",
       "      <td>1</td>\n",
       "      <td>0</td>\n",
       "      <td>0</td>\n",
       "      <td>0</td>\n",
       "      <td>-1.227936</td>\n",
       "      <td>-0.974781</td>\n",
       "      <td>1</td>\n",
       "    </tr>\n",
       "    <tr>\n",
       "      <th>4</th>\n",
       "      <td>01-01-2019</td>\n",
       "      <td>4</td>\n",
       "      <td>5</td>\n",
       "      <td>24</td>\n",
       "      <td>2</td>\n",
       "      <td>0</td>\n",
       "      <td>1</td>\n",
       "      <td>-1.552307</td>\n",
       "      <td>-1.676356</td>\n",
       "      <td>2019</td>\n",
       "      <td>M7-M8</td>\n",
       "      <td>0</td>\n",
       "      <td>0</td>\n",
       "      <td>0</td>\n",
       "      <td>0</td>\n",
       "      <td>0</td>\n",
       "      <td>0</td>\n",
       "      <td>0</td>\n",
       "      <td>1</td>\n",
       "      <td>0</td>\n",
       "      <td>0</td>\n",
       "      <td>0</td>\n",
       "      <td>-1.083473</td>\n",
       "      <td>-0.974781</td>\n",
       "      <td>1</td>\n",
       "    </tr>\n",
       "  </tbody>\n",
       "</table>\n",
       "</div>"
      ],
      "text/plain": [
       "         Date  StartTime  EndTime  No_of_Cars  DayOfWeek  Weekend?  \\\n",
       "0  01-01-2019          0        1          22          2         0   \n",
       "1  01-01-2019          1        2          29          2         0   \n",
       "2  01-01-2019          2        3          25          2         0   \n",
       "3  01-01-2019          3        4          31          2         0   \n",
       "4  01-01-2019          4        5          24          2         0   \n",
       "\n",
       "   isHoliday?     Month       Day  Year  Tolls  Tollname_Dublin Tunnel  \\\n",
       "0           1 -1.552307 -1.676356  2019  M7-M8                       0   \n",
       "1           1 -1.552307 -1.676356  2019  M7-M8                       0   \n",
       "2           1 -1.552307 -1.676356  2019  M7-M8                       0   \n",
       "3           1 -1.552307 -1.676356  2019  M7-M8                       0   \n",
       "4           1 -1.552307 -1.676356  2019  M7-M8                       0   \n",
       "\n",
       "   Tollname_Eastlink  Tollname_Limerick Tunnel  Tollname_M1  Tollname_M3  \\\n",
       "0                  0                         0            0            0   \n",
       "1                  0                         0            0            0   \n",
       "2                  0                         0            0            0   \n",
       "3                  0                         0            0            0   \n",
       "4                  0                         0            0            0   \n",
       "\n",
       "   Tollname_M4  Tollname_M50  Tollname_M7-M8  Tollname_M8  Tollname_N25  \\\n",
       "0            0             0               1            0             0   \n",
       "1            0             0               1            0             0   \n",
       "2            0             0               1            0             0   \n",
       "3            0             0               1            0             0   \n",
       "4            0             0               1            0             0   \n",
       "\n",
       "   Tollname_N6  ScaledStartTime  ScaledDayofWeek  TrafficCategory  \n",
       "0            0        -1.661325        -0.974781                1  \n",
       "1            0        -1.516862        -0.974781                1  \n",
       "2            0        -1.372399        -0.974781                1  \n",
       "3            0        -1.227936        -0.974781                1  \n",
       "4            0        -1.083473        -0.974781                1  "
      ]
     },
     "execution_count": 90,
     "metadata": {},
     "output_type": "execute_result"
    }
   ],
   "source": [
    "df.head()"
   ]
  },
  {
   "cell_type": "code",
   "execution_count": 91,
   "metadata": {},
   "outputs": [
    {
     "name": "stdout",
     "output_type": "stream",
     "text": [
      "M7-M8\n",
      "0.25    100.0\n",
      "0.50    499.0\n",
      "0.75    800.0\n",
      "Name: No_of_Cars, dtype: float64\n",
      "N6\n",
      "0.25     40.0\n",
      "0.50    248.0\n",
      "0.75    421.0\n",
      "Name: No_of_Cars, dtype: float64\n",
      "N25\n",
      "0.25     16.0\n",
      "0.50    129.0\n",
      "0.75    300.0\n",
      "Name: No_of_Cars, dtype: float64\n",
      "M50\n",
      "0.25     274.0\n",
      "0.50    1252.5\n",
      "0.75    3014.0\n",
      "Name: No_of_Cars, dtype: float64\n",
      "M1\n",
      "0.25     122.00\n",
      "0.50     758.50\n",
      "0.75    1420.25\n",
      "Name: No_of_Cars, dtype: float64\n",
      "M8\n",
      "0.25      0.0\n",
      "0.50     78.0\n",
      "0.75    491.0\n",
      "Name: No_of_Cars, dtype: float64\n",
      "M3\n",
      "0.25      82.0\n",
      "0.50     637.5\n",
      "0.75    1256.0\n",
      "Name: No_of_Cars, dtype: float64\n",
      "Eastlink\n",
      "0.25     57.0\n",
      "0.50    417.0\n",
      "0.75    839.0\n",
      "Name: No_of_Cars, dtype: float64\n",
      "M4\n",
      "0.25      76.0\n",
      "0.50     445.5\n",
      "0.75    1008.0\n",
      "Name: No_of_Cars, dtype: float64\n",
      "--\n",
      "0.25    0.0\n",
      "0.50    0.0\n",
      "0.75    0.0\n",
      "Name: No_of_Cars, dtype: float64\n",
      "Dublin Tunnel\n",
      "0.25      0.0\n",
      "0.50     80.0\n",
      "0.75    367.0\n",
      "Name: No_of_Cars, dtype: float64\n",
      "Limerick Tunnel\n",
      "0.25      0.0\n",
      "0.50     37.0\n",
      "0.75    398.0\n",
      "Name: No_of_Cars, dtype: float64\n"
     ]
    }
   ],
   "source": [
    "# Quartiles\n",
    "tolls = df[\"Tolls\"].unique()\n",
    "for toll in tolls:\n",
    "    print(toll)\n",
    "    quants = df[df[\"Tolls\"] == toll][\"No_of_Cars\"].quantile([0.25, 0.50, 0.75])\n",
    "    print(quants)\n",
    "    df.loc[(df[\"Tolls\"]==toll) & (df[\"No_of_Cars\"]<=quants[0.25]),\"TrafficCategory\"] = 1\n",
    "    df.loc[(df[\"Tolls\"]==toll) & (df[\"No_of_Cars\"]>quants[0.25]) & (df[\"No_of_Cars\"]<=quants[0.50]),\"TrafficCategory\"] = 2\n",
    "    df.loc[(df[\"Tolls\"]==toll) & (df[\"No_of_Cars\"]>quants[0.50]) & (df[\"No_of_Cars\"]<=quants[0.75]),\"TrafficCategory\"] = 3\n",
    "    df.loc[(df[\"Tolls\"]==toll) & (df[\"No_of_Cars\"]>quants[0.75]),\"TrafficCategory\"] = 4"
   ]
  },
  {
   "cell_type": "markdown",
   "metadata": {},
   "source": [
    "### OR"
   ]
  },
  {
   "cell_type": "code",
   "execution_count": 4,
   "metadata": {
    "collapsed": true
   },
   "outputs": [
    {
     "name": "stdout",
     "output_type": "stream",
     "text": [
      "M7-M8\n",
      "N6\n",
      "N25\n",
      "M50\n",
      "M1\n",
      "M8\n",
      "M3\n",
      "Eastlink\n",
      "M4\n",
      "--\n",
      "Dublin Tunnel\n"
     ]
    },
    {
     "ename": "KeyboardInterrupt",
     "evalue": "",
     "output_type": "error",
     "traceback": [
      "\u001b[1;31m---------------------------------------------------------------------------\u001b[0m",
      "\u001b[1;31mKeyboardInterrupt\u001b[0m                         Traceback (most recent call last)",
      "\u001b[1;32m<ipython-input-4-8788f4a763c9>\u001b[0m in \u001b[0;36m<module>\u001b[1;34m\u001b[0m\n\u001b[0;32m      9\u001b[0m     \u001b[0mdf\u001b[0m\u001b[1;33m.\u001b[0m\u001b[0mloc\u001b[0m\u001b[1;33m[\u001b[0m\u001b[1;33m(\u001b[0m\u001b[0mdf\u001b[0m\u001b[1;33m[\u001b[0m\u001b[1;34m\"Tolls\"\u001b[0m\u001b[1;33m]\u001b[0m\u001b[1;33m==\u001b[0m\u001b[0mtoll\u001b[0m\u001b[1;33m)\u001b[0m \u001b[1;33m&\u001b[0m \u001b[1;33m(\u001b[0m\u001b[0mdf\u001b[0m\u001b[1;33m[\u001b[0m\u001b[1;34m\"No_of_Cars\"\u001b[0m\u001b[1;33m]\u001b[0m\u001b[1;33m<=\u001b[0m\u001b[1;33m(\u001b[0m\u001b[0mminCars\u001b[0m\u001b[1;33m+\u001b[0m\u001b[0mrangeCars\u001b[0m\u001b[1;33m)\u001b[0m\u001b[1;33m)\u001b[0m\u001b[1;33m,\u001b[0m\u001b[1;34m\"TrafficCategory\"\u001b[0m\u001b[1;33m]\u001b[0m \u001b[1;33m=\u001b[0m \u001b[1;36m1\u001b[0m\u001b[1;33m\u001b[0m\u001b[1;33m\u001b[0m\u001b[0m\n\u001b[0;32m     10\u001b[0m     \u001b[0mdf\u001b[0m\u001b[1;33m.\u001b[0m\u001b[0mloc\u001b[0m\u001b[1;33m[\u001b[0m\u001b[1;33m(\u001b[0m\u001b[0mdf\u001b[0m\u001b[1;33m[\u001b[0m\u001b[1;34m\"Tolls\"\u001b[0m\u001b[1;33m]\u001b[0m\u001b[1;33m==\u001b[0m\u001b[0mtoll\u001b[0m\u001b[1;33m)\u001b[0m \u001b[1;33m&\u001b[0m \u001b[1;33m(\u001b[0m\u001b[0mdf\u001b[0m\u001b[1;33m[\u001b[0m\u001b[1;34m\"No_of_Cars\"\u001b[0m\u001b[1;33m]\u001b[0m\u001b[1;33m>\u001b[0m\u001b[1;33m(\u001b[0m\u001b[0mminCars\u001b[0m\u001b[1;33m+\u001b[0m\u001b[0mrangeCars\u001b[0m\u001b[1;33m)\u001b[0m\u001b[1;33m)\u001b[0m \u001b[1;33m&\u001b[0m \u001b[1;33m(\u001b[0m\u001b[0mdf\u001b[0m\u001b[1;33m[\u001b[0m\u001b[1;34m\"No_of_Cars\"\u001b[0m\u001b[1;33m]\u001b[0m\u001b[1;33m<=\u001b[0m\u001b[1;33m(\u001b[0m\u001b[0mminCars\u001b[0m\u001b[1;33m+\u001b[0m\u001b[1;36m2\u001b[0m\u001b[1;33m*\u001b[0m\u001b[0mrangeCars\u001b[0m\u001b[1;33m)\u001b[0m\u001b[1;33m)\u001b[0m\u001b[1;33m,\u001b[0m\u001b[1;34m\"TrafficCategory\"\u001b[0m\u001b[1;33m]\u001b[0m \u001b[1;33m=\u001b[0m \u001b[1;36m2\u001b[0m\u001b[1;33m\u001b[0m\u001b[1;33m\u001b[0m\u001b[0m\n\u001b[1;32m---> 11\u001b[1;33m     \u001b[0mdf\u001b[0m\u001b[1;33m.\u001b[0m\u001b[0mloc\u001b[0m\u001b[1;33m[\u001b[0m\u001b[1;33m(\u001b[0m\u001b[0mdf\u001b[0m\u001b[1;33m[\u001b[0m\u001b[1;34m\"Tolls\"\u001b[0m\u001b[1;33m]\u001b[0m\u001b[1;33m==\u001b[0m\u001b[0mtoll\u001b[0m\u001b[1;33m)\u001b[0m \u001b[1;33m&\u001b[0m \u001b[1;33m(\u001b[0m\u001b[0mdf\u001b[0m\u001b[1;33m[\u001b[0m\u001b[1;34m\"No_of_Cars\"\u001b[0m\u001b[1;33m]\u001b[0m\u001b[1;33m>\u001b[0m\u001b[1;33m(\u001b[0m\u001b[0mminCars\u001b[0m\u001b[1;33m+\u001b[0m\u001b[1;36m2\u001b[0m\u001b[1;33m*\u001b[0m\u001b[0mrangeCars\u001b[0m\u001b[1;33m)\u001b[0m\u001b[1;33m)\u001b[0m \u001b[1;33m&\u001b[0m \u001b[1;33m(\u001b[0m\u001b[0mdf\u001b[0m\u001b[1;33m[\u001b[0m\u001b[1;34m\"No_of_Cars\"\u001b[0m\u001b[1;33m]\u001b[0m\u001b[1;33m<=\u001b[0m\u001b[1;33m(\u001b[0m\u001b[0mminCars\u001b[0m\u001b[1;33m+\u001b[0m\u001b[1;36m3\u001b[0m\u001b[1;33m*\u001b[0m\u001b[0mrangeCars\u001b[0m\u001b[1;33m)\u001b[0m\u001b[1;33m)\u001b[0m\u001b[1;33m,\u001b[0m\u001b[1;34m\"TrafficCategory\"\u001b[0m\u001b[1;33m]\u001b[0m \u001b[1;33m=\u001b[0m \u001b[1;36m3\u001b[0m\u001b[1;33m\u001b[0m\u001b[1;33m\u001b[0m\u001b[0m\n\u001b[0m\u001b[0;32m     12\u001b[0m     \u001b[0mdf\u001b[0m\u001b[1;33m.\u001b[0m\u001b[0mloc\u001b[0m\u001b[1;33m[\u001b[0m\u001b[1;33m(\u001b[0m\u001b[0mdf\u001b[0m\u001b[1;33m[\u001b[0m\u001b[1;34m\"Tolls\"\u001b[0m\u001b[1;33m]\u001b[0m\u001b[1;33m==\u001b[0m\u001b[0mtoll\u001b[0m\u001b[1;33m)\u001b[0m \u001b[1;33m&\u001b[0m \u001b[1;33m(\u001b[0m\u001b[0mdf\u001b[0m\u001b[1;33m[\u001b[0m\u001b[1;34m\"No_of_Cars\"\u001b[0m\u001b[1;33m]\u001b[0m\u001b[1;33m>\u001b[0m\u001b[1;33m(\u001b[0m\u001b[0mminCars\u001b[0m\u001b[1;33m+\u001b[0m\u001b[1;36m3\u001b[0m\u001b[1;33m*\u001b[0m\u001b[0mrangeCars\u001b[0m\u001b[1;33m)\u001b[0m\u001b[1;33m)\u001b[0m\u001b[1;33m,\u001b[0m\u001b[1;34m\"TrafficCategory\"\u001b[0m\u001b[1;33m]\u001b[0m \u001b[1;33m=\u001b[0m \u001b[1;36m4\u001b[0m\u001b[1;33m\u001b[0m\u001b[1;33m\u001b[0m\u001b[0m\n",
      "\u001b[1;32m~\\Anaconda3\\lib\\site-packages\\pandas\\core\\indexing.py\u001b[0m in \u001b[0;36m__setitem__\u001b[1;34m(self, key, value)\u001b[0m\n\u001b[0;32m    668\u001b[0m         \u001b[1;32melse\u001b[0m\u001b[1;33m:\u001b[0m\u001b[1;33m\u001b[0m\u001b[1;33m\u001b[0m\u001b[0m\n\u001b[0;32m    669\u001b[0m             \u001b[0mkey\u001b[0m \u001b[1;33m=\u001b[0m \u001b[0mcom\u001b[0m\u001b[1;33m.\u001b[0m\u001b[0mapply_if_callable\u001b[0m\u001b[1;33m(\u001b[0m\u001b[0mkey\u001b[0m\u001b[1;33m,\u001b[0m \u001b[0mself\u001b[0m\u001b[1;33m.\u001b[0m\u001b[0mobj\u001b[0m\u001b[1;33m)\u001b[0m\u001b[1;33m\u001b[0m\u001b[1;33m\u001b[0m\u001b[0m\n\u001b[1;32m--> 670\u001b[1;33m         \u001b[0mindexer\u001b[0m \u001b[1;33m=\u001b[0m \u001b[0mself\u001b[0m\u001b[1;33m.\u001b[0m\u001b[0m_get_setitem_indexer\u001b[0m\u001b[1;33m(\u001b[0m\u001b[0mkey\u001b[0m\u001b[1;33m)\u001b[0m\u001b[1;33m\u001b[0m\u001b[1;33m\u001b[0m\u001b[0m\n\u001b[0m\u001b[0;32m    671\u001b[0m         \u001b[0mself\u001b[0m\u001b[1;33m.\u001b[0m\u001b[0m_setitem_with_indexer\u001b[0m\u001b[1;33m(\u001b[0m\u001b[0mindexer\u001b[0m\u001b[1;33m,\u001b[0m \u001b[0mvalue\u001b[0m\u001b[1;33m)\u001b[0m\u001b[1;33m\u001b[0m\u001b[1;33m\u001b[0m\u001b[0m\n\u001b[0;32m    672\u001b[0m \u001b[1;33m\u001b[0m\u001b[0m\n",
      "\u001b[1;32m~\\Anaconda3\\lib\\site-packages\\pandas\\core\\indexing.py\u001b[0m in \u001b[0;36m_get_setitem_indexer\u001b[1;34m(self, key)\u001b[0m\n\u001b[0;32m    646\u001b[0m         \u001b[1;32mif\u001b[0m \u001b[0misinstance\u001b[0m\u001b[1;33m(\u001b[0m\u001b[0mkey\u001b[0m\u001b[1;33m,\u001b[0m \u001b[0mtuple\u001b[0m\u001b[1;33m)\u001b[0m\u001b[1;33m:\u001b[0m\u001b[1;33m\u001b[0m\u001b[1;33m\u001b[0m\u001b[0m\n\u001b[0;32m    647\u001b[0m             \u001b[1;32mtry\u001b[0m\u001b[1;33m:\u001b[0m\u001b[1;33m\u001b[0m\u001b[1;33m\u001b[0m\u001b[0m\n\u001b[1;32m--> 648\u001b[1;33m                 \u001b[1;32mreturn\u001b[0m \u001b[0mself\u001b[0m\u001b[1;33m.\u001b[0m\u001b[0m_convert_tuple\u001b[0m\u001b[1;33m(\u001b[0m\u001b[0mkey\u001b[0m\u001b[1;33m)\u001b[0m\u001b[1;33m\u001b[0m\u001b[1;33m\u001b[0m\u001b[0m\n\u001b[0m\u001b[0;32m    649\u001b[0m             \u001b[1;32mexcept\u001b[0m \u001b[0mIndexingError\u001b[0m\u001b[1;33m:\u001b[0m\u001b[1;33m\u001b[0m\u001b[1;33m\u001b[0m\u001b[0m\n\u001b[0;32m    650\u001b[0m                 \u001b[1;32mpass\u001b[0m\u001b[1;33m\u001b[0m\u001b[1;33m\u001b[0m\u001b[0m\n",
      "\u001b[1;32m~\\Anaconda3\\lib\\site-packages\\pandas\\core\\indexing.py\u001b[0m in \u001b[0;36m_convert_tuple\u001b[1;34m(self, key)\u001b[0m\n\u001b[0;32m    731\u001b[0m                 \u001b[1;32mif\u001b[0m \u001b[0mi\u001b[0m \u001b[1;33m>=\u001b[0m \u001b[0mself\u001b[0m\u001b[1;33m.\u001b[0m\u001b[0mndim\u001b[0m\u001b[1;33m:\u001b[0m\u001b[1;33m\u001b[0m\u001b[1;33m\u001b[0m\u001b[0m\n\u001b[0;32m    732\u001b[0m                     \u001b[1;32mraise\u001b[0m \u001b[0mIndexingError\u001b[0m\u001b[1;33m(\u001b[0m\u001b[1;34m\"Too many indexers\"\u001b[0m\u001b[1;33m)\u001b[0m\u001b[1;33m\u001b[0m\u001b[1;33m\u001b[0m\u001b[0m\n\u001b[1;32m--> 733\u001b[1;33m                 \u001b[0midx\u001b[0m \u001b[1;33m=\u001b[0m \u001b[0mself\u001b[0m\u001b[1;33m.\u001b[0m\u001b[0m_convert_to_indexer\u001b[0m\u001b[1;33m(\u001b[0m\u001b[0mk\u001b[0m\u001b[1;33m,\u001b[0m \u001b[0maxis\u001b[0m\u001b[1;33m=\u001b[0m\u001b[0mi\u001b[0m\u001b[1;33m)\u001b[0m\u001b[1;33m\u001b[0m\u001b[1;33m\u001b[0m\u001b[0m\n\u001b[0m\u001b[0;32m    734\u001b[0m                 \u001b[0mkeyidx\u001b[0m\u001b[1;33m.\u001b[0m\u001b[0mappend\u001b[0m\u001b[1;33m(\u001b[0m\u001b[0midx\u001b[0m\u001b[1;33m)\u001b[0m\u001b[1;33m\u001b[0m\u001b[1;33m\u001b[0m\u001b[0m\n\u001b[0;32m    735\u001b[0m         \u001b[1;32mreturn\u001b[0m \u001b[0mtuple\u001b[0m\u001b[1;33m(\u001b[0m\u001b[0mkeyidx\u001b[0m\u001b[1;33m)\u001b[0m\u001b[1;33m\u001b[0m\u001b[1;33m\u001b[0m\u001b[0m\n",
      "\u001b[1;32m~\\Anaconda3\\lib\\site-packages\\pandas\\core\\indexing.py\u001b[0m in \u001b[0;36m_convert_to_indexer\u001b[1;34m(self, obj, axis, raise_missing)\u001b[0m\n\u001b[0;32m   1691\u001b[0m         \u001b[1;31m# if we are a label return me\u001b[0m\u001b[1;33m\u001b[0m\u001b[1;33m\u001b[0m\u001b[1;33m\u001b[0m\u001b[0m\n\u001b[0;32m   1692\u001b[0m         \u001b[1;32mtry\u001b[0m\u001b[1;33m:\u001b[0m\u001b[1;33m\u001b[0m\u001b[1;33m\u001b[0m\u001b[0m\n\u001b[1;32m-> 1693\u001b[1;33m             \u001b[1;32mreturn\u001b[0m \u001b[0mlabels\u001b[0m\u001b[1;33m.\u001b[0m\u001b[0mget_loc\u001b[0m\u001b[1;33m(\u001b[0m\u001b[0mobj\u001b[0m\u001b[1;33m)\u001b[0m\u001b[1;33m\u001b[0m\u001b[1;33m\u001b[0m\u001b[0m\n\u001b[0m\u001b[0;32m   1694\u001b[0m         \u001b[1;32mexcept\u001b[0m \u001b[0mLookupError\u001b[0m\u001b[1;33m:\u001b[0m\u001b[1;33m\u001b[0m\u001b[1;33m\u001b[0m\u001b[0m\n\u001b[0;32m   1695\u001b[0m             \u001b[1;32mif\u001b[0m \u001b[0misinstance\u001b[0m\u001b[1;33m(\u001b[0m\u001b[0mobj\u001b[0m\u001b[1;33m,\u001b[0m \u001b[0mtuple\u001b[0m\u001b[1;33m)\u001b[0m \u001b[1;32mand\u001b[0m \u001b[0misinstance\u001b[0m\u001b[1;33m(\u001b[0m\u001b[0mlabels\u001b[0m\u001b[1;33m,\u001b[0m \u001b[0mABCMultiIndex\u001b[0m\u001b[1;33m)\u001b[0m\u001b[1;33m:\u001b[0m\u001b[1;33m\u001b[0m\u001b[1;33m\u001b[0m\u001b[0m\n",
      "\u001b[1;32m~\\Anaconda3\\lib\\site-packages\\pandas\\core\\indexes\\range.py\u001b[0m in \u001b[0;36mget_loc\u001b[1;34m(self, key, method, tolerance)\u001b[0m\n\u001b[0;32m    351\u001b[0m             \u001b[1;32mexcept\u001b[0m \u001b[0mValueError\u001b[0m\u001b[1;33m:\u001b[0m\u001b[1;33m\u001b[0m\u001b[1;33m\u001b[0m\u001b[0m\n\u001b[0;32m    352\u001b[0m                 \u001b[1;32mraise\u001b[0m \u001b[0mKeyError\u001b[0m\u001b[1;33m(\u001b[0m\u001b[0mkey\u001b[0m\u001b[1;33m)\u001b[0m\u001b[1;33m\u001b[0m\u001b[1;33m\u001b[0m\u001b[0m\n\u001b[1;32m--> 353\u001b[1;33m         \u001b[1;32mreturn\u001b[0m \u001b[0msuper\u001b[0m\u001b[1;33m(\u001b[0m\u001b[1;33m)\u001b[0m\u001b[1;33m.\u001b[0m\u001b[0mget_loc\u001b[0m\u001b[1;33m(\u001b[0m\u001b[0mkey\u001b[0m\u001b[1;33m,\u001b[0m \u001b[0mmethod\u001b[0m\u001b[1;33m=\u001b[0m\u001b[0mmethod\u001b[0m\u001b[1;33m,\u001b[0m \u001b[0mtolerance\u001b[0m\u001b[1;33m=\u001b[0m\u001b[0mtolerance\u001b[0m\u001b[1;33m)\u001b[0m\u001b[1;33m\u001b[0m\u001b[1;33m\u001b[0m\u001b[0m\n\u001b[0m\u001b[0;32m    354\u001b[0m \u001b[1;33m\u001b[0m\u001b[0m\n\u001b[0;32m    355\u001b[0m     \u001b[1;33m@\u001b[0m\u001b[0mAppender\u001b[0m\u001b[1;33m(\u001b[0m\u001b[0m_index_shared_docs\u001b[0m\u001b[1;33m[\u001b[0m\u001b[1;34m\"get_indexer\"\u001b[0m\u001b[1;33m]\u001b[0m\u001b[1;33m)\u001b[0m\u001b[1;33m\u001b[0m\u001b[1;33m\u001b[0m\u001b[0m\n",
      "\u001b[1;32m~\\Anaconda3\\lib\\site-packages\\pandas\\core\\indexes\\base.py\u001b[0m in \u001b[0;36mget_loc\u001b[1;34m(self, key, method, tolerance)\u001b[0m\n\u001b[0;32m   2644\u001b[0m                 )\n\u001b[0;32m   2645\u001b[0m             \u001b[1;32mtry\u001b[0m\u001b[1;33m:\u001b[0m\u001b[1;33m\u001b[0m\u001b[1;33m\u001b[0m\u001b[0m\n\u001b[1;32m-> 2646\u001b[1;33m                 \u001b[1;32mreturn\u001b[0m \u001b[0mself\u001b[0m\u001b[1;33m.\u001b[0m\u001b[0m_engine\u001b[0m\u001b[1;33m.\u001b[0m\u001b[0mget_loc\u001b[0m\u001b[1;33m(\u001b[0m\u001b[0mkey\u001b[0m\u001b[1;33m)\u001b[0m\u001b[1;33m\u001b[0m\u001b[1;33m\u001b[0m\u001b[0m\n\u001b[0m\u001b[0;32m   2647\u001b[0m             \u001b[1;32mexcept\u001b[0m \u001b[0mKeyError\u001b[0m\u001b[1;33m:\u001b[0m\u001b[1;33m\u001b[0m\u001b[1;33m\u001b[0m\u001b[0m\n\u001b[0;32m   2648\u001b[0m                 \u001b[1;32mreturn\u001b[0m \u001b[0mself\u001b[0m\u001b[1;33m.\u001b[0m\u001b[0m_engine\u001b[0m\u001b[1;33m.\u001b[0m\u001b[0mget_loc\u001b[0m\u001b[1;33m(\u001b[0m\u001b[0mself\u001b[0m\u001b[1;33m.\u001b[0m\u001b[0m_maybe_cast_indexer\u001b[0m\u001b[1;33m(\u001b[0m\u001b[0mkey\u001b[0m\u001b[1;33m)\u001b[0m\u001b[1;33m)\u001b[0m\u001b[1;33m\u001b[0m\u001b[1;33m\u001b[0m\u001b[0m\n",
      "\u001b[1;32mpandas\\_libs\\index.pyx\u001b[0m in \u001b[0;36mpandas._libs.index.IndexEngine.get_loc\u001b[1;34m()\u001b[0m\n",
      "\u001b[1;32mpandas\\_libs\\index.pyx\u001b[0m in \u001b[0;36mpandas._libs.index.IndexEngine.get_loc\u001b[1;34m()\u001b[0m\n",
      "\u001b[1;32m~\\Anaconda3\\lib\\site-packages\\pandas\\core\\series.py\u001b[0m in \u001b[0;36m__repr__\u001b[1;34m(self)\u001b[0m\n\u001b[0;32m   1369\u001b[0m             \u001b[0mmin_rows\u001b[0m\u001b[1;33m=\u001b[0m\u001b[0mmin_rows\u001b[0m\u001b[1;33m,\u001b[0m\u001b[1;33m\u001b[0m\u001b[1;33m\u001b[0m\u001b[0m\n\u001b[0;32m   1370\u001b[0m             \u001b[0mmax_rows\u001b[0m\u001b[1;33m=\u001b[0m\u001b[0mmax_rows\u001b[0m\u001b[1;33m,\u001b[0m\u001b[1;33m\u001b[0m\u001b[1;33m\u001b[0m\u001b[0m\n\u001b[1;32m-> 1371\u001b[1;33m             \u001b[0mlength\u001b[0m\u001b[1;33m=\u001b[0m\u001b[0mshow_dimensions\u001b[0m\u001b[1;33m,\u001b[0m\u001b[1;33m\u001b[0m\u001b[1;33m\u001b[0m\u001b[0m\n\u001b[0m\u001b[0;32m   1372\u001b[0m         )\n\u001b[0;32m   1373\u001b[0m         \u001b[0mresult\u001b[0m \u001b[1;33m=\u001b[0m \u001b[0mbuf\u001b[0m\u001b[1;33m.\u001b[0m\u001b[0mgetvalue\u001b[0m\u001b[1;33m(\u001b[0m\u001b[1;33m)\u001b[0m\u001b[1;33m\u001b[0m\u001b[1;33m\u001b[0m\u001b[0m\n",
      "\u001b[1;32m~\\Anaconda3\\lib\\site-packages\\pandas\\core\\series.py\u001b[0m in \u001b[0;36mto_string\u001b[1;34m(self, buf, na_rep, float_format, header, index, length, dtype, name, max_rows, min_rows)\u001b[0m\n\u001b[0;32m   1435\u001b[0m             \u001b[0mmax_rows\u001b[0m\u001b[1;33m=\u001b[0m\u001b[0mmax_rows\u001b[0m\u001b[1;33m,\u001b[0m\u001b[1;33m\u001b[0m\u001b[1;33m\u001b[0m\u001b[0m\n\u001b[0;32m   1436\u001b[0m         )\n\u001b[1;32m-> 1437\u001b[1;33m         \u001b[0mresult\u001b[0m \u001b[1;33m=\u001b[0m \u001b[0mformatter\u001b[0m\u001b[1;33m.\u001b[0m\u001b[0mto_string\u001b[0m\u001b[1;33m(\u001b[0m\u001b[1;33m)\u001b[0m\u001b[1;33m\u001b[0m\u001b[1;33m\u001b[0m\u001b[0m\n\u001b[0m\u001b[0;32m   1438\u001b[0m \u001b[1;33m\u001b[0m\u001b[0m\n\u001b[0;32m   1439\u001b[0m         \u001b[1;31m# catch contract violations\u001b[0m\u001b[1;33m\u001b[0m\u001b[1;33m\u001b[0m\u001b[1;33m\u001b[0m\u001b[0m\n",
      "\u001b[1;32m~\\Anaconda3\\lib\\site-packages\\pandas\\io\\formats\\format.py\u001b[0m in \u001b[0;36mto_string\u001b[1;34m(self)\u001b[0m\n\u001b[0;32m    356\u001b[0m             )\n\u001b[0;32m    357\u001b[0m \u001b[1;33m\u001b[0m\u001b[0m\n\u001b[1;32m--> 358\u001b[1;33m         \u001b[0mfmt_index\u001b[0m\u001b[1;33m,\u001b[0m \u001b[0mhave_header\u001b[0m \u001b[1;33m=\u001b[0m \u001b[0mself\u001b[0m\u001b[1;33m.\u001b[0m\u001b[0m_get_formatted_index\u001b[0m\u001b[1;33m(\u001b[0m\u001b[1;33m)\u001b[0m\u001b[1;33m\u001b[0m\u001b[1;33m\u001b[0m\u001b[0m\n\u001b[0m\u001b[0;32m    359\u001b[0m         \u001b[0mfmt_values\u001b[0m \u001b[1;33m=\u001b[0m \u001b[0mself\u001b[0m\u001b[1;33m.\u001b[0m\u001b[0m_get_formatted_values\u001b[0m\u001b[1;33m(\u001b[0m\u001b[1;33m)\u001b[0m\u001b[1;33m\u001b[0m\u001b[1;33m\u001b[0m\u001b[0m\n\u001b[0;32m    360\u001b[0m \u001b[1;33m\u001b[0m\u001b[0m\n",
      "\u001b[1;32m~\\Anaconda3\\lib\\site-packages\\pandas\\io\\formats\\format.py\u001b[0m in \u001b[0;36m_get_formatted_index\u001b[1;34m(self)\u001b[0m\n\u001b[0;32m    336\u001b[0m         \u001b[1;32melse\u001b[0m\u001b[1;33m:\u001b[0m\u001b[1;33m\u001b[0m\u001b[1;33m\u001b[0m\u001b[0m\n\u001b[0;32m    337\u001b[0m             \u001b[0mhave_header\u001b[0m \u001b[1;33m=\u001b[0m \u001b[0mindex\u001b[0m\u001b[1;33m.\u001b[0m\u001b[0mname\u001b[0m \u001b[1;32mis\u001b[0m \u001b[1;32mnot\u001b[0m \u001b[1;32mNone\u001b[0m\u001b[1;33m\u001b[0m\u001b[1;33m\u001b[0m\u001b[0m\n\u001b[1;32m--> 338\u001b[1;33m             \u001b[0mfmt_index\u001b[0m \u001b[1;33m=\u001b[0m \u001b[0mindex\u001b[0m\u001b[1;33m.\u001b[0m\u001b[0mformat\u001b[0m\u001b[1;33m(\u001b[0m\u001b[0mname\u001b[0m\u001b[1;33m=\u001b[0m\u001b[1;32mTrue\u001b[0m\u001b[1;33m)\u001b[0m\u001b[1;33m\u001b[0m\u001b[1;33m\u001b[0m\u001b[0m\n\u001b[0m\u001b[0;32m    339\u001b[0m         \u001b[1;32mreturn\u001b[0m \u001b[0mfmt_index\u001b[0m\u001b[1;33m,\u001b[0m \u001b[0mhave_header\u001b[0m\u001b[1;33m\u001b[0m\u001b[1;33m\u001b[0m\u001b[0m\n\u001b[0;32m    340\u001b[0m \u001b[1;33m\u001b[0m\u001b[0m\n",
      "\u001b[1;32m~\\Anaconda3\\lib\\site-packages\\pandas\\core\\indexes\\base.py\u001b[0m in \u001b[0;36mformat\u001b[1;34m(self, name, formatter, **kwargs)\u001b[0m\n\u001b[0;32m    964\u001b[0m             \u001b[1;32mreturn\u001b[0m \u001b[0mheader\u001b[0m \u001b[1;33m+\u001b[0m \u001b[0mlist\u001b[0m\u001b[1;33m(\u001b[0m\u001b[0mself\u001b[0m\u001b[1;33m.\u001b[0m\u001b[0mmap\u001b[0m\u001b[1;33m(\u001b[0m\u001b[0mformatter\u001b[0m\u001b[1;33m)\u001b[0m\u001b[1;33m)\u001b[0m\u001b[1;33m\u001b[0m\u001b[1;33m\u001b[0m\u001b[0m\n\u001b[0;32m    965\u001b[0m \u001b[1;33m\u001b[0m\u001b[0m\n\u001b[1;32m--> 966\u001b[1;33m         \u001b[1;32mreturn\u001b[0m \u001b[0mself\u001b[0m\u001b[1;33m.\u001b[0m\u001b[0m_format_with_header\u001b[0m\u001b[1;33m(\u001b[0m\u001b[0mheader\u001b[0m\u001b[1;33m,\u001b[0m \u001b[1;33m**\u001b[0m\u001b[0mkwargs\u001b[0m\u001b[1;33m)\u001b[0m\u001b[1;33m\u001b[0m\u001b[1;33m\u001b[0m\u001b[0m\n\u001b[0m\u001b[0;32m    967\u001b[0m \u001b[1;33m\u001b[0m\u001b[0m\n\u001b[0;32m    968\u001b[0m     \u001b[1;32mdef\u001b[0m \u001b[0m_format_with_header\u001b[0m\u001b[1;33m(\u001b[0m\u001b[0mself\u001b[0m\u001b[1;33m,\u001b[0m \u001b[0mheader\u001b[0m\u001b[1;33m,\u001b[0m \u001b[0mna_rep\u001b[0m\u001b[1;33m=\u001b[0m\u001b[1;34m\"NaN\"\u001b[0m\u001b[1;33m,\u001b[0m \u001b[1;33m**\u001b[0m\u001b[0mkwargs\u001b[0m\u001b[1;33m)\u001b[0m\u001b[1;33m:\u001b[0m\u001b[1;33m\u001b[0m\u001b[1;33m\u001b[0m\u001b[0m\n",
      "\u001b[1;32m~\\Anaconda3\\lib\\site-packages\\pandas\\core\\indexes\\range.py\u001b[0m in \u001b[0;36m_format_with_header\u001b[1;34m(self, header, na_rep, **kwargs)\u001b[0m\n\u001b[0;32m    199\u001b[0m \u001b[1;33m\u001b[0m\u001b[0m\n\u001b[0;32m    200\u001b[0m     \u001b[1;32mdef\u001b[0m \u001b[0m_format_with_header\u001b[0m\u001b[1;33m(\u001b[0m\u001b[0mself\u001b[0m\u001b[1;33m,\u001b[0m \u001b[0mheader\u001b[0m\u001b[1;33m,\u001b[0m \u001b[0mna_rep\u001b[0m\u001b[1;33m=\u001b[0m\u001b[1;34m\"NaN\"\u001b[0m\u001b[1;33m,\u001b[0m \u001b[1;33m**\u001b[0m\u001b[0mkwargs\u001b[0m\u001b[1;33m)\u001b[0m\u001b[1;33m:\u001b[0m\u001b[1;33m\u001b[0m\u001b[1;33m\u001b[0m\u001b[0m\n\u001b[1;32m--> 201\u001b[1;33m         \u001b[1;32mreturn\u001b[0m \u001b[0mheader\u001b[0m \u001b[1;33m+\u001b[0m \u001b[0mlist\u001b[0m\u001b[1;33m(\u001b[0m\u001b[0mmap\u001b[0m\u001b[1;33m(\u001b[0m\u001b[0mpprint_thing\u001b[0m\u001b[1;33m,\u001b[0m \u001b[0mself\u001b[0m\u001b[1;33m.\u001b[0m\u001b[0m_range\u001b[0m\u001b[1;33m)\u001b[0m\u001b[1;33m)\u001b[0m\u001b[1;33m\u001b[0m\u001b[1;33m\u001b[0m\u001b[0m\n\u001b[0m\u001b[0;32m    202\u001b[0m \u001b[1;33m\u001b[0m\u001b[0m\n\u001b[0;32m    203\u001b[0m     \u001b[1;31m# --------------------------------------------------------------------\u001b[0m\u001b[1;33m\u001b[0m\u001b[1;33m\u001b[0m\u001b[1;33m\u001b[0m\u001b[0m\n",
      "\u001b[1;32m~\\Anaconda3\\lib\\site-packages\\pandas\\io\\formats\\printing.py\u001b[0m in \u001b[0;36mpprint_thing\u001b[1;34m(thing, _nest_lvl, escape_chars, default_escapes, quote_strings, max_seq_items)\u001b[0m\n\u001b[0;32m    228\u001b[0m         \u001b[0mresult\u001b[0m \u001b[1;33m=\u001b[0m \u001b[1;34m\"'{thing}'\"\u001b[0m\u001b[1;33m.\u001b[0m\u001b[0mformat\u001b[0m\u001b[1;33m(\u001b[0m\u001b[0mthing\u001b[0m\u001b[1;33m=\u001b[0m\u001b[0mas_escaped_string\u001b[0m\u001b[1;33m(\u001b[0m\u001b[0mthing\u001b[0m\u001b[1;33m)\u001b[0m\u001b[1;33m)\u001b[0m\u001b[1;33m\u001b[0m\u001b[1;33m\u001b[0m\u001b[0m\n\u001b[0;32m    229\u001b[0m     \u001b[1;32melse\u001b[0m\u001b[1;33m:\u001b[0m\u001b[1;33m\u001b[0m\u001b[1;33m\u001b[0m\u001b[0m\n\u001b[1;32m--> 230\u001b[1;33m         \u001b[0mresult\u001b[0m \u001b[1;33m=\u001b[0m \u001b[0mas_escaped_string\u001b[0m\u001b[1;33m(\u001b[0m\u001b[0mthing\u001b[0m\u001b[1;33m)\u001b[0m\u001b[1;33m\u001b[0m\u001b[1;33m\u001b[0m\u001b[0m\n\u001b[0m\u001b[0;32m    231\u001b[0m \u001b[1;33m\u001b[0m\u001b[0m\n\u001b[0;32m    232\u001b[0m     \u001b[1;32mreturn\u001b[0m \u001b[0mresult\u001b[0m\u001b[1;33m\u001b[0m\u001b[1;33m\u001b[0m\u001b[0m\n",
      "\u001b[1;32m~\\Anaconda3\\lib\\site-packages\\pandas\\io\\formats\\printing.py\u001b[0m in \u001b[0;36mas_escaped_string\u001b[1;34m(thing, escape_chars)\u001b[0m\n\u001b[0;32m    191\u001b[0m     \"\"\"\n\u001b[0;32m    192\u001b[0m \u001b[1;33m\u001b[0m\u001b[0m\n\u001b[1;32m--> 193\u001b[1;33m     def as_escaped_string(\n\u001b[0m\u001b[0;32m    194\u001b[0m         \u001b[0mthing\u001b[0m\u001b[1;33m:\u001b[0m \u001b[0mAny\u001b[0m\u001b[1;33m,\u001b[0m \u001b[0mescape_chars\u001b[0m\u001b[1;33m:\u001b[0m \u001b[0mOptional\u001b[0m\u001b[1;33m[\u001b[0m\u001b[0mEscapeChars\u001b[0m\u001b[1;33m]\u001b[0m \u001b[1;33m=\u001b[0m \u001b[0mescape_chars\u001b[0m\u001b[1;33m\u001b[0m\u001b[1;33m\u001b[0m\u001b[0m\n\u001b[0;32m    195\u001b[0m     ) -> str:\n",
      "\u001b[1;31mKeyboardInterrupt\u001b[0m: "
     ]
    }
   ],
   "source": [
    "# Plain Division\n",
    "tolls = df[\"Tolls\"].unique()\n",
    "for toll in tolls:\n",
    "    print(toll)\n",
    "    maxCars = df[df[\"Tolls\"] == toll][\"No_of_Cars\"].max()\n",
    "    minCars = df[df[\"Tolls\"] == toll][\"No_of_Cars\"].min()\n",
    "    rangeCars = (maxCars - minCars)/4\n",
    "    \n",
    "    df.loc[(df[\"Tolls\"]==toll) & (df[\"No_of_Cars\"]<=(minCars+rangeCars)),\"TrafficCategory\"] = 1\n",
    "    df.loc[(df[\"Tolls\"]==toll) & (df[\"No_of_Cars\"]>(minCars+rangeCars)) & (df[\"No_of_Cars\"]<=(minCars+2*rangeCars)),\"TrafficCategory\"] = 2\n",
    "    df.loc[(df[\"Tolls\"]==toll) & (df[\"No_of_Cars\"]>(minCars+2*rangeCars)) & (df[\"No_of_Cars\"]<=(minCars+3*rangeCars)),\"TrafficCategory\"] = 3\n",
    "    df.loc[(df[\"Tolls\"]==toll) & (df[\"No_of_Cars\"]>(minCars+3*rangeCars)),\"TrafficCategory\"] = 4"
   ]
  },
  {
   "cell_type": "code",
   "execution_count": 92,
   "metadata": {},
   "outputs": [
    {
     "name": "stdout",
     "output_type": "stream",
     "text": [
      "M7-M8\n",
      "1    2176\n",
      "3    2173\n",
      "2    2170\n",
      "4    2169\n",
      "Name: TrafficCategory, dtype: int64\n",
      "N6\n",
      "1    2234\n",
      "3    2198\n",
      "4    2169\n",
      "2    2135\n",
      "Name: TrafficCategory, dtype: int64\n",
      "N25\n",
      "1    2215\n",
      "3    2179\n",
      "4    2166\n",
      "2    2152\n",
      "Name: TrafficCategory, dtype: int64\n",
      "M50\n",
      "1    2193\n",
      "3    2191\n",
      "4    2189\n",
      "2    2187\n",
      "Name: TrafficCategory, dtype: int64\n",
      "M1\n",
      "1    2054\n",
      "4    2052\n",
      "3    2052\n",
      "2    2050\n",
      "Name: TrafficCategory, dtype: int64\n",
      "M8\n",
      "1    1814\n",
      "3    1672\n",
      "4    1669\n",
      "2    1541\n",
      "Name: TrafficCategory, dtype: int64\n",
      "M3\n",
      "3    2139\n",
      "1    2138\n",
      "2    2134\n",
      "4    2133\n",
      "Name: TrafficCategory, dtype: int64\n",
      "Eastlink\n",
      "1    2192\n",
      "4    2177\n",
      "2    2172\n",
      "3    2171\n",
      "Name: TrafficCategory, dtype: int64\n",
      "M4\n",
      "1    2204\n",
      "3    2187\n",
      "4    2181\n",
      "2    2164\n",
      "Name: TrafficCategory, dtype: int64\n",
      "--\n",
      "1    1244\n",
      "4     124\n",
      "Name: TrafficCategory, dtype: int64\n",
      "Dublin Tunnel\n",
      "1    2620\n",
      "4    2171\n",
      "3    2162\n",
      "2    1735\n",
      "Name: TrafficCategory, dtype: int64\n",
      "Limerick Tunnel\n",
      "1    2892\n",
      "4    2133\n",
      "3    2118\n",
      "2    1401\n",
      "Name: TrafficCategory, dtype: int64\n"
     ]
    }
   ],
   "source": [
    "tolls = df[\"Tolls\"].unique()\n",
    "for toll in tolls:\n",
    "    print(toll)\n",
    "    print(df[df[\"Tolls\"]==toll][\"TrafficCategory\"].value_counts())"
   ]
  },
  {
   "cell_type": "markdown",
   "metadata": {},
   "source": [
    "### MODEL"
   ]
  },
  {
   "cell_type": "code",
   "execution_count": 101,
   "metadata": {},
   "outputs": [],
   "source": [
    "df = df[:90888]"
   ]
  },
  {
   "cell_type": "code",
   "execution_count": 102,
   "metadata": {},
   "outputs": [],
   "source": [
    "\n",
    "from keras.utils import to_categorical\n",
    "from sklearn.preprocessing import LabelEncoder\n",
    "\n",
    "df_x = df.drop([\"Date\",\"StartTime\",\"EndTime\",\"No_of_Cars\",\"DayOfWeek\",\"Weekend?\",\"Year\", \"Tolls\",\"TrafficCategory\"],axis=1)\n",
    "df_y = df[\"TrafficCategory\"]\n",
    "\n",
    "encoder = LabelEncoder()\n",
    "encoder.fit(df_y)\n",
    "df_y = encoder.transform(df_y)\n",
    "df_y = keras.utils.to_categorical(df_y)"
   ]
  },
  {
   "cell_type": "code",
   "execution_count": 104,
   "metadata": {},
   "outputs": [
    {
     "data": {
      "text/html": [
       "<div>\n",
       "<style scoped>\n",
       "    .dataframe tbody tr th:only-of-type {\n",
       "        vertical-align: middle;\n",
       "    }\n",
       "\n",
       "    .dataframe tbody tr th {\n",
       "        vertical-align: top;\n",
       "    }\n",
       "\n",
       "    .dataframe thead th {\n",
       "        text-align: right;\n",
       "    }\n",
       "</style>\n",
       "<table border=\"1\" class=\"dataframe\">\n",
       "  <thead>\n",
       "    <tr style=\"text-align: right;\">\n",
       "      <th></th>\n",
       "      <th>isHoliday?</th>\n",
       "      <th>Month</th>\n",
       "      <th>Day</th>\n",
       "      <th>Tollname_Dublin Tunnel</th>\n",
       "      <th>Tollname_Eastlink</th>\n",
       "      <th>Tollname_Limerick Tunnel</th>\n",
       "      <th>Tollname_M1</th>\n",
       "      <th>Tollname_M3</th>\n",
       "      <th>Tollname_M4</th>\n",
       "      <th>Tollname_M50</th>\n",
       "      <th>Tollname_M7-M8</th>\n",
       "      <th>Tollname_M8</th>\n",
       "      <th>Tollname_N25</th>\n",
       "      <th>Tollname_N6</th>\n",
       "      <th>ScaledStartTime</th>\n",
       "      <th>ScaledDayofWeek</th>\n",
       "    </tr>\n",
       "  </thead>\n",
       "  <tbody>\n",
       "    <tr>\n",
       "      <th>0</th>\n",
       "      <td>1</td>\n",
       "      <td>-1.552307</td>\n",
       "      <td>-1.676356</td>\n",
       "      <td>0</td>\n",
       "      <td>0</td>\n",
       "      <td>0</td>\n",
       "      <td>0</td>\n",
       "      <td>0</td>\n",
       "      <td>0</td>\n",
       "      <td>0</td>\n",
       "      <td>1</td>\n",
       "      <td>0</td>\n",
       "      <td>0</td>\n",
       "      <td>0</td>\n",
       "      <td>-1.661325</td>\n",
       "      <td>-0.974781</td>\n",
       "    </tr>\n",
       "    <tr>\n",
       "      <th>1</th>\n",
       "      <td>1</td>\n",
       "      <td>-1.552307</td>\n",
       "      <td>-1.676356</td>\n",
       "      <td>0</td>\n",
       "      <td>0</td>\n",
       "      <td>0</td>\n",
       "      <td>0</td>\n",
       "      <td>0</td>\n",
       "      <td>0</td>\n",
       "      <td>0</td>\n",
       "      <td>1</td>\n",
       "      <td>0</td>\n",
       "      <td>0</td>\n",
       "      <td>0</td>\n",
       "      <td>-1.516862</td>\n",
       "      <td>-0.974781</td>\n",
       "    </tr>\n",
       "    <tr>\n",
       "      <th>2</th>\n",
       "      <td>1</td>\n",
       "      <td>-1.552307</td>\n",
       "      <td>-1.676356</td>\n",
       "      <td>0</td>\n",
       "      <td>0</td>\n",
       "      <td>0</td>\n",
       "      <td>0</td>\n",
       "      <td>0</td>\n",
       "      <td>0</td>\n",
       "      <td>0</td>\n",
       "      <td>1</td>\n",
       "      <td>0</td>\n",
       "      <td>0</td>\n",
       "      <td>0</td>\n",
       "      <td>-1.372399</td>\n",
       "      <td>-0.974781</td>\n",
       "    </tr>\n",
       "    <tr>\n",
       "      <th>3</th>\n",
       "      <td>1</td>\n",
       "      <td>-1.552307</td>\n",
       "      <td>-1.676356</td>\n",
       "      <td>0</td>\n",
       "      <td>0</td>\n",
       "      <td>0</td>\n",
       "      <td>0</td>\n",
       "      <td>0</td>\n",
       "      <td>0</td>\n",
       "      <td>0</td>\n",
       "      <td>1</td>\n",
       "      <td>0</td>\n",
       "      <td>0</td>\n",
       "      <td>0</td>\n",
       "      <td>-1.227936</td>\n",
       "      <td>-0.974781</td>\n",
       "    </tr>\n",
       "    <tr>\n",
       "      <th>4</th>\n",
       "      <td>1</td>\n",
       "      <td>-1.552307</td>\n",
       "      <td>-1.676356</td>\n",
       "      <td>0</td>\n",
       "      <td>0</td>\n",
       "      <td>0</td>\n",
       "      <td>0</td>\n",
       "      <td>0</td>\n",
       "      <td>0</td>\n",
       "      <td>0</td>\n",
       "      <td>1</td>\n",
       "      <td>0</td>\n",
       "      <td>0</td>\n",
       "      <td>0</td>\n",
       "      <td>-1.083473</td>\n",
       "      <td>-0.974781</td>\n",
       "    </tr>\n",
       "  </tbody>\n",
       "</table>\n",
       "</div>"
      ],
      "text/plain": [
       "   isHoliday?     Month       Day  Tollname_Dublin Tunnel  Tollname_Eastlink  \\\n",
       "0           1 -1.552307 -1.676356                       0                  0   \n",
       "1           1 -1.552307 -1.676356                       0                  0   \n",
       "2           1 -1.552307 -1.676356                       0                  0   \n",
       "3           1 -1.552307 -1.676356                       0                  0   \n",
       "4           1 -1.552307 -1.676356                       0                  0   \n",
       "\n",
       "   Tollname_Limerick Tunnel  Tollname_M1  Tollname_M3  Tollname_M4  \\\n",
       "0                         0            0            0            0   \n",
       "1                         0            0            0            0   \n",
       "2                         0            0            0            0   \n",
       "3                         0            0            0            0   \n",
       "4                         0            0            0            0   \n",
       "\n",
       "   Tollname_M50  Tollname_M7-M8  Tollname_M8  Tollname_N25  Tollname_N6  \\\n",
       "0             0               1            0             0            0   \n",
       "1             0               1            0             0            0   \n",
       "2             0               1            0             0            0   \n",
       "3             0               1            0             0            0   \n",
       "4             0               1            0             0            0   \n",
       "\n",
       "   ScaledStartTime  ScaledDayofWeek  \n",
       "0        -1.661325        -0.974781  \n",
       "1        -1.516862        -0.974781  \n",
       "2        -1.372399        -0.974781  \n",
       "3        -1.227936        -0.974781  \n",
       "4        -1.083473        -0.974781  "
      ]
     },
     "execution_count": 104,
     "metadata": {},
     "output_type": "execute_result"
    }
   ],
   "source": [
    "df_x.head()"
   ]
  },
  {
   "cell_type": "code",
   "execution_count": 113,
   "metadata": {},
   "outputs": [],
   "source": [
    "from sklearn.model_selection import train_test_split\n",
    "x_train, x_test, y_train, y_test = train_test_split(df_x, df_y, train_size=0.80, random_state=46)"
   ]
  },
  {
   "cell_type": "code",
   "execution_count": 114,
   "metadata": {},
   "outputs": [
    {
     "name": "stdout",
     "output_type": "stream",
     "text": [
      "(72710, 16)\n",
      "(72710, 4)\n",
      "(18178, 16)\n",
      "(18178, 4)\n"
     ]
    }
   ],
   "source": [
    "print(x_train.shape)\n",
    "print(y_train.shape)\n",
    "print(x_test.shape)\n",
    "print(y_test.shape)"
   ]
  },
  {
   "cell_type": "code",
   "execution_count": 115,
   "metadata": {},
   "outputs": [],
   "source": [
    "import keras\n",
    "from keras.models import Sequential\n",
    "from keras.layers import Dense\n",
    "\n",
    "import tensorflow_docs as tfdocs\n",
    "import tensorflow_docs.plots\n",
    "import tensorflow_docs.modeling"
   ]
  },
  {
   "cell_type": "code",
   "execution_count": 116,
   "metadata": {},
   "outputs": [
    {
     "name": "stdout",
     "output_type": "stream",
     "text": [
      "1.14.0\n"
     ]
    }
   ],
   "source": [
    "import tensorflow as tf\n",
    "\n",
    "from tensorflow import keras\n",
    "from tensorflow.keras import layers\n",
    "\n",
    "print(tf.__version__)"
   ]
  },
  {
   "cell_type": "code",
   "execution_count": 234,
   "metadata": {},
   "outputs": [],
   "source": [
    "def build_model():\n",
    "    model = keras.Sequential([\n",
    "        layers.Dense(64, activation='relu', input_shape=[len(x_train.keys())]),\n",
    "        layers.Dropout(0.4),\n",
    "        layers.Dense(64, activation='relu'),\n",
    "        layers.Dropout(0.4),\n",
    "        layers.Dense(16, activation='relu'),\n",
    "        #layers.Dropout(0.4),\n",
    "        layers.Dense(4, activation='softmax')\n",
    "    ])\n",
    "    epochs = 100\n",
    "    learning_rate = 0.001\n",
    "    decay_rate = learning_rate / epochs\n",
    "    opt = keras.optimizers.Adam(learning_rate=learning_rate)\n",
    "    #opt = keras.optimizers.SGD(learning_rate=0.001)\n",
    "    #opt = keras.optimizers.RMSprop(learning_rate=learning_rate, decay=decay_rate) #momentum=momentum\n",
    "\n",
    "    model.compile(loss='categorical_crossentropy',\n",
    "                optimizer=opt,\n",
    "                metrics=['accuracy'])\n",
    "    return model"
   ]
  },
  {
   "cell_type": "code",
   "execution_count": 235,
   "metadata": {},
   "outputs": [],
   "source": [
    "model = build_model()"
   ]
  },
  {
   "cell_type": "code",
   "execution_count": 236,
   "metadata": {},
   "outputs": [
    {
     "name": "stdout",
     "output_type": "stream",
     "text": [
      "Model: \"sequential_31\"\n",
      "_________________________________________________________________\n",
      "Layer (type)                 Output Shape              Param #   \n",
      "=================================================================\n",
      "dense_124 (Dense)            (None, 64)                1088      \n",
      "_________________________________________________________________\n",
      "dropout_31 (Dropout)         (None, 64)                0         \n",
      "_________________________________________________________________\n",
      "dense_125 (Dense)            (None, 64)                4160      \n",
      "_________________________________________________________________\n",
      "dropout_32 (Dropout)         (None, 64)                0         \n",
      "_________________________________________________________________\n",
      "dense_126 (Dense)            (None, 16)                1040      \n",
      "_________________________________________________________________\n",
      "dense_127 (Dense)            (None, 4)                 68        \n",
      "=================================================================\n",
      "Total params: 6,356\n",
      "Trainable params: 6,356\n",
      "Non-trainable params: 0\n",
      "_________________________________________________________________\n"
     ]
    }
   ],
   "source": [
    "model.summary()"
   ]
  },
  {
   "cell_type": "code",
   "execution_count": 238,
   "metadata": {
    "scrolled": true
   },
   "outputs": [
    {
     "name": "stdout",
     "output_type": "stream",
     "text": [
      "Train on 72710 samples, validate on 18178 samples\n",
      "Epoch 1/100\n",
      "72710/72710 [==============================] - 9s 127us/sample - loss: 0.4891 - acc: 0.8085 - val_loss: 0.3703 - val_acc: 0.8602\n",
      "Epoch 2/100\n",
      "72710/72710 [==============================] - 10s 132us/sample - loss: 0.4843 - acc: 0.8098 - val_loss: 0.3703 - val_acc: 0.8632\n",
      "Epoch 3/100\n",
      "72710/72710 [==============================] - 10s 133us/sample - loss: 0.4874 - acc: 0.8090 - val_loss: 0.3752 - val_acc: 0.8600\n",
      "Epoch 4/100\n",
      "72710/72710 [==============================] - 10s 133us/sample - loss: 0.4845 - acc: 0.8085 - val_loss: 0.3774 - val_acc: 0.8533\n",
      "Epoch 5/100\n",
      "72710/72710 [==============================] - 10s 132us/sample - loss: 0.4842 - acc: 0.8076 - val_loss: 0.3683 - val_acc: 0.8594\n",
      "Epoch 6/100\n",
      "72710/72710 [==============================] - 10s 132us/sample - loss: 0.4773 - acc: 0.8120 - val_loss: 0.3670 - val_acc: 0.8627\n",
      "Epoch 7/100\n",
      "72710/72710 [==============================] - 10s 131us/sample - loss: 0.4784 - acc: 0.8116 - val_loss: 0.3636 - val_acc: 0.8660\n",
      "Epoch 8/100\n",
      "72710/72710 [==============================] - 10s 131us/sample - loss: 0.4803 - acc: 0.8119 - val_loss: 0.3639 - val_acc: 0.8626\n",
      "Epoch 9/100\n",
      "72710/72710 [==============================] - 10s 131us/sample - loss: 0.4764 - acc: 0.8137 - val_loss: 0.3626 - val_acc: 0.8601\n",
      "Epoch 10/100\n",
      "72710/72710 [==============================] - 10s 131us/sample - loss: 0.4776 - acc: 0.8123 - val_loss: 0.3640 - val_acc: 0.8623\n",
      "Epoch 11/100\n",
      "72710/72710 [==============================] - 10s 131us/sample - loss: 0.4737 - acc: 0.8131 - val_loss: 0.3735 - val_acc: 0.8626\n",
      "Epoch 12/100\n",
      "72710/72710 [==============================] - 10s 131us/sample - loss: 0.4740 - acc: 0.8139 - val_loss: 0.3629 - val_acc: 0.8634\n",
      "Epoch 13/100\n",
      "72710/72710 [==============================] - 10s 131us/sample - loss: 0.4739 - acc: 0.8142 - val_loss: 0.3604 - val_acc: 0.8673\n",
      "Epoch 14/100\n",
      "72710/72710 [==============================] - 10s 131us/sample - loss: 0.4727 - acc: 0.8141 - val_loss: 0.3648 - val_acc: 0.8626\n",
      "Epoch 15/100\n",
      "72710/72710 [==============================] - 10s 131us/sample - loss: 0.4721 - acc: 0.8152 - val_loss: 0.3630 - val_acc: 0.8626\n",
      "Epoch 16/100\n",
      "72710/72710 [==============================] - 10s 131us/sample - loss: 0.4750 - acc: 0.8142 - val_loss: 0.3587 - val_acc: 0.8620\n",
      "Epoch 17/100\n",
      "72710/72710 [==============================] - 9s 130us/sample - loss: 0.4696 - acc: 0.8154 - val_loss: 0.3595 - val_acc: 0.8599\n",
      "Epoch 18/100\n",
      "72710/72710 [==============================] - 10s 132us/sample - loss: 0.4719 - acc: 0.8131 - val_loss: 0.3595 - val_acc: 0.8676\n",
      "Epoch 19/100\n",
      "72710/72710 [==============================] - 10s 135us/sample - loss: 0.4675 - acc: 0.8166 - val_loss: 0.3630 - val_acc: 0.8629\n",
      "Epoch 20/100\n",
      "72710/72710 [==============================] - 10s 131us/sample - loss: 0.4663 - acc: 0.8178 - val_loss: 0.3613 - val_acc: 0.8669\n",
      "Epoch 21/100\n",
      "72710/72710 [==============================] - 10s 132us/sample - loss: 0.4689 - acc: 0.8164 - val_loss: 0.3598 - val_acc: 0.8658\n",
      "Epoch 22/100\n",
      "72710/72710 [==============================] - 10s 132us/sample - loss: 0.4662 - acc: 0.8182 - val_loss: 0.3590 - val_acc: 0.8673\n",
      "Epoch 23/100\n",
      "72710/72710 [==============================] - 10s 132us/sample - loss: 0.4660 - acc: 0.8175 - val_loss: 0.3543 - val_acc: 0.8711\n",
      "Epoch 24/100\n",
      "72710/72710 [==============================] - 10s 131us/sample - loss: 0.4641 - acc: 0.8193 - val_loss: 0.3609 - val_acc: 0.8592\n",
      "Epoch 25/100\n",
      "72710/72710 [==============================] - 10s 132us/sample - loss: 0.4642 - acc: 0.8196 - val_loss: 0.3580 - val_acc: 0.8640\n",
      "Epoch 26/100\n",
      "72710/72710 [==============================] - 10s 131us/sample - loss: 0.4648 - acc: 0.8194 - val_loss: 0.3563 - val_acc: 0.8627\n",
      "Epoch 27/100\n",
      "72710/72710 [==============================] - 9s 131us/sample - loss: 0.4642 - acc: 0.8194 - val_loss: 0.3506 - val_acc: 0.8718\n",
      "Epoch 28/100\n",
      "72710/72710 [==============================] - 10s 132us/sample - loss: 0.4612 - acc: 0.8197 - val_loss: 0.3596 - val_acc: 0.8605\n",
      "Epoch 29/100\n",
      "72710/72710 [==============================] - 10s 131us/sample - loss: 0.4621 - acc: 0.8191 - val_loss: 0.3649 - val_acc: 0.8603\n",
      "Epoch 30/100\n",
      "72710/72710 [==============================] - 9s 131us/sample - loss: 0.4618 - acc: 0.8221 - val_loss: 0.3563 - val_acc: 0.8657\n",
      "Epoch 31/100\n",
      "72710/72710 [==============================] - 10s 132us/sample - loss: 0.4646 - acc: 0.8204 - val_loss: 0.3599 - val_acc: 0.8606\n",
      "Epoch 32/100\n",
      "72710/72710 [==============================] - 10s 136us/sample - loss: 0.4593 - acc: 0.8222 - val_loss: 0.3566 - val_acc: 0.8666\n",
      "Epoch 33/100\n",
      "72710/72710 [==============================] - 10s 133us/sample - loss: 0.4605 - acc: 0.8221 - val_loss: 0.3614 - val_acc: 0.8624\n",
      "Epoch 34/100\n",
      "72710/72710 [==============================] - 13s 181us/sample - loss: 0.4624 - acc: 0.8200 - val_loss: 0.3575 - val_acc: 0.8596\n",
      "Epoch 35/100\n",
      "72710/72710 [==============================] - 11s 148us/sample - loss: 0.4578 - acc: 0.8225 - val_loss: 0.3551 - val_acc: 0.8648\n",
      "Epoch 36/100\n",
      "72710/72710 [==============================] - 10s 131us/sample - loss: 0.4608 - acc: 0.8206 - val_loss: 0.3642 - val_acc: 0.8572\n",
      "Epoch 37/100\n",
      "72710/72710 [==============================] - 10s 133us/sample - loss: 0.4602 - acc: 0.8214 - val_loss: 0.3585 - val_acc: 0.8581\n",
      "Epoch 38/100\n",
      "72710/72710 [==============================] - 10s 135us/sample - loss: 0.4625 - acc: 0.8207 - val_loss: 0.3542 - val_acc: 0.8604\n",
      "Epoch 39/100\n",
      "72710/72710 [==============================] - 10s 132us/sample - loss: 0.4553 - acc: 0.8238 - val_loss: 0.3519 - val_acc: 0.8659\n",
      "Epoch 40/100\n",
      "72710/72710 [==============================] - 10s 133us/sample - loss: 0.4553 - acc: 0.8243 - val_loss: 0.3585 - val_acc: 0.8616\n",
      "Epoch 41/100\n",
      "72710/72710 [==============================] - 10s 132us/sample - loss: 0.4541 - acc: 0.8233 - val_loss: 0.3483 - val_acc: 0.8664\n",
      "Epoch 42/100\n",
      "72710/72710 [==============================] - 10s 135us/sample - loss: 0.4551 - acc: 0.8246 - val_loss: 0.3510 - val_acc: 0.8719\n",
      "Epoch 43/100\n",
      "72710/72710 [==============================] - 10s 131us/sample - loss: 0.4591 - acc: 0.8216 - val_loss: 0.3587 - val_acc: 0.8641\n",
      "Epoch 44/100\n",
      "72710/72710 [==============================] - 10s 132us/sample - loss: 0.4580 - acc: 0.8222 - val_loss: 0.3543 - val_acc: 0.8713\n",
      "Epoch 45/100\n",
      "72710/72710 [==============================] - 10s 132us/sample - loss: 0.4566 - acc: 0.8239 - val_loss: 0.3529 - val_acc: 0.8630\n",
      "Epoch 46/100\n",
      "72710/72710 [==============================] - 10s 133us/sample - loss: 0.4559 - acc: 0.8233 - val_loss: 0.3530 - val_acc: 0.8596\n",
      "Epoch 47/100\n",
      "72710/72710 [==============================] - 10s 132us/sample - loss: 0.4561 - acc: 0.8240 - val_loss: 0.3551 - val_acc: 0.8663\n",
      "Epoch 48/100\n",
      "72710/72710 [==============================] - 10s 131us/sample - loss: 0.4539 - acc: 0.8248 - val_loss: 0.3555 - val_acc: 0.8643\n",
      "Epoch 49/100\n",
      "72710/72710 [==============================] - 10s 131us/sample - loss: 0.4552 - acc: 0.8249 - val_loss: 0.3548 - val_acc: 0.8666\n",
      "Epoch 50/100\n",
      "72710/72710 [==============================] - 10s 134us/sample - loss: 0.4549 - acc: 0.8253 - val_loss: 0.3499 - val_acc: 0.8691\n",
      "Epoch 51/100\n",
      "72710/72710 [==============================] - 10s 132us/sample - loss: 0.4531 - acc: 0.8252 - val_loss: 0.3539 - val_acc: 0.8601\n",
      "Epoch 52/100\n",
      "72710/72710 [==============================] - 10s 135us/sample - loss: 0.4544 - acc: 0.8249 - val_loss: 0.3586 - val_acc: 0.8675\n",
      "Epoch 53/100\n",
      "72710/72710 [==============================] - 10s 133us/sample - loss: 0.4543 - acc: 0.8246 - val_loss: 0.3582 - val_acc: 0.8574\n",
      "Epoch 54/100\n",
      "72710/72710 [==============================] - 10s 132us/sample - loss: 0.4521 - acc: 0.8269 - val_loss: 0.3636 - val_acc: 0.8556\n",
      "Epoch 55/100\n",
      "72710/72710 [==============================] - 10s 132us/sample - loss: 0.4538 - acc: 0.8243 - val_loss: 0.3509 - val_acc: 0.8661\n",
      "Epoch 56/100\n",
      "72710/72710 [==============================] - 10s 133us/sample - loss: 0.4506 - acc: 0.8259 - val_loss: 0.3531 - val_acc: 0.8677\n",
      "Epoch 57/100\n",
      "72710/72710 [==============================] - 10s 133us/sample - loss: 0.4523 - acc: 0.8261 - val_loss: 0.3496 - val_acc: 0.8693\n",
      "Epoch 58/100\n"
     ]
    },
    {
     "name": "stdout",
     "output_type": "stream",
     "text": [
      "72710/72710 [==============================] - 9s 129us/sample - loss: 0.4473 - acc: 0.8295 - val_loss: 0.3609 - val_acc: 0.8594\n",
      "Epoch 59/100\n",
      "72710/72710 [==============================] - 9s 129us/sample - loss: 0.4497 - acc: 0.8275 - val_loss: 0.3515 - val_acc: 0.8621\n",
      "Epoch 60/100\n",
      "72710/72710 [==============================] - 9s 129us/sample - loss: 0.4486 - acc: 0.8276 - val_loss: 0.3643 - val_acc: 0.8576\n",
      "Epoch 61/100\n",
      "72710/72710 [==============================] - 9s 129us/sample - loss: 0.4501 - acc: 0.8274 - val_loss: 0.3495 - val_acc: 0.8643\n",
      "Epoch 62/100\n",
      "72710/72710 [==============================] - 9s 130us/sample - loss: 0.4482 - acc: 0.8272 - val_loss: 0.3560 - val_acc: 0.8615\n",
      "Epoch 63/100\n",
      "72710/72710 [==============================] - 9s 128us/sample - loss: 0.4476 - acc: 0.8283 - val_loss: 0.3591 - val_acc: 0.8648\n",
      "Epoch 64/100\n",
      "72710/72710 [==============================] - 9s 130us/sample - loss: 0.4506 - acc: 0.8271 - val_loss: 0.3588 - val_acc: 0.8606\n",
      "Epoch 65/100\n",
      "72710/72710 [==============================] - 9s 129us/sample - loss: 0.4516 - acc: 0.8262 - val_loss: 0.3598 - val_acc: 0.8601\n",
      "Epoch 66/100\n",
      "72710/72710 [==============================] - 9s 129us/sample - loss: 0.4510 - acc: 0.8264 - val_loss: 0.3588 - val_acc: 0.8582\n",
      "Epoch 67/100\n",
      "72710/72710 [==============================] - 9s 130us/sample - loss: 0.4470 - acc: 0.8293 - val_loss: 0.3526 - val_acc: 0.8654\n",
      "Epoch 68/100\n",
      "72710/72710 [==============================] - 9s 129us/sample - loss: 0.4475 - acc: 0.8286 - val_loss: 0.3551 - val_acc: 0.8620\n"
     ]
    }
   ],
   "source": [
    "EPOCHS = 100\n",
    "early_stop = tf.keras.callbacks.EarlyStopping(monitor='acc', patience=10)\n",
    "\n",
    "history4 = model.fit(  x_train.values, y_train,# batch_size=10,\n",
    "                      epochs=EPOCHS, \n",
    "                      #validation_split = 0.20, \n",
    "                      verbose=1,\n",
    "                      callbacks=[early_stop],\n",
    "                      validation_data=(x_test.values, y_test)\n",
    "                   )"
   ]
  },
  {
   "cell_type": "code",
   "execution_count": 239,
   "metadata": {},
   "outputs": [
    {
     "name": "stdout",
     "output_type": "stream",
     "text": [
      "18178/18178 [==============================] - 1s 71us/sample - loss: 0.3551 - acc: 0.8620\n"
     ]
    },
    {
     "data": {
      "text/plain": [
       "86.20310425758362"
      ]
     },
     "execution_count": 239,
     "metadata": {},
     "output_type": "execute_result"
    }
   ],
   "source": [
    "model.evaluate(x_test, y_test)[1] * 100 \n",
    "\n",
    "#ADAM - [1.4546287528548152, 0.87398696]\n",
    "#SGD - [0.3713060300172692, 0.8699613]\n",
    "#RMSprop - [0.34412862702953945, 0.8800784](0.01) [0.34108348866976246, 0.87976056](0.005)\n",
    "\n",
    "#history 1 - rmsprop\n",
    "#history 2 - adam 001\n",
    "#history 3 - sgd\n",
    "#history 4 - adam 005 \n",
    "\n",
    "\n",
    "\n",
    "\n",
    "# 64 64 64 4 - 90.22374749183655\n",
    "# 128 64 64 4 - 90.13899564743042\n",
    "# 64 32 16 4 - 90.13475775718689\n",
    "# 64 64 16 4 - 90.71107506752014\n",
    "# 64 64 8 4 - 90.03729224205017\n",
    "# 64 64 4 4 - 90.76616764068604"
   ]
  },
  {
   "cell_type": "code",
   "execution_count": 176,
   "metadata": {},
   "outputs": [],
   "source": [
    "## Save the model\n",
    "\n",
    "# serialize to JSON\n",
    "json_file = model.to_json()\n",
    "with open(\"DeepLearningModels/modelCat4.json\", \"w\") as file:\n",
    "    file.write(json_file)\n",
    "# serialize weights to HDF5\n",
    "model.save_weights(\"DeepLearningModels/modelCat4.h5\")"
   ]
  },
  {
   "cell_type": "code",
   "execution_count": 144,
   "metadata": {},
   "outputs": [
    {
     "name": "stdout",
     "output_type": "stream",
     "text": [
      "87.11629442182858\n"
     ]
    }
   ],
   "source": [
    "ypred = np.round(model.predict(x_test))\n",
    "from sklearn.metrics import classification_report, confusion_matrix, accuracy_score, balanced_accuracy_score\n",
    "print(accuracy_score(ypred, y_test)*100)"
   ]
  },
  {
   "cell_type": "code",
   "execution_count": 112,
   "metadata": {
    "collapsed": true
   },
   "outputs": [
    {
     "data": {
      "text/plain": [
       "array([0.86334747, 0.86493641, 0.86004871, 0.86788857, 0.8658756 ,\n",
       "       0.8604725 , 0.86280328, 0.8589893 , 0.8673588 , 0.87202036])"
      ]
     },
     "execution_count": 112,
     "metadata": {},
     "output_type": "execute_result"
    }
   ],
   "source": [
    "results"
   ]
  },
  {
   "cell_type": "code",
   "execution_count": 90,
   "metadata": {
    "collapsed": true
   },
   "outputs": [
    {
     "ename": "ValueError",
     "evalue": "Classification metrics can't handle a mix of continuous-multioutput and multilabel-indicator targets",
     "output_type": "error",
     "traceback": [
      "\u001b[1;31m---------------------------------------------------------------------------\u001b[0m",
      "\u001b[1;31mValueError\u001b[0m                                Traceback (most recent call last)",
      "\u001b[1;32m<ipython-input-90-e501ae1a8f94>\u001b[0m in \u001b[0;36m<module>\u001b[1;34m\u001b[0m\n\u001b[0;32m      1\u001b[0m \u001b[0mypred\u001b[0m \u001b[1;33m=\u001b[0m \u001b[0mmodel\u001b[0m\u001b[1;33m.\u001b[0m\u001b[0mpredict\u001b[0m\u001b[1;33m(\u001b[0m\u001b[0mx_test\u001b[0m\u001b[1;33m)\u001b[0m\u001b[1;33m\u001b[0m\u001b[1;33m\u001b[0m\u001b[0m\n\u001b[0;32m      2\u001b[0m \u001b[1;32mfrom\u001b[0m \u001b[0msklearn\u001b[0m\u001b[1;33m.\u001b[0m\u001b[0mmetrics\u001b[0m \u001b[1;32mimport\u001b[0m \u001b[0mclassification_report\u001b[0m\u001b[1;33m,\u001b[0m \u001b[0mconfusion_matrix\u001b[0m\u001b[1;33m,\u001b[0m \u001b[0maccuracy_score\u001b[0m\u001b[1;33m,\u001b[0m \u001b[0mbalanced_accuracy_score\u001b[0m\u001b[1;33m\u001b[0m\u001b[1;33m\u001b[0m\u001b[0m\n\u001b[1;32m----> 3\u001b[1;33m \u001b[0mprint\u001b[0m\u001b[1;33m(\u001b[0m\u001b[0maccuracy_score\u001b[0m\u001b[1;33m(\u001b[0m\u001b[0mypred\u001b[0m\u001b[1;33m,\u001b[0m \u001b[0my_test\u001b[0m\u001b[1;33m)\u001b[0m\u001b[1;33m)\u001b[0m\u001b[1;33m\u001b[0m\u001b[1;33m\u001b[0m\u001b[0m\n\u001b[0m",
      "\u001b[1;32m~\\Anaconda3\\lib\\site-packages\\sklearn\\utils\\validation.py\u001b[0m in \u001b[0;36minner_f\u001b[1;34m(*args, **kwargs)\u001b[0m\n\u001b[0;32m     71\u001b[0m                           FutureWarning)\n\u001b[0;32m     72\u001b[0m         \u001b[0mkwargs\u001b[0m\u001b[1;33m.\u001b[0m\u001b[0mupdate\u001b[0m\u001b[1;33m(\u001b[0m\u001b[1;33m{\u001b[0m\u001b[0mk\u001b[0m\u001b[1;33m:\u001b[0m \u001b[0marg\u001b[0m \u001b[1;32mfor\u001b[0m \u001b[0mk\u001b[0m\u001b[1;33m,\u001b[0m \u001b[0marg\u001b[0m \u001b[1;32min\u001b[0m \u001b[0mzip\u001b[0m\u001b[1;33m(\u001b[0m\u001b[0msig\u001b[0m\u001b[1;33m.\u001b[0m\u001b[0mparameters\u001b[0m\u001b[1;33m,\u001b[0m \u001b[0margs\u001b[0m\u001b[1;33m)\u001b[0m\u001b[1;33m}\u001b[0m\u001b[1;33m)\u001b[0m\u001b[1;33m\u001b[0m\u001b[1;33m\u001b[0m\u001b[0m\n\u001b[1;32m---> 73\u001b[1;33m         \u001b[1;32mreturn\u001b[0m \u001b[0mf\u001b[0m\u001b[1;33m(\u001b[0m\u001b[1;33m**\u001b[0m\u001b[0mkwargs\u001b[0m\u001b[1;33m)\u001b[0m\u001b[1;33m\u001b[0m\u001b[1;33m\u001b[0m\u001b[0m\n\u001b[0m\u001b[0;32m     74\u001b[0m     \u001b[1;32mreturn\u001b[0m \u001b[0minner_f\u001b[0m\u001b[1;33m\u001b[0m\u001b[1;33m\u001b[0m\u001b[0m\n\u001b[0;32m     75\u001b[0m \u001b[1;33m\u001b[0m\u001b[0m\n",
      "\u001b[1;32m~\\Anaconda3\\lib\\site-packages\\sklearn\\metrics\\_classification.py\u001b[0m in \u001b[0;36maccuracy_score\u001b[1;34m(y_true, y_pred, normalize, sample_weight)\u001b[0m\n\u001b[0;32m    185\u001b[0m \u001b[1;33m\u001b[0m\u001b[0m\n\u001b[0;32m    186\u001b[0m     \u001b[1;31m# Compute accuracy for each possible representation\u001b[0m\u001b[1;33m\u001b[0m\u001b[1;33m\u001b[0m\u001b[1;33m\u001b[0m\u001b[0m\n\u001b[1;32m--> 187\u001b[1;33m     \u001b[0my_type\u001b[0m\u001b[1;33m,\u001b[0m \u001b[0my_true\u001b[0m\u001b[1;33m,\u001b[0m \u001b[0my_pred\u001b[0m \u001b[1;33m=\u001b[0m \u001b[0m_check_targets\u001b[0m\u001b[1;33m(\u001b[0m\u001b[0my_true\u001b[0m\u001b[1;33m,\u001b[0m \u001b[0my_pred\u001b[0m\u001b[1;33m)\u001b[0m\u001b[1;33m\u001b[0m\u001b[1;33m\u001b[0m\u001b[0m\n\u001b[0m\u001b[0;32m    188\u001b[0m     \u001b[0mcheck_consistent_length\u001b[0m\u001b[1;33m(\u001b[0m\u001b[0my_true\u001b[0m\u001b[1;33m,\u001b[0m \u001b[0my_pred\u001b[0m\u001b[1;33m,\u001b[0m \u001b[0msample_weight\u001b[0m\u001b[1;33m)\u001b[0m\u001b[1;33m\u001b[0m\u001b[1;33m\u001b[0m\u001b[0m\n\u001b[0;32m    189\u001b[0m     \u001b[1;32mif\u001b[0m \u001b[0my_type\u001b[0m\u001b[1;33m.\u001b[0m\u001b[0mstartswith\u001b[0m\u001b[1;33m(\u001b[0m\u001b[1;34m'multilabel'\u001b[0m\u001b[1;33m)\u001b[0m\u001b[1;33m:\u001b[0m\u001b[1;33m\u001b[0m\u001b[1;33m\u001b[0m\u001b[0m\n",
      "\u001b[1;32m~\\Anaconda3\\lib\\site-packages\\sklearn\\metrics\\_classification.py\u001b[0m in \u001b[0;36m_check_targets\u001b[1;34m(y_true, y_pred)\u001b[0m\n\u001b[0;32m     89\u001b[0m     \u001b[1;32mif\u001b[0m \u001b[0mlen\u001b[0m\u001b[1;33m(\u001b[0m\u001b[0my_type\u001b[0m\u001b[1;33m)\u001b[0m \u001b[1;33m>\u001b[0m \u001b[1;36m1\u001b[0m\u001b[1;33m:\u001b[0m\u001b[1;33m\u001b[0m\u001b[1;33m\u001b[0m\u001b[0m\n\u001b[0;32m     90\u001b[0m         raise ValueError(\"Classification metrics can't handle a mix of {0} \"\n\u001b[1;32m---> 91\u001b[1;33m                          \"and {1} targets\".format(type_true, type_pred))\n\u001b[0m\u001b[0;32m     92\u001b[0m \u001b[1;33m\u001b[0m\u001b[0m\n\u001b[0;32m     93\u001b[0m     \u001b[1;31m# We can't have more than one value on y_type => The set is no more needed\u001b[0m\u001b[1;33m\u001b[0m\u001b[1;33m\u001b[0m\u001b[1;33m\u001b[0m\u001b[0m\n",
      "\u001b[1;31mValueError\u001b[0m: Classification metrics can't handle a mix of continuous-multioutput and multilabel-indicator targets"
     ]
    }
   ],
   "source": [
    "ypred = model.predict(x_test)\n",
    "from sklearn.metrics import classification_report, confusion_matrix, accuracy_score, balanced_accuracy_score\n",
    "print(accuracy_score(ypred, y_test))"
   ]
  },
  {
   "cell_type": "code",
   "execution_count": 230,
   "metadata": {},
   "outputs": [
    {
     "data": {
      "text/html": [
       "<div>\n",
       "<style scoped>\n",
       "    .dataframe tbody tr th:only-of-type {\n",
       "        vertical-align: middle;\n",
       "    }\n",
       "\n",
       "    .dataframe tbody tr th {\n",
       "        vertical-align: top;\n",
       "    }\n",
       "\n",
       "    .dataframe thead th {\n",
       "        text-align: right;\n",
       "    }\n",
       "</style>\n",
       "<table border=\"1\" class=\"dataframe\">\n",
       "  <thead>\n",
       "    <tr style=\"text-align: right;\">\n",
       "      <th></th>\n",
       "      <th>loss</th>\n",
       "      <th>acc</th>\n",
       "      <th>val_loss</th>\n",
       "      <th>val_acc</th>\n",
       "      <th>epoch</th>\n",
       "    </tr>\n",
       "  </thead>\n",
       "  <tbody>\n",
       "    <tr>\n",
       "      <th>0</th>\n",
       "      <td>1.552096</td>\n",
       "      <td>0.254834</td>\n",
       "      <td>1.389258</td>\n",
       "      <td>0.248157</td>\n",
       "      <td>0</td>\n",
       "    </tr>\n",
       "    <tr>\n",
       "      <th>1</th>\n",
       "      <td>1.414389</td>\n",
       "      <td>0.256168</td>\n",
       "      <td>1.516683</td>\n",
       "      <td>0.230443</td>\n",
       "      <td>1</td>\n",
       "    </tr>\n",
       "    <tr>\n",
       "      <th>2</th>\n",
       "      <td>1.416765</td>\n",
       "      <td>0.254284</td>\n",
       "      <td>1.420956</td>\n",
       "      <td>0.249367</td>\n",
       "      <td>2</td>\n",
       "    </tr>\n",
       "    <tr>\n",
       "      <th>3</th>\n",
       "      <td>1.418341</td>\n",
       "      <td>0.253019</td>\n",
       "      <td>1.394098</td>\n",
       "      <td>0.272032</td>\n",
       "      <td>3</td>\n",
       "    </tr>\n",
       "    <tr>\n",
       "      <th>4</th>\n",
       "      <td>1.416774</td>\n",
       "      <td>0.252991</td>\n",
       "      <td>1.471777</td>\n",
       "      <td>0.248157</td>\n",
       "      <td>4</td>\n",
       "    </tr>\n",
       "    <tr>\n",
       "      <th>5</th>\n",
       "      <td>1.416835</td>\n",
       "      <td>0.251657</td>\n",
       "      <td>1.399768</td>\n",
       "      <td>0.248157</td>\n",
       "      <td>5</td>\n",
       "    </tr>\n",
       "    <tr>\n",
       "      <th>6</th>\n",
       "      <td>1.414940</td>\n",
       "      <td>0.255384</td>\n",
       "      <td>1.428249</td>\n",
       "      <td>0.248157</td>\n",
       "      <td>6</td>\n",
       "    </tr>\n",
       "    <tr>\n",
       "      <th>7</th>\n",
       "      <td>1.415299</td>\n",
       "      <td>0.255123</td>\n",
       "      <td>1.398231</td>\n",
       "      <td>0.248157</td>\n",
       "      <td>7</td>\n",
       "    </tr>\n",
       "    <tr>\n",
       "      <th>8</th>\n",
       "      <td>1.414572</td>\n",
       "      <td>0.253638</td>\n",
       "      <td>1.391058</td>\n",
       "      <td>0.272032</td>\n",
       "      <td>8</td>\n",
       "    </tr>\n",
       "    <tr>\n",
       "      <th>9</th>\n",
       "      <td>1.415264</td>\n",
       "      <td>0.254037</td>\n",
       "      <td>1.411350</td>\n",
       "      <td>0.230443</td>\n",
       "      <td>9</td>\n",
       "    </tr>\n",
       "    <tr>\n",
       "      <th>10</th>\n",
       "      <td>1.413798</td>\n",
       "      <td>0.256760</td>\n",
       "      <td>1.394806</td>\n",
       "      <td>0.249367</td>\n",
       "      <td>10</td>\n",
       "    </tr>\n",
       "    <tr>\n",
       "      <th>11</th>\n",
       "      <td>1.417816</td>\n",
       "      <td>0.253665</td>\n",
       "      <td>1.416542</td>\n",
       "      <td>0.272032</td>\n",
       "      <td>11</td>\n",
       "    </tr>\n",
       "    <tr>\n",
       "      <th>12</th>\n",
       "      <td>1.419008</td>\n",
       "      <td>0.254628</td>\n",
       "      <td>1.392840</td>\n",
       "      <td>0.272032</td>\n",
       "      <td>12</td>\n",
       "    </tr>\n",
       "    <tr>\n",
       "      <th>13</th>\n",
       "      <td>1.414359</td>\n",
       "      <td>0.255948</td>\n",
       "      <td>1.387735</td>\n",
       "      <td>0.272032</td>\n",
       "      <td>13</td>\n",
       "    </tr>\n",
       "    <tr>\n",
       "      <th>14</th>\n",
       "      <td>1.413596</td>\n",
       "      <td>0.254257</td>\n",
       "      <td>1.415414</td>\n",
       "      <td>0.249367</td>\n",
       "      <td>14</td>\n",
       "    </tr>\n",
       "    <tr>\n",
       "      <th>15</th>\n",
       "      <td>1.415440</td>\n",
       "      <td>0.253775</td>\n",
       "      <td>1.447727</td>\n",
       "      <td>0.248157</td>\n",
       "      <td>15</td>\n",
       "    </tr>\n",
       "    <tr>\n",
       "      <th>16</th>\n",
       "      <td>1.413699</td>\n",
       "      <td>0.256003</td>\n",
       "      <td>1.418526</td>\n",
       "      <td>0.248157</td>\n",
       "      <td>16</td>\n",
       "    </tr>\n",
       "    <tr>\n",
       "      <th>17</th>\n",
       "      <td>1.416073</td>\n",
       "      <td>0.252579</td>\n",
       "      <td>1.407476</td>\n",
       "      <td>0.248157</td>\n",
       "      <td>17</td>\n",
       "    </tr>\n",
       "    <tr>\n",
       "      <th>18</th>\n",
       "      <td>1.418011</td>\n",
       "      <td>0.255866</td>\n",
       "      <td>1.398492</td>\n",
       "      <td>0.272032</td>\n",
       "      <td>18</td>\n",
       "    </tr>\n",
       "    <tr>\n",
       "      <th>19</th>\n",
       "      <td>1.413278</td>\n",
       "      <td>0.257406</td>\n",
       "      <td>1.400742</td>\n",
       "      <td>0.230443</td>\n",
       "      <td>19</td>\n",
       "    </tr>\n",
       "  </tbody>\n",
       "</table>\n",
       "</div>"
      ],
      "text/plain": [
       "        loss       acc  val_loss   val_acc  epoch\n",
       "0   1.552096  0.254834  1.389258  0.248157      0\n",
       "1   1.414389  0.256168  1.516683  0.230443      1\n",
       "2   1.416765  0.254284  1.420956  0.249367      2\n",
       "3   1.418341  0.253019  1.394098  0.272032      3\n",
       "4   1.416774  0.252991  1.471777  0.248157      4\n",
       "5   1.416835  0.251657  1.399768  0.248157      5\n",
       "6   1.414940  0.255384  1.428249  0.248157      6\n",
       "7   1.415299  0.255123  1.398231  0.248157      7\n",
       "8   1.414572  0.253638  1.391058  0.272032      8\n",
       "9   1.415264  0.254037  1.411350  0.230443      9\n",
       "10  1.413798  0.256760  1.394806  0.249367     10\n",
       "11  1.417816  0.253665  1.416542  0.272032     11\n",
       "12  1.419008  0.254628  1.392840  0.272032     12\n",
       "13  1.414359  0.255948  1.387735  0.272032     13\n",
       "14  1.413596  0.254257  1.415414  0.249367     14\n",
       "15  1.415440  0.253775  1.447727  0.248157     15\n",
       "16  1.413699  0.256003  1.418526  0.248157     16\n",
       "17  1.416073  0.252579  1.407476  0.248157     17\n",
       "18  1.418011  0.255866  1.398492  0.272032     18\n",
       "19  1.413278  0.257406  1.400742  0.230443     19"
      ]
     },
     "execution_count": 230,
     "metadata": {},
     "output_type": "execute_result"
    }
   ],
   "source": [
    "hist4 = pd.DataFrame(history4.history)\n",
    "hist4['epoch'] = history4.epoch\n",
    "hist4 #.tail()"
   ]
  },
  {
   "cell_type": "code",
   "execution_count": 249,
   "metadata": {},
   "outputs": [],
   "source": [
    "plotter = tfdocs.plots.HistoryPlotter(smoothing_std=0)"
   ]
  },
  {
   "cell_type": "code",
   "execution_count": 247,
   "metadata": {},
   "outputs": [
    {
     "name": "stdout",
     "output_type": "stream",
     "text": [
      "0.8453582525253296\n",
      "0.4073992669582367\n"
     ]
    }
   ],
   "source": [
    "print(hist.acc.max())\n",
    "print(hist.acc.min())"
   ]
  },
  {
   "cell_type": "code",
   "execution_count": 258,
   "metadata": {},
   "outputs": [
    {
     "data": {
      "image/png": "[encoded data removed]",
      "text/plain": [
       "<Figure size 720x360 with 1 Axes>"
      ]
     },
     "metadata": {
      "needs_background": "light"
     },
     "output_type": "display_data"
    }
   ],
   "source": [
    "plt.figure(figsize=(10,5))\n",
    "#plt.plot(hist1[\"acc\"], label=\"RMSProp Test\")\n",
    "#plt.plot(hist1[\"val_acc\"], linestyle='dashed', label=\"RMSProp Validation\")\n",
    "\n",
    "plt.plot(hist2[\"acc\"], label=\"Test\")\n",
    "plt.plot(hist2[\"val_acc\"], linestyle='dashed', label=\"Validation\")\n",
    "plt.plot(hist2[\"loss\"], label=\"Test\")\n",
    "plt.plot(hist2[\"val_loss\"], linestyle='dashed', label=\"Adam Validation\")\n",
    "\n",
    "#plt.plot(hist3[\"acc\"], label=\"SGD Test\")\n",
    "#plt.plot(hist3[\"val_acc\"], linestyle='dashed', label=\"SGD Validation\")\n",
    "\n",
    "#plt.plot(hist3[\"acc\"], label=\"SGD LR-0.001\")\n",
    "#plt.plot(hist4[\"acc\"], label=\"Adam LR-0.005\")\n",
    "\n",
    "\n",
    "#plt.plot(data[0].head(500), label=\"Predicted\")\n",
    "plt.legend(loc=\"bottom right\")\n",
    "plt.show()"
   ]
  },
  {
   "cell_type": "code",
   "execution_count": 250,
   "metadata": {},
   "outputs": [
    {
     "data": {
      "text/plain": [
       "Text(0, 0.5, 'Accuracy')"
      ]
     },
     "execution_count": 250,
     "metadata": {},
     "output_type": "execute_result"
    },
    {
     "data": {
      "image/png": "[encoded data removed]",
      "text/plain": [
       "<Figure size 432x288 with 1 Axes>"
      ]
     },
     "metadata": {
      "needs_background": "light"
     },
     "output_type": "display_data"
    }
   ],
   "source": [
    "plotter.plot({'Basic': history}, metric = \"acc\")\n",
    "plt.ylim([0.7, 1])\n",
    "plt.ylabel('Accuracy')"
   ]
  },
  {
   "cell_type": "code",
   "execution_count": null,
   "metadata": {},
   "outputs": [],
   "source": [
    "loss, mae, mse = model.evaluate(x_test, y_test, verbose=2)\n",
    "\n",
    "print(\"Testing set Mean Abs Error: {:5.2f} MPG\".format(mae))"
   ]
  },
  {
   "cell_type": "code",
   "execution_count": null,
   "metadata": {},
   "outputs": [],
   "source": [
    "ypred = model.predict(x_test)"
   ]
  },
  {
   "cell_type": "code",
   "execution_count": 145,
   "metadata": {
    "collapsed": true
   },
   "outputs": [
    {
     "ename": "ValueError",
     "evalue": "Index data must be 1-dimensional",
     "output_type": "error",
     "traceback": [
      "\u001b[1;31m---------------------------------------------------------------------------\u001b[0m",
      "\u001b[1;31mValueError\u001b[0m                                Traceback (most recent call last)",
      "\u001b[1;32m<ipython-input-145-a47049d92b9f>\u001b[0m in \u001b[0;36m<module>\u001b[1;34m\u001b[0m\n\u001b[1;32m----> 1\u001b[1;33m \u001b[0mdata\u001b[0m \u001b[1;33m=\u001b[0m \u001b[0mpd\u001b[0m\u001b[1;33m.\u001b[0m\u001b[0mDataFrame\u001b[0m\u001b[1;33m(\u001b[0m\u001b[0mypred\u001b[0m\u001b[1;33m,\u001b[0m \u001b[0my_test\u001b[0m\u001b[1;33m)\u001b[0m\u001b[1;33m.\u001b[0m\u001b[0mreset_index\u001b[0m\u001b[1;33m(\u001b[0m\u001b[1;33m)\u001b[0m\u001b[1;33m\u001b[0m\u001b[1;33m\u001b[0m\u001b[0m\n\u001b[0m",
      "\u001b[1;32m~\\Anaconda3\\lib\\site-packages\\pandas\\core\\frame.py\u001b[0m in \u001b[0;36m__init__\u001b[1;34m(self, data, index, columns, dtype, copy)\u001b[0m\n\u001b[0;32m    462\u001b[0m                 \u001b[0mmgr\u001b[0m \u001b[1;33m=\u001b[0m \u001b[0minit_dict\u001b[0m\u001b[1;33m(\u001b[0m\u001b[1;33m{\u001b[0m\u001b[0mdata\u001b[0m\u001b[1;33m.\u001b[0m\u001b[0mname\u001b[0m\u001b[1;33m:\u001b[0m \u001b[0mdata\u001b[0m\u001b[1;33m}\u001b[0m\u001b[1;33m,\u001b[0m \u001b[0mindex\u001b[0m\u001b[1;33m,\u001b[0m \u001b[0mcolumns\u001b[0m\u001b[1;33m,\u001b[0m \u001b[0mdtype\u001b[0m\u001b[1;33m=\u001b[0m\u001b[0mdtype\u001b[0m\u001b[1;33m)\u001b[0m\u001b[1;33m\u001b[0m\u001b[1;33m\u001b[0m\u001b[0m\n\u001b[0;32m    463\u001b[0m             \u001b[1;32melse\u001b[0m\u001b[1;33m:\u001b[0m\u001b[1;33m\u001b[0m\u001b[1;33m\u001b[0m\u001b[0m\n\u001b[1;32m--> 464\u001b[1;33m                 \u001b[0mmgr\u001b[0m \u001b[1;33m=\u001b[0m \u001b[0minit_ndarray\u001b[0m\u001b[1;33m(\u001b[0m\u001b[0mdata\u001b[0m\u001b[1;33m,\u001b[0m \u001b[0mindex\u001b[0m\u001b[1;33m,\u001b[0m \u001b[0mcolumns\u001b[0m\u001b[1;33m,\u001b[0m \u001b[0mdtype\u001b[0m\u001b[1;33m=\u001b[0m\u001b[0mdtype\u001b[0m\u001b[1;33m,\u001b[0m \u001b[0mcopy\u001b[0m\u001b[1;33m=\u001b[0m\u001b[0mcopy\u001b[0m\u001b[1;33m)\u001b[0m\u001b[1;33m\u001b[0m\u001b[1;33m\u001b[0m\u001b[0m\n\u001b[0m\u001b[0;32m    465\u001b[0m \u001b[1;33m\u001b[0m\u001b[0m\n\u001b[0;32m    466\u001b[0m         \u001b[1;31m# For data is list-like, or Iterable (will consume into list)\u001b[0m\u001b[1;33m\u001b[0m\u001b[1;33m\u001b[0m\u001b[1;33m\u001b[0m\u001b[0m\n",
      "\u001b[1;32m~\\Anaconda3\\lib\\site-packages\\pandas\\core\\internals\\construction.py\u001b[0m in \u001b[0;36minit_ndarray\u001b[1;34m(values, index, columns, dtype, copy)\u001b[0m\n\u001b[0;32m    179\u001b[0m                 ) from orig\n\u001b[0;32m    180\u001b[0m \u001b[1;33m\u001b[0m\u001b[0m\n\u001b[1;32m--> 181\u001b[1;33m     \u001b[0mindex\u001b[0m\u001b[1;33m,\u001b[0m \u001b[0mcolumns\u001b[0m \u001b[1;33m=\u001b[0m \u001b[0m_get_axes\u001b[0m\u001b[1;33m(\u001b[0m\u001b[1;33m*\u001b[0m\u001b[0mvalues\u001b[0m\u001b[1;33m.\u001b[0m\u001b[0mshape\u001b[0m\u001b[1;33m,\u001b[0m \u001b[0mindex\u001b[0m\u001b[1;33m=\u001b[0m\u001b[0mindex\u001b[0m\u001b[1;33m,\u001b[0m \u001b[0mcolumns\u001b[0m\u001b[1;33m=\u001b[0m\u001b[0mcolumns\u001b[0m\u001b[1;33m)\u001b[0m\u001b[1;33m\u001b[0m\u001b[1;33m\u001b[0m\u001b[0m\n\u001b[0m\u001b[0;32m    182\u001b[0m     \u001b[0mvalues\u001b[0m \u001b[1;33m=\u001b[0m \u001b[0mvalues\u001b[0m\u001b[1;33m.\u001b[0m\u001b[0mT\u001b[0m\u001b[1;33m\u001b[0m\u001b[1;33m\u001b[0m\u001b[0m\n\u001b[0;32m    183\u001b[0m \u001b[1;33m\u001b[0m\u001b[0m\n",
      "\u001b[1;32m~\\Anaconda3\\lib\\site-packages\\pandas\\core\\internals\\construction.py\u001b[0m in \u001b[0;36m_get_axes\u001b[1;34m(N, K, index, columns)\u001b[0m\n\u001b[0;32m    422\u001b[0m         \u001b[0mindex\u001b[0m \u001b[1;33m=\u001b[0m \u001b[0mibase\u001b[0m\u001b[1;33m.\u001b[0m\u001b[0mdefault_index\u001b[0m\u001b[1;33m(\u001b[0m\u001b[0mN\u001b[0m\u001b[1;33m)\u001b[0m\u001b[1;33m\u001b[0m\u001b[1;33m\u001b[0m\u001b[0m\n\u001b[0;32m    423\u001b[0m     \u001b[1;32melse\u001b[0m\u001b[1;33m:\u001b[0m\u001b[1;33m\u001b[0m\u001b[1;33m\u001b[0m\u001b[0m\n\u001b[1;32m--> 424\u001b[1;33m         \u001b[0mindex\u001b[0m \u001b[1;33m=\u001b[0m \u001b[0mensure_index\u001b[0m\u001b[1;33m(\u001b[0m\u001b[0mindex\u001b[0m\u001b[1;33m)\u001b[0m\u001b[1;33m\u001b[0m\u001b[1;33m\u001b[0m\u001b[0m\n\u001b[0m\u001b[0;32m    425\u001b[0m \u001b[1;33m\u001b[0m\u001b[0m\n\u001b[0;32m    426\u001b[0m     \u001b[1;32mif\u001b[0m \u001b[0mcolumns\u001b[0m \u001b[1;32mis\u001b[0m \u001b[1;32mNone\u001b[0m\u001b[1;33m:\u001b[0m\u001b[1;33m\u001b[0m\u001b[1;33m\u001b[0m\u001b[0m\n",
      "\u001b[1;32m~\\Anaconda3\\lib\\site-packages\\pandas\\core\\indexes\\base.py\u001b[0m in \u001b[0;36mensure_index\u001b[1;34m(index_like, copy)\u001b[0m\n\u001b[0;32m   5356\u001b[0m             \u001b[0mindex_like\u001b[0m \u001b[1;33m=\u001b[0m \u001b[0mcopy\u001b[0m\u001b[1;33m(\u001b[0m\u001b[0mindex_like\u001b[0m\u001b[1;33m)\u001b[0m\u001b[1;33m\u001b[0m\u001b[1;33m\u001b[0m\u001b[0m\n\u001b[0;32m   5357\u001b[0m \u001b[1;33m\u001b[0m\u001b[0m\n\u001b[1;32m-> 5358\u001b[1;33m     \u001b[1;32mreturn\u001b[0m \u001b[0mIndex\u001b[0m\u001b[1;33m(\u001b[0m\u001b[0mindex_like\u001b[0m\u001b[1;33m)\u001b[0m\u001b[1;33m\u001b[0m\u001b[1;33m\u001b[0m\u001b[0m\n\u001b[0m\u001b[0;32m   5359\u001b[0m \u001b[1;33m\u001b[0m\u001b[0m\n\u001b[0;32m   5360\u001b[0m \u001b[1;33m\u001b[0m\u001b[0m\n",
      "\u001b[1;32m~\\Anaconda3\\lib\\site-packages\\pandas\\core\\indexes\\base.py\u001b[0m in \u001b[0;36m__new__\u001b[1;34m(cls, data, dtype, copy, name, tupleize_cols, **kwargs)\u001b[0m\n\u001b[0;32m    392\u001b[0m                 \u001b[1;32mreturn\u001b[0m \u001b[0mUInt64Index\u001b[0m\u001b[1;33m(\u001b[0m\u001b[0mdata\u001b[0m\u001b[1;33m,\u001b[0m \u001b[0mcopy\u001b[0m\u001b[1;33m=\u001b[0m\u001b[0mcopy\u001b[0m\u001b[1;33m,\u001b[0m \u001b[0mdtype\u001b[0m\u001b[1;33m=\u001b[0m\u001b[0mdtype\u001b[0m\u001b[1;33m,\u001b[0m \u001b[0mname\u001b[0m\u001b[1;33m=\u001b[0m\u001b[0mname\u001b[0m\u001b[1;33m)\u001b[0m\u001b[1;33m\u001b[0m\u001b[1;33m\u001b[0m\u001b[0m\n\u001b[0;32m    393\u001b[0m             \u001b[1;32melif\u001b[0m \u001b[0mis_float_dtype\u001b[0m\u001b[1;33m(\u001b[0m\u001b[0mdata\u001b[0m\u001b[1;33m.\u001b[0m\u001b[0mdtype\u001b[0m\u001b[1;33m)\u001b[0m\u001b[1;33m:\u001b[0m\u001b[1;33m\u001b[0m\u001b[1;33m\u001b[0m\u001b[0m\n\u001b[1;32m--> 394\u001b[1;33m                 \u001b[1;32mreturn\u001b[0m \u001b[0mFloat64Index\u001b[0m\u001b[1;33m(\u001b[0m\u001b[0mdata\u001b[0m\u001b[1;33m,\u001b[0m \u001b[0mcopy\u001b[0m\u001b[1;33m=\u001b[0m\u001b[0mcopy\u001b[0m\u001b[1;33m,\u001b[0m \u001b[0mdtype\u001b[0m\u001b[1;33m=\u001b[0m\u001b[0mdtype\u001b[0m\u001b[1;33m,\u001b[0m \u001b[0mname\u001b[0m\u001b[1;33m=\u001b[0m\u001b[0mname\u001b[0m\u001b[1;33m)\u001b[0m\u001b[1;33m\u001b[0m\u001b[1;33m\u001b[0m\u001b[0m\n\u001b[0m\u001b[0;32m    395\u001b[0m             \u001b[1;32melif\u001b[0m \u001b[0missubclass\u001b[0m\u001b[1;33m(\u001b[0m\u001b[0mdata\u001b[0m\u001b[1;33m.\u001b[0m\u001b[0mdtype\u001b[0m\u001b[1;33m.\u001b[0m\u001b[0mtype\u001b[0m\u001b[1;33m,\u001b[0m \u001b[0mnp\u001b[0m\u001b[1;33m.\u001b[0m\u001b[0mbool\u001b[0m\u001b[1;33m)\u001b[0m \u001b[1;32mor\u001b[0m \u001b[0mis_bool_dtype\u001b[0m\u001b[1;33m(\u001b[0m\u001b[0mdata\u001b[0m\u001b[1;33m)\u001b[0m\u001b[1;33m:\u001b[0m\u001b[1;33m\u001b[0m\u001b[1;33m\u001b[0m\u001b[0m\n\u001b[0;32m    396\u001b[0m                 \u001b[0msubarr\u001b[0m \u001b[1;33m=\u001b[0m \u001b[0mdata\u001b[0m\u001b[1;33m.\u001b[0m\u001b[0mastype\u001b[0m\u001b[1;33m(\u001b[0m\u001b[1;34m\"object\"\u001b[0m\u001b[1;33m)\u001b[0m\u001b[1;33m\u001b[0m\u001b[1;33m\u001b[0m\u001b[0m\n",
      "\u001b[1;32m~\\Anaconda3\\lib\\site-packages\\pandas\\core\\indexes\\numeric.py\u001b[0m in \u001b[0;36m__new__\u001b[1;34m(cls, data, dtype, copy, name)\u001b[0m\n\u001b[0;32m     76\u001b[0m         \u001b[1;32mif\u001b[0m \u001b[0msubarr\u001b[0m\u001b[1;33m.\u001b[0m\u001b[0mndim\u001b[0m \u001b[1;33m>\u001b[0m \u001b[1;36m1\u001b[0m\u001b[1;33m:\u001b[0m\u001b[1;33m\u001b[0m\u001b[1;33m\u001b[0m\u001b[0m\n\u001b[0;32m     77\u001b[0m             \u001b[1;31m# GH#13601, GH#20285, GH#27125\u001b[0m\u001b[1;33m\u001b[0m\u001b[1;33m\u001b[0m\u001b[1;33m\u001b[0m\u001b[0m\n\u001b[1;32m---> 78\u001b[1;33m             \u001b[1;32mraise\u001b[0m \u001b[0mValueError\u001b[0m\u001b[1;33m(\u001b[0m\u001b[1;34m\"Index data must be 1-dimensional\"\u001b[0m\u001b[1;33m)\u001b[0m\u001b[1;33m\u001b[0m\u001b[1;33m\u001b[0m\u001b[0m\n\u001b[0m\u001b[0;32m     79\u001b[0m \u001b[1;33m\u001b[0m\u001b[0m\n\u001b[0;32m     80\u001b[0m         \u001b[0mname\u001b[0m \u001b[1;33m=\u001b[0m \u001b[0mmaybe_extract_name\u001b[0m\u001b[1;33m(\u001b[0m\u001b[0mname\u001b[0m\u001b[1;33m,\u001b[0m \u001b[0mdata\u001b[0m\u001b[1;33m,\u001b[0m \u001b[0mcls\u001b[0m\u001b[1;33m)\u001b[0m\u001b[1;33m\u001b[0m\u001b[1;33m\u001b[0m\u001b[0m\n",
      "\u001b[1;31mValueError\u001b[0m: Index data must be 1-dimensional"
     ]
    }
   ],
   "source": [
    "data = pd.DataFrame(ypred, y_test).reset_index()"
   ]
  },
  {
   "cell_type": "code",
   "execution_count": 146,
   "metadata": {
    "collapsed": true
   },
   "outputs": [
    {
     "ename": "NameError",
     "evalue": "name 'data' is not defined",
     "output_type": "error",
     "traceback": [
      "\u001b[1;31m---------------------------------------------------------------------------\u001b[0m",
      "\u001b[1;31mNameError\u001b[0m                                 Traceback (most recent call last)",
      "\u001b[1;32m<ipython-input-146-2fb541693ff1>\u001b[0m in \u001b[0;36m<module>\u001b[1;34m\u001b[0m\n\u001b[0;32m      1\u001b[0m \u001b[0mplt\u001b[0m\u001b[1;33m.\u001b[0m\u001b[0mfigure\u001b[0m\u001b[1;33m(\u001b[0m\u001b[0mfigsize\u001b[0m\u001b[1;33m=\u001b[0m\u001b[1;33m(\u001b[0m\u001b[1;36m20\u001b[0m\u001b[1;33m,\u001b[0m\u001b[1;36m8\u001b[0m\u001b[1;33m)\u001b[0m\u001b[1;33m)\u001b[0m\u001b[1;33m\u001b[0m\u001b[1;33m\u001b[0m\u001b[0m\n\u001b[1;32m----> 2\u001b[1;33m \u001b[0mplt\u001b[0m\u001b[1;33m.\u001b[0m\u001b[0mplot\u001b[0m\u001b[1;33m(\u001b[0m\u001b[0mdata\u001b[0m\u001b[1;33m[\u001b[0m\u001b[1;34m\"No_of_Cars\"\u001b[0m\u001b[1;33m]\u001b[0m\u001b[1;33m.\u001b[0m\u001b[0mhead\u001b[0m\u001b[1;33m(\u001b[0m\u001b[1;36m100\u001b[0m\u001b[1;33m)\u001b[0m\u001b[1;33m,\u001b[0m \u001b[0mlabel\u001b[0m\u001b[1;33m=\u001b[0m\u001b[1;34m\"Actual\"\u001b[0m\u001b[1;33m)\u001b[0m\u001b[1;33m\u001b[0m\u001b[1;33m\u001b[0m\u001b[0m\n\u001b[0m\u001b[0;32m      3\u001b[0m \u001b[0mplt\u001b[0m\u001b[1;33m.\u001b[0m\u001b[0mplot\u001b[0m\u001b[1;33m(\u001b[0m\u001b[0mdata\u001b[0m\u001b[1;33m[\u001b[0m\u001b[1;36m0\u001b[0m\u001b[1;33m]\u001b[0m\u001b[1;33m.\u001b[0m\u001b[0mhead\u001b[0m\u001b[1;33m(\u001b[0m\u001b[1;36m100\u001b[0m\u001b[1;33m)\u001b[0m\u001b[1;33m,\u001b[0m \u001b[0mlabel\u001b[0m\u001b[1;33m=\u001b[0m\u001b[1;34m\"Predicted\"\u001b[0m\u001b[1;33m)\u001b[0m\u001b[1;33m\u001b[0m\u001b[1;33m\u001b[0m\u001b[0m\n\u001b[0;32m      4\u001b[0m \u001b[0mplt\u001b[0m\u001b[1;33m.\u001b[0m\u001b[0mlegend\u001b[0m\u001b[1;33m(\u001b[0m\u001b[0mloc\u001b[0m\u001b[1;33m=\u001b[0m\u001b[1;34m\"upper right\"\u001b[0m\u001b[1;33m)\u001b[0m\u001b[1;33m\u001b[0m\u001b[1;33m\u001b[0m\u001b[0m\n\u001b[0;32m      5\u001b[0m \u001b[0mplt\u001b[0m\u001b[1;33m.\u001b[0m\u001b[0mshow\u001b[0m\u001b[1;33m(\u001b[0m\u001b[1;33m)\u001b[0m\u001b[1;33m\u001b[0m\u001b[1;33m\u001b[0m\u001b[0m\n",
      "\u001b[1;31mNameError\u001b[0m: name 'data' is not defined"
     ]
    },
    {
     "data": {
      "text/plain": [
       "<Figure size 1440x576 with 0 Axes>"
      ]
     },
     "metadata": {},
     "output_type": "display_data"
    }
   ],
   "source": [
    "plt.figure(figsize=(20,8))\n",
    "plt.plot(data[\"No_of_Cars\"].head(100), label=\"Actual\")\n",
    "plt.plot(data[0].head(100), label=\"Predicted\")\n",
    "plt.legend(loc=\"upper right\")\n",
    "plt.show()"
   ]
  },
  {
   "cell_type": "code",
   "execution_count": null,
   "metadata": {},
   "outputs": [],
   "source": [
    "test = pd.DataFrame(y_test)\n",
    "pred = pd.DataFrame(ypred)\n",
    "final = pd.concat([test, pred], axis=1)\n",
    "test.to_csv(\"test.csv\")\n",
    "pred.to_csv(\"pred.csv\")\n",
    "# manually merge the CSVs"
   ]
  },
  {
   "cell_type": "code",
   "execution_count": null,
   "metadata": {},
   "outputs": [],
   "source": [
    "data = pd.read_csv(\"test.csv\")\n",
    "data = data.set_index('Index')\n"
   ]
  },
  {
   "cell_type": "code",
   "execution_count": null,
   "metadata": {},
   "outputs": [],
   "source": [
    "merged = pd.merge(left=df, left_index=True,\n",
    "                  right=data, right_index=True,\n",
    "                  how='inner')"
   ]
  },
  {
   "cell_type": "code",
   "execution_count": null,
   "metadata": {},
   "outputs": [],
   "source": [
    "merged.head()"
   ]
  },
  {
   "cell_type": "code",
   "execution_count": null,
   "metadata": {},
   "outputs": [],
   "source": [
    "final = merged[[\"Date\",\"Tolls\",\"StartTime\",\"DayOfWeek\",\"isHoliday?\",\"No_of_Cars_y\",\"Predicted\"]]\n",
    "\n",
    "final[\"Inaccuracy\"] = abs(final[\"No_of_Cars_y\"] - final[\"Predicted\"])\n",
    "final[\"Precision\"] = final[\"Inaccuracy\"]/final[\"No_of_Cars_y\"]\n",
    "\n",
    "final = final.sort_values(\"Precision\", ascending=False)\n",
    "\n",
    "#final[(final[\"Precision\"]>1) & (final[\"No_of_Cars_y\"]>10)]"
   ]
  },
  {
   "cell_type": "code",
   "execution_count": null,
   "metadata": {},
   "outputs": [],
   "source": [
    "final.head()"
   ]
  },
  {
   "cell_type": "code",
   "execution_count": null,
   "metadata": {},
   "outputs": [],
   "source": [
    "final.to_csv(\"RF_Predictions.csv\", index=False)\n",
    "#del(final)\n",
    "del(test)\n",
    "del(merged)\n",
    "del(pred)\n",
    "del(data)"
   ]
  },
  {
   "cell_type": "code",
   "execution_count": null,
   "metadata": {},
   "outputs": [],
   "source": []
  }
 ],
 "metadata": {
  "kernelspec": {
   "display_name": "Python 3",
   "language": "python",
   "name": "python3"
  },
  "language_info": {
   "codemirror_mode": {
    "name": "ipython",
    "version": 3
   },
   "file_extension": ".py",
   "mimetype": "text/x-python",
   "name": "python",
   "nbconvert_exporter": "python",
   "pygments_lexer": "ipython3",
   "version": "3.7.7"
  }
 },
 "nbformat": 4,
 "nbformat_minor": 4
}
