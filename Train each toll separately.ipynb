{
 "cells": [
  {
   "cell_type": "code",
   "execution_count": 1,
   "metadata": {},
   "outputs": [],
   "source": [
    "import os\n",
    "import numpy as np\n",
    "import pandas as pd\n",
    "import matplotlib.pyplot as plt\n",
    "import seaborn as sns\n",
    "import warnings\n",
    "import glob\n",
    "import calendar\n",
    "from sklearn.preprocessing import MinMaxScaler, StandardScaler\n",
    "from sklearn.feature_selection import SelectFromModel\n",
    "\n",
    "pd.options.display.max_columns = None\n",
    "pd.options.display.max_rows = None\n",
    "\n",
    "warnings.filterwarnings('ignore')\n",
    "\n",
    "os.chdir(\"E:/Trinity/Dissertation/Sem 3/models/data/\")"
   ]
  },
  {
   "cell_type": "markdown",
   "metadata": {},
   "source": [
    "Read the new DataFrame"
   ]
  },
  {
   "cell_type": "code",
   "execution_count": 2,
   "metadata": {},
   "outputs": [],
   "source": [
    "os.chdir(\"E:/Trinity/Dissertation/Sem 3/models/\")\n",
    "df = pd.read_csv(\"MoreCategoriesData.csv\")  "
   ]
  },
  {
   "cell_type": "code",
   "execution_count": 5,
   "metadata": {},
   "outputs": [
    {
     "data": {
      "text/html": [
       "<div>\n",
       "<style scoped>\n",
       "    .dataframe tbody tr th:only-of-type {\n",
       "        vertical-align: middle;\n",
       "    }\n",
       "\n",
       "    .dataframe tbody tr th {\n",
       "        vertical-align: top;\n",
       "    }\n",
       "\n",
       "    .dataframe thead th {\n",
       "        text-align: right;\n",
       "    }\n",
       "</style>\n",
       "<table border=\"1\" class=\"dataframe\">\n",
       "  <thead>\n",
       "    <tr style=\"text-align: right;\">\n",
       "      <th></th>\n",
       "      <th>Date</th>\n",
       "      <th>StartTime</th>\n",
       "      <th>EndTime</th>\n",
       "      <th>No_of_Cars</th>\n",
       "      <th>DayOfWeek</th>\n",
       "      <th>Weekend?</th>\n",
       "      <th>isHoliday?</th>\n",
       "      <th>Month</th>\n",
       "      <th>Day</th>\n",
       "      <th>Year</th>\n",
       "      <th>Tolls</th>\n",
       "      <th>Tollname_Dublin Tunnel</th>\n",
       "      <th>Tollname_Eastlink</th>\n",
       "      <th>Tollname_Limerick Tunnel</th>\n",
       "      <th>Tollname_M1</th>\n",
       "      <th>Tollname_M3</th>\n",
       "      <th>Tollname_M4</th>\n",
       "      <th>Tollname_M50</th>\n",
       "      <th>Tollname_M7-M8</th>\n",
       "      <th>Tollname_M8</th>\n",
       "      <th>Tollname_N25</th>\n",
       "      <th>Tollname_N6</th>\n",
       "      <th>ScaledStartTime</th>\n",
       "      <th>ScaledDayofWeek</th>\n",
       "      <th>TrafficCategory</th>\n",
       "    </tr>\n",
       "  </thead>\n",
       "  <tbody>\n",
       "    <tr>\n",
       "      <th>0</th>\n",
       "      <td>01-01-2019</td>\n",
       "      <td>0</td>\n",
       "      <td>1</td>\n",
       "      <td>22</td>\n",
       "      <td>2</td>\n",
       "      <td>0</td>\n",
       "      <td>1</td>\n",
       "      <td>-1.552307</td>\n",
       "      <td>-1.676356</td>\n",
       "      <td>2019</td>\n",
       "      <td>M7-M8</td>\n",
       "      <td>0</td>\n",
       "      <td>0</td>\n",
       "      <td>0</td>\n",
       "      <td>0</td>\n",
       "      <td>0</td>\n",
       "      <td>0</td>\n",
       "      <td>0</td>\n",
       "      <td>1</td>\n",
       "      <td>0</td>\n",
       "      <td>0</td>\n",
       "      <td>0</td>\n",
       "      <td>-1.661325</td>\n",
       "      <td>-0.974781</td>\n",
       "      <td>1</td>\n",
       "    </tr>\n",
       "    <tr>\n",
       "      <th>1</th>\n",
       "      <td>01-01-2019</td>\n",
       "      <td>1</td>\n",
       "      <td>2</td>\n",
       "      <td>29</td>\n",
       "      <td>2</td>\n",
       "      <td>0</td>\n",
       "      <td>1</td>\n",
       "      <td>-1.552307</td>\n",
       "      <td>-1.676356</td>\n",
       "      <td>2019</td>\n",
       "      <td>M7-M8</td>\n",
       "      <td>0</td>\n",
       "      <td>0</td>\n",
       "      <td>0</td>\n",
       "      <td>0</td>\n",
       "      <td>0</td>\n",
       "      <td>0</td>\n",
       "      <td>0</td>\n",
       "      <td>1</td>\n",
       "      <td>0</td>\n",
       "      <td>0</td>\n",
       "      <td>0</td>\n",
       "      <td>-1.516862</td>\n",
       "      <td>-0.974781</td>\n",
       "      <td>1</td>\n",
       "    </tr>\n",
       "    <tr>\n",
       "      <th>2</th>\n",
       "      <td>01-01-2019</td>\n",
       "      <td>2</td>\n",
       "      <td>3</td>\n",
       "      <td>25</td>\n",
       "      <td>2</td>\n",
       "      <td>0</td>\n",
       "      <td>1</td>\n",
       "      <td>-1.552307</td>\n",
       "      <td>-1.676356</td>\n",
       "      <td>2019</td>\n",
       "      <td>M7-M8</td>\n",
       "      <td>0</td>\n",
       "      <td>0</td>\n",
       "      <td>0</td>\n",
       "      <td>0</td>\n",
       "      <td>0</td>\n",
       "      <td>0</td>\n",
       "      <td>0</td>\n",
       "      <td>1</td>\n",
       "      <td>0</td>\n",
       "      <td>0</td>\n",
       "      <td>0</td>\n",
       "      <td>-1.372399</td>\n",
       "      <td>-0.974781</td>\n",
       "      <td>1</td>\n",
       "    </tr>\n",
       "    <tr>\n",
       "      <th>3</th>\n",
       "      <td>01-01-2019</td>\n",
       "      <td>3</td>\n",
       "      <td>4</td>\n",
       "      <td>31</td>\n",
       "      <td>2</td>\n",
       "      <td>0</td>\n",
       "      <td>1</td>\n",
       "      <td>-1.552307</td>\n",
       "      <td>-1.676356</td>\n",
       "      <td>2019</td>\n",
       "      <td>M7-M8</td>\n",
       "      <td>0</td>\n",
       "      <td>0</td>\n",
       "      <td>0</td>\n",
       "      <td>0</td>\n",
       "      <td>0</td>\n",
       "      <td>0</td>\n",
       "      <td>0</td>\n",
       "      <td>1</td>\n",
       "      <td>0</td>\n",
       "      <td>0</td>\n",
       "      <td>0</td>\n",
       "      <td>-1.227936</td>\n",
       "      <td>-0.974781</td>\n",
       "      <td>1</td>\n",
       "    </tr>\n",
       "    <tr>\n",
       "      <th>4</th>\n",
       "      <td>01-01-2019</td>\n",
       "      <td>4</td>\n",
       "      <td>5</td>\n",
       "      <td>24</td>\n",
       "      <td>2</td>\n",
       "      <td>0</td>\n",
       "      <td>1</td>\n",
       "      <td>-1.552307</td>\n",
       "      <td>-1.676356</td>\n",
       "      <td>2019</td>\n",
       "      <td>M7-M8</td>\n",
       "      <td>0</td>\n",
       "      <td>0</td>\n",
       "      <td>0</td>\n",
       "      <td>0</td>\n",
       "      <td>0</td>\n",
       "      <td>0</td>\n",
       "      <td>0</td>\n",
       "      <td>1</td>\n",
       "      <td>0</td>\n",
       "      <td>0</td>\n",
       "      <td>0</td>\n",
       "      <td>-1.083473</td>\n",
       "      <td>-0.974781</td>\n",
       "      <td>1</td>\n",
       "    </tr>\n",
       "  </tbody>\n",
       "</table>\n",
       "</div>"
      ],
      "text/plain": [
       "         Date  StartTime  EndTime  No_of_Cars  DayOfWeek  Weekend?  \\\n",
       "0  01-01-2019          0        1          22          2         0   \n",
       "1  01-01-2019          1        2          29          2         0   \n",
       "2  01-01-2019          2        3          25          2         0   \n",
       "3  01-01-2019          3        4          31          2         0   \n",
       "4  01-01-2019          4        5          24          2         0   \n",
       "\n",
       "   isHoliday?     Month       Day  Year  Tolls  Tollname_Dublin Tunnel  \\\n",
       "0           1 -1.552307 -1.676356  2019  M7-M8                       0   \n",
       "1           1 -1.552307 -1.676356  2019  M7-M8                       0   \n",
       "2           1 -1.552307 -1.676356  2019  M7-M8                       0   \n",
       "3           1 -1.552307 -1.676356  2019  M7-M8                       0   \n",
       "4           1 -1.552307 -1.676356  2019  M7-M8                       0   \n",
       "\n",
       "   Tollname_Eastlink  Tollname_Limerick Tunnel  Tollname_M1  Tollname_M3  \\\n",
       "0                  0                         0            0            0   \n",
       "1                  0                         0            0            0   \n",
       "2                  0                         0            0            0   \n",
       "3                  0                         0            0            0   \n",
       "4                  0                         0            0            0   \n",
       "\n",
       "   Tollname_M4  Tollname_M50  Tollname_M7-M8  Tollname_M8  Tollname_N25  \\\n",
       "0            0             0               1            0             0   \n",
       "1            0             0               1            0             0   \n",
       "2            0             0               1            0             0   \n",
       "3            0             0               1            0             0   \n",
       "4            0             0               1            0             0   \n",
       "\n",
       "   Tollname_N6  ScaledStartTime  ScaledDayofWeek  TrafficCategory  \n",
       "0            0        -1.661325        -0.974781                1  \n",
       "1            0        -1.516862        -0.974781                1  \n",
       "2            0        -1.372399        -0.974781                1  \n",
       "3            0        -1.227936        -0.974781                1  \n",
       "4            0        -1.083473        -0.974781                1  "
      ]
     },
     "execution_count": 5,
     "metadata": {},
     "output_type": "execute_result"
    }
   ],
   "source": [
    "df.head()"
   ]
  },
  {
   "cell_type": "code",
   "execution_count": 4,
   "metadata": {},
   "outputs": [],
   "source": [
    "df = df[df[\"Tolls\"]!=\"--\"]\n",
    "df = df[df[\"No_of_Cars\"]>15]\n"
   ]
  },
  {
   "cell_type": "code",
   "execution_count": 27,
   "metadata": {},
   "outputs": [
    {
     "data": {
      "text/plain": [
       "array(['M7-M8', 'N6', 'N25', 'M50', 'M1', 'M8', 'M3', 'Eastlink', 'M4',\n",
       "       'Dublin Tunnel', 'Limerick Tunnel'], dtype=object)"
      ]
     },
     "execution_count": 27,
     "metadata": {},
     "output_type": "execute_result"
    }
   ],
   "source": [
    "df[\"Tolls\"].unique()"
   ]
  },
  {
   "cell_type": "code",
   "execution_count": 133,
   "metadata": {},
   "outputs": [],
   "source": [
    "df_Toll = df[df[\"Tolls\"] == 'Limerick Tunnel']\n",
    "df_Toll = df_Toll[[\"ScaledStartTime\", \"ScaledDayofWeek\", \"Day\", \"Month\", \"isHoliday?\", \"Weekend?\", \"No_of_Cars\"]]"
   ]
  },
  {
   "cell_type": "code",
   "execution_count": 134,
   "metadata": {},
   "outputs": [
    {
     "data": {
      "text/plain": [
       "5440"
      ]
     },
     "execution_count": 134,
     "metadata": {},
     "output_type": "execute_result"
    }
   ],
   "source": [
    "len(df_Toll)"
   ]
  },
  {
   "cell_type": "markdown",
   "metadata": {},
   "source": [
    "### MODEL"
   ]
  },
  {
   "cell_type": "code",
   "execution_count": 135,
   "metadata": {},
   "outputs": [],
   "source": [
    "df_x = df_Toll.drop([\"No_of_Cars\"],axis=1)\n",
    "df_y = df_Toll[\"No_of_Cars\"]"
   ]
  },
  {
   "cell_type": "code",
   "execution_count": 136,
   "metadata": {},
   "outputs": [],
   "source": [
    "from sklearn.model_selection import train_test_split\n",
    "x_train, x_test, y_train, y_test = train_test_split(df_x, df_y, train_size=0.80, random_state=100)"
   ]
  },
  {
   "cell_type": "code",
   "execution_count": 137,
   "metadata": {},
   "outputs": [],
   "source": [
    "from sklearn.ensemble import RandomForestRegressor\n",
    "rf = RandomForestRegressor(n_estimators=1500, random_state=100)"
   ]
  },
  {
   "cell_type": "code",
   "execution_count": 138,
   "metadata": {},
   "outputs": [],
   "source": [
    "model = rf.fit(x_train, y_train)        # Fit the RFR mode"
   ]
  },
  {
   "cell_type": "code",
   "execution_count": 139,
   "metadata": {},
   "outputs": [],
   "source": [
    "from sklearn.metrics import mean_squared_error, r2_score\n",
    "ypred = model.predict(x_test)"
   ]
  },
  {
   "cell_type": "code",
   "execution_count": 140,
   "metadata": {},
   "outputs": [
    {
     "data": {
      "text/plain": [
       "71.81211396416091"
      ]
     },
     "execution_count": 140,
     "metadata": {},
     "output_type": "execute_result"
    }
   ],
   "source": [
    "import math\n",
    "\n",
    "mse = mean_squared_error(y_test, ypred)\n",
    "rmse = math.sqrt(mse)\n",
    "rmse\n"
   ]
  },
  {
   "cell_type": "code",
   "execution_count": 141,
   "metadata": {},
   "outputs": [],
   "source": [
    "data = pd.DataFrame(ypred, y_test).reset_index()"
   ]
  },
  {
   "cell_type": "code",
   "execution_count": 142,
   "metadata": {},
   "outputs": [
    {
     "data": {
      "image/png": "[encoded data removed]",
      "text/plain": [
       "<Figure size 1440x576 with 1 Axes>"
      ]
     },
     "metadata": {
      "needs_background": "light"
     },
     "output_type": "display_data"
    }
   ],
   "source": [
    "plt.figure(figsize=(20,8))\n",
    "plt.plot(data[\"No_of_Cars\"].head(100), label=\"Actual\")\n",
    "plt.plot(data[0].head(100), label=\"Predicted\")\n",
    "plt.legend(loc=\"upper right\")\n",
    "plt.show()"
   ]
  },
  {
   "cell_type": "code",
   "execution_count": null,
   "metadata": {},
   "outputs": [],
   "source": []
  },
  {
   "cell_type": "code",
   "execution_count": null,
   "metadata": {},
   "outputs": [],
   "source": []
  },
  {
   "cell_type": "code",
   "execution_count": null,
   "metadata": {},
   "outputs": [],
   "source": []
  },
  {
   "cell_type": "code",
   "execution_count": null,
   "metadata": {},
   "outputs": [],
   "source": []
  },
  {
   "cell_type": "code",
   "execution_count": null,
   "metadata": {},
   "outputs": [],
   "source": [
    "test = pd.DataFrame(y_test)\n",
    "pred = pd.DataFrame(ypred)\n",
    "final = pd.concat([test, pred], axis=1)\n",
    "test.to_csv(\"test.csv\")\n",
    "pred.to_csv(\"pred.csv\")\n",
    "# manually merge the CSVs"
   ]
  },
  {
   "cell_type": "code",
   "execution_count": null,
   "metadata": {},
   "outputs": [],
   "source": [
    "data = pd.read_csv(\"test.csv\")\n",
    "data = data.set_index('Index')\n"
   ]
  },
  {
   "cell_type": "code",
   "execution_count": null,
   "metadata": {},
   "outputs": [],
   "source": [
    "merged = pd.merge(left=df, left_index=True,\n",
    "                  right=data, right_index=True,\n",
    "                  how='inner')"
   ]
  },
  {
   "cell_type": "code",
   "execution_count": null,
   "metadata": {},
   "outputs": [],
   "source": [
    "merged.head()"
   ]
  },
  {
   "cell_type": "code",
   "execution_count": null,
   "metadata": {},
   "outputs": [],
   "source": [
    "final = merged[[\"Date\",\"Tolls\",\"StartTime\",\"DayOfWeek\",\"isHoliday?\",\"No_of_Cars_y\",\"Predicted\"]]\n",
    "\n",
    "final[\"Inaccuracy\"] = abs(final[\"No_of_Cars_y\"] - final[\"Predicted\"])\n",
    "final[\"Precision\"] = final[\"Inaccuracy\"]/final[\"No_of_Cars_y\"]\n",
    "\n",
    "final = final.sort_values(\"Precision\", ascending=False)\n",
    "\n",
    "#final[(final[\"Precision\"]>1) & (final[\"No_of_Cars_y\"]>10)]"
   ]
  },
  {
   "cell_type": "code",
   "execution_count": null,
   "metadata": {},
   "outputs": [],
   "source": [
    "final.head()"
   ]
  },
  {
   "cell_type": "code",
   "execution_count": null,
   "metadata": {},
   "outputs": [],
   "source": [
    "final.to_csv(\"RF_Predictions.csv\", index=False)\n",
    "#del(final)\n",
    "del(test)\n",
    "del(merged)\n",
    "del(pred)\n",
    "del(data)"
   ]
  },
  {
   "cell_type": "code",
   "execution_count": null,
   "metadata": {},
   "outputs": [],
   "source": [
    "testing = final.reset_index()\n",
    "plt.figure(figsize=(20,8))\n",
    "plt.plot(testing[testing[\"Precision\"]>=1].No_of_Cars_y, label=\"Actual\")\n",
    "plt.plot(testing[testing[\"Precision\"]>=1].Predicted, label=\"Predicted\")\n",
    "plt.legend(loc=\"upper right\")\n",
    "plt.show()"
   ]
  },
  {
   "cell_type": "code",
   "execution_count": null,
   "metadata": {},
   "outputs": [],
   "source": [
    "#testing = final.reset_index()\n",
    "plt.figure(figsize=(20,8))\n",
    "plt.plot(testing[testing[\"Precision\"]<0.05].No_of_Cars_y.head(100), label=\"Actual\")\n",
    "plt.plot(testing[testing[\"Precision\"]<0.05].Predicted.head(100), label=\"Predicted\")\n",
    "plt.legend(loc=\"upper right\")\n",
    "plt.show()"
   ]
  },
  {
   "cell_type": "code",
   "execution_count": null,
   "metadata": {},
   "outputs": [],
   "source": [
    "testing[testing[\"Precision\"]<1].head()"
   ]
  },
  {
   "cell_type": "raw",
   "metadata": {},
   "source": [
    "abcd = pd.read_csv(\"hourly_details - Copy.csv\")\n",
    "\n",
    "abcd = abcd[abcd[\"StartTime\"].str.contains(\"09:00\")]\n",
    "\n",
    "abcd = abcd[abcd[\"Tollname\"]==\"Limerick Tunnel\"]\n",
    "\n",
    "abcd = abcd[abcd[\"Date\"].str.contains(\"2019\")]\n",
    "abcd = abcd[abcd[\"day\"].str.contains(\"Monday\")]\n",
    "\n",
    "#abcd = abcd[abcd[\"Date\"].str.contains(\"29-07\")]\n",
    "\n",
    "#print(len(abcd))\n",
    "abcd.loc[55328]\n",
    "#abcd"
   ]
  },
  {
   "cell_type": "markdown",
   "metadata": {},
   "source": [
    "### Grid Search"
   ]
  },
  {
   "cell_type": "code",
   "execution_count": null,
   "metadata": {},
   "outputs": [],
   "source": [
    "from sklearn.model_selection import GridSearchCV\n",
    "# Create the parameter grid based on the results of random search \n",
    "param_grid = {\n",
    "    'bootstrap': [True],\n",
    "    'max_depth': [80, 90, 100, 110],\n",
    "    'max_features': [2, 3],\n",
    "    'min_samples_leaf': [3, 4, 5],\n",
    "    'min_samples_split': [8, 10, 12],\n",
    "    'n_estimators': [100, 200, 300, 1000]\n",
    "}\n",
    "# Create a based model\n",
    "rf = RandomForestRegressor()\n",
    "# Instantiate the grid search model\n",
    "grid_search = GridSearchCV(estimator = rf, param_grid = param_grid, \n",
    "                          cv = 3, n_jobs = -1, verbose = 2)"
   ]
  },
  {
   "cell_type": "code",
   "execution_count": null,
   "metadata": {},
   "outputs": [],
   "source": [
    "grid_search.fit(x_train, y_train)\n",
    "grid_search.best_params_"
   ]
  },
  {
   "cell_type": "code",
   "execution_count": null,
   "metadata": {},
   "outputs": [],
   "source": [
    "'''\n",
    "best_params = {'bootstrap': True,\n",
    " 'max_depth': 80,\n",
    " 'max_features': 3,\n",
    " 'min_samples_leaf': 3,\n",
    " 'min_samples_split': 8,\n",
    " 'n_estimators': 1000}\n",
    " '''"
   ]
  },
  {
   "cell_type": "code",
   "execution_count": null,
   "metadata": {},
   "outputs": [],
   "source": [
    "best_grid = grid_search.best_estimator_\n",
    "model = best_grid.fit(x_train,y_train)"
   ]
  },
  {
   "cell_type": "code",
   "execution_count": null,
   "metadata": {},
   "outputs": [],
   "source": [
    "predictions = model.predict(x_test)"
   ]
  },
  {
   "cell_type": "code",
   "execution_count": null,
   "metadata": {},
   "outputs": [],
   "source": [
    "import math\n",
    "\n",
    "mse = mean_squared_error(y_test, predictions)\n",
    "rmse = math.sqrt(mse)\n",
    "rmse"
   ]
  },
  {
   "cell_type": "markdown",
   "metadata": {},
   "source": [
    "### Lazy Regressor"
   ]
  },
  {
   "cell_type": "code",
   "execution_count": null,
   "metadata": {},
   "outputs": [],
   "source": [
    "import numpy as np\n",
    "import pandas as pd\n",
    "from tqdm import tqdm\n",
    "import datetime\n",
    "import time\n",
    "import sklearn\n",
    "from sklearn.pipeline import Pipeline\n",
    "from sklearn.impute import SimpleImputer, MissingIndicator\n",
    "from sklearn.preprocessing import StandardScaler, OneHotEncoder\n",
    "from sklearn.compose import ColumnTransformer\n",
    "from sklearn.utils.testing import all_estimators\n",
    "from sklearn.base import RegressorMixin\n",
    "from sklearn.base import ClassifierMixin\n",
    "from sklearn.metrics import accuracy_score, balanced_accuracy_score, roc_auc_score, f1_score, r2_score, mean_squared_error\n",
    "import warnings\n",
    "import xgboost\n",
    "import lightgbm\n",
    "\n",
    "warnings.filterwarnings(\"ignore\")\n",
    "pd.set_option(\"display.precision\", 2)\n",
    "pd.set_option(\"display.float_format\", lambda x: '%.2f' % x)\n",
    "\n",
    "\n",
    "REGRESSORS = [est for est in all_estimators(\n",
    ") if issubclass(est[1], RegressorMixin)]\n",
    "\n",
    "removed_regressors = [('TheilSenRegressor', sklearn.linear_model.theil_sen.TheilSenRegressor),\n",
    " ('ARDRegression', sklearn.linear_model.ARDRegression),\n",
    " ('CCA', sklearn.cross_decomposition.CCA),\n",
    " ('IsotonicRegression', sklearn.isotonic.IsotonicRegression),\n",
    " ('MultiOutputRegressor', sklearn.multioutput.MultiOutputRegressor),\n",
    " ('MultiTaskElasticNet',\n",
    "  sklearn.linear_model.MultiTaskElasticNet),\n",
    " ('MultiTaskElasticNetCV',\n",
    "  sklearn.linear_model.MultiTaskElasticNetCV),\n",
    " ('MultiTaskLasso', sklearn.linear_model.MultiTaskLasso),\n",
    " ('MultiTaskLassoCV',\n",
    "  sklearn.linear_model.MultiTaskLassoCV),\n",
    " ('PLSCanonical', sklearn.cross_decomposition.PLSCanonical),\n",
    " ('PLSRegression', sklearn.cross_decomposition.PLSRegression),\n",
    " ('RadiusNeighborsRegressor',\n",
    "  sklearn.neighbors.RadiusNeighborsRegressor),\n",
    " ('RegressorChain', sklearn.multioutput.RegressorChain),\n",
    " ('VotingRegressor', sklearn.ensemble.VotingRegressor),\n",
    " ('_SigmoidCalibration', sklearn.calibration._SigmoidCalibration),\n",
    " ('GaussianProcessRegressor',  sklearn.gaussian_process._gpr.GaussianProcessRegressor),\n",
    " ('KernelRidge', sklearn.kernel_ridge.KernelRidge),\n",
    " ('NuSVR', sklearn.svm._classes.NuSVR),\n",
    " ('MLPRegressor', sklearn.neural_network._multilayer_perceptron.MLPRegressor),\n",
    " ('OrthogonalMatchingPursuit', sklearn.linear_model._omp.OrthogonalMatchingPursuit),\n",
    " ('OrthogonalMatchingPursuitCV', sklearn.linear_model._omp.OrthogonalMatchingPursuitCV),\n",
    " ('PassiveAggressiveRegressor', sklearn.linear_model._passive_aggressive.PassiveAggressiveRegressor),\n",
    " ('SVR', sklearn.svm._classes.SVR)\n",
    "]\n",
    "\n",
    "for i in removed_regressors:\n",
    "    REGRESSORS.pop(REGRESSORS.index(i))\n",
    "    \n",
    "\n",
    "REGRESSORS.append(('XGBRegressor', xgboost.XGBRegressor))\n",
    "REGRESSORS.append(('LGBMRegressor',lightgbm.LGBMRegressor))\n",
    "# REGRESSORS.append(('CatBoostRegressor',catboost.CatBoostRegressor))\n",
    "    \n",
    "numeric_transformer = Pipeline(steps=[\n",
    "    ('imputer', SimpleImputer(strategy='mean')),\n",
    "    ('scaler', StandardScaler())\n",
    "])\n",
    "\n",
    "categorical_transformer = Pipeline(steps=[\n",
    "    ('imputer', SimpleImputer(strategy='constant', fill_value='missing')),\n",
    "    ('encoding', OneHotEncoder(handle_unknown='ignore', sparse=False))\n",
    "])\n",
    "\n",
    "\n",
    "\n",
    "class LazyRegressor:\n",
    " \n",
    "    def __init__(self, verbose=0, ignore_warnings=True, custom_metric = None, predictions = False,random_state=100):\n",
    "        self.verbose = verbose\n",
    "        self.ignore_warnings = ignore_warnings\n",
    "        self.custom_metric = custom_metric\n",
    "        self.predictions = predictions\n",
    "        self.random_state = random_state\n",
    "\n",
    "    def fit(self, X_train, X_test, y_train, y_test):\n",
    "\n",
    "        R2 = []\n",
    "        RMSE = []\n",
    "        # WIN = []\n",
    "        names = []\n",
    "        TIME = []\n",
    "        predictions = {}\n",
    "        \n",
    "        if self.custom_metric != None:\n",
    "            CUSTOM_METRIC = []\n",
    "\n",
    "        if type(X_train) is np.ndarray:\n",
    "            X_train = pd.DataFrame(X_train)\n",
    "            X_test = pd.DataFrame(X_test)\n",
    "\n",
    "        numeric_features = X_train.select_dtypes(\n",
    "            include=['int64', 'float64', 'int32', 'float32']).columns\n",
    "        categorical_features = X_train.select_dtypes(\n",
    "            include=['object']).columns\n",
    "\n",
    "        preprocessor = ColumnTransformer(\n",
    "            transformers=[\n",
    "                ('numeric', numeric_transformer, numeric_features),\n",
    "                ('categorical', categorical_transformer, categorical_features)\n",
    "            ])\n",
    "        \n",
    "        print(REGRESSORS)\n",
    "        for name, model in tqdm(REGRESSORS):\n",
    "            start = time.time()\n",
    "            try:\n",
    "                if 'random_state' in model().get_params().keys():\n",
    "                    pipe = Pipeline(steps=[\n",
    "                        ('preprocessor', preprocessor),\n",
    "                        ('regressor', model(random_state = self.random_state))\n",
    "                    ])\n",
    "                else:\n",
    "                    pipe = Pipeline(steps=[\n",
    "                    ('preprocessor', preprocessor),\n",
    "                    ('regressor', model())\n",
    "                ])\n",
    "                pipe.fit(X_train, y_train)\n",
    "                y_pred = pipe.predict(X_test)\n",
    "                r_squared = r2_score(y_test, y_pred)\n",
    "                rmse = np.sqrt(mean_squared_error(y_test, y_pred))\n",
    "                names.append(name)\n",
    "                R2.append(r_squared)\n",
    "                RMSE.append(rmse)\n",
    "                TIME.append(time.time() - start)\n",
    "                if self.custom_metric != None:\n",
    "                    custom_metric = self.custom_metric(y_test, y_pred)\n",
    "                    CUSTOM_METRIC.append(custom_metric)\n",
    "\n",
    "                if self.verbose > 0:\n",
    "                    if self.custom_metric != None:\n",
    "                        print({\"Model\": name,\n",
    "                               \"R-Squared\": r_squared,\n",
    "                               \"RMSE\": rmse,\n",
    "                               self.custom_metric.__name__: custom_metric,\n",
    "                               \"Time taken\": time.time() - start})\n",
    "                    else:\n",
    "                        print({\"Model\": name,\n",
    "                               \"R-Squared\": r_squared,\n",
    "                               \"RMSE\": rmse,\n",
    "                               \"Time taken\": time.time() - start})\n",
    "                if self.predictions == True:\n",
    "                    predictions[name]=y_pred\n",
    "            except Exception as exception:\n",
    "                if self.ignore_warnings == False:\n",
    "                    print(name + \" model failed to execute\")\n",
    "                    print(exception)\n",
    "                    \n",
    "        if self.custom_metric == None:\n",
    "            scores = pd.DataFrame({\"Model\": names, \n",
    "                                   \"R-Squared\": R2, \n",
    "                                   \"RMSE\": RMSE,\n",
    "                                   \"Time Taken\": TIME})\n",
    "        else:\n",
    "            scores = pd.DataFrame({\"Model\": names, \n",
    "                                   \"R-Squared\": R2, \n",
    "                                   \"RMSE\": RMSE,\n",
    "                                   self.custom_metric.__name__: CUSTOM_METRIC,\n",
    "                                   \"Time Taken\": TIME})\n",
    "        scores = scores.sort_values(\n",
    "            by='R-Squared', ascending=False).set_index('Model')\n",
    "        \n",
    "        if self.predictions == True:\n",
    "            predictions_df = pd.DataFrame.from_dict(predictions)\n",
    "        return scores, predictions_df if self.predictions == True else scores\n",
    "\n",
    "Regression = LazyRegressor\n"
   ]
  },
  {
   "cell_type": "code",
   "execution_count": null,
   "metadata": {},
   "outputs": [],
   "source": [
    "from sklearn.utils import shuffle\n",
    "X, y = shuffle(df_x, df_y, random_state=100)\n",
    "X = X.astype(np.float32)\n",
    "offset = int(X.shape[0] * 0.9)\n",
    "X_train, y_train = X[:offset], y[:offset]\n",
    "X_test, y_test = X[offset:], y[offset:]\n",
    "reg = LazyRegressor(verbose=2,ignore_warnings=False, custom_metric=None )\n",
    "models,predictions = reg.fit(X_train, X_test, y_train, y_test)"
   ]
  },
  {
   "cell_type": "code",
   "execution_count": null,
   "metadata": {},
   "outputs": [],
   "source": [
    "models"
   ]
  },
  {
   "cell_type": "markdown",
   "metadata": {},
   "source": [
    "### Find the inaccuracies"
   ]
  },
  {
   "cell_type": "code",
   "execution_count": null,
   "metadata": {},
   "outputs": [],
   "source": [
    "data = pd.read_csv(\"RF_Predictions.csv\")"
   ]
  },
  {
   "cell_type": "code",
   "execution_count": null,
   "metadata": {},
   "outputs": [],
   "source": [
    "data.head()"
   ]
  },
  {
   "cell_type": "code",
   "execution_count": null,
   "metadata": {},
   "outputs": [],
   "source": [
    "verybadpreds = data[data[\"Precision\"]>0.5]"
   ]
  },
  {
   "cell_type": "code",
   "execution_count": null,
   "metadata": {},
   "outputs": [],
   "source": [
    "verybadpreds[\"DayOfWeek\"].value_counts()"
   ]
  },
  {
   "cell_type": "code",
   "execution_count": null,
   "metadata": {},
   "outputs": [],
   "source": [
    "data[\"isHoliday?\"].value_counts()"
   ]
  },
  {
   "cell_type": "code",
   "execution_count": null,
   "metadata": {},
   "outputs": [],
   "source": [
    "print(176/7487)\n",
    "print(24/165)"
   ]
  },
  {
   "cell_type": "code",
   "execution_count": null,
   "metadata": {},
   "outputs": [],
   "source": [
    "len(verybadpreds[verybadpreds[\"isHoliday?\"]==1])"
   ]
  },
  {
   "cell_type": "code",
   "execution_count": null,
   "metadata": {},
   "outputs": [],
   "source": []
  },
  {
   "cell_type": "markdown",
   "metadata": {},
   "source": [
    "### Each toll separately"
   ]
  },
  {
   "cell_type": "code",
   "execution_count": null,
   "metadata": {},
   "outputs": [],
   "source": [
    "df.head()"
   ]
  },
  {
   "cell_type": "code",
   "execution_count": null,
   "metadata": {},
   "outputs": [],
   "source": []
  }
 ],
 "metadata": {
  "kernelspec": {
   "display_name": "Python 3",
   "language": "python",
   "name": "python3"
  },
  "language_info": {
   "codemirror_mode": {
    "name": "ipython",
    "version": 3
   },
   "file_extension": ".py",
   "mimetype": "text/x-python",
   "name": "python",
   "nbconvert_exporter": "python",
   "pygments_lexer": "ipython3",
   "version": "3.7.7"
  }
 },
 "nbformat": 4,
 "nbformat_minor": 4
}
